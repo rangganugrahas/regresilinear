{
  "nbformat": 4,
  "nbformat_minor": 0,
  "metadata": {
    "colab": {
      "provenance": []
    },
    "kernelspec": {
      "name": "python3",
      "display_name": "Python 3"
    },
    "language_info": {
      "name": "python"
    }
  },
  "cells": [
    {
      "cell_type": "code",
      "execution_count": 1,
      "metadata": {
        "colab": {
          "base_uri": "https://localhost:8080/"
        },
        "id": "OCtPcJNYgufv",
        "outputId": "ed7cc948-a60d-42b5-dc2c-9bc16ce474c2"
      },
      "outputs": [
        {
          "output_type": "stream",
          "name": "stdout",
          "text": [
            "Mounted at /content/drive\n"
          ]
        }
      ],
      "source": [
        "from google.colab import drive #MEMANGGIL PACKAGE UNTUK PATH FILE\n",
        "drive.mount('/content/drive')"
      ]
    },
    {
      "cell_type": "code",
      "source": [
        "import pandas as pd #manipulasi data\n",
        "\n",
        "path ='/content/drive/MyDrive/CSV/pencemaran - Sheet1.csv' #PATH ATAU PEMANGGIL\n",
        "df = pd.read_csv(path) #DF DATA FRAME /UNTUK PENAMAAN BEBAS\n",
        "\n",
        "df.describe() #melihat data struktur"
      ],
      "metadata": {
        "colab": {
          "base_uri": "https://localhost:8080/",
          "height": 300
        },
        "id": "5olR8ChhiUcB",
        "outputId": "e3baddac-f458-47b7-d15a-b52d7c949a3a"
      },
      "execution_count": 2,
      "outputs": [
        {
          "output_type": "execute_result",
          "data": {
            "text/plain": [
              "           pm10        so2         co         o3        no2        max\n",
              "count  32.00000  32.000000  32.000000  32.000000  32.000000  32.000000\n",
              "mean   39.31250  21.812500  17.062500  35.437500   9.937500  42.031250\n",
              "std     9.52903  11.827899   6.767748  10.339207   4.157678  10.113818\n",
              "min    23.00000   7.000000   8.000000  23.000000   4.000000  25.000000\n",
              "25%    32.50000  10.750000  12.000000  29.750000   8.000000  35.750000\n",
              "50%    38.50000  22.500000  15.500000  33.000000   8.500000  39.500000\n",
              "75%    46.25000  28.250000  21.000000  38.750000  11.000000  46.250000\n",
              "max    61.00000  60.000000  36.000000  74.000000  20.000000  74.000000"
            ],
            "text/html": [
              "\n",
              "  <div id=\"df-4958da79-5ef5-4cab-b01f-6b2c2c5faf89\">\n",
              "    <div class=\"colab-df-container\">\n",
              "      <div>\n",
              "<style scoped>\n",
              "    .dataframe tbody tr th:only-of-type {\n",
              "        vertical-align: middle;\n",
              "    }\n",
              "\n",
              "    .dataframe tbody tr th {\n",
              "        vertical-align: top;\n",
              "    }\n",
              "\n",
              "    .dataframe thead th {\n",
              "        text-align: right;\n",
              "    }\n",
              "</style>\n",
              "<table border=\"1\" class=\"dataframe\">\n",
              "  <thead>\n",
              "    <tr style=\"text-align: right;\">\n",
              "      <th></th>\n",
              "      <th>pm10</th>\n",
              "      <th>so2</th>\n",
              "      <th>co</th>\n",
              "      <th>o3</th>\n",
              "      <th>no2</th>\n",
              "      <th>max</th>\n",
              "    </tr>\n",
              "  </thead>\n",
              "  <tbody>\n",
              "    <tr>\n",
              "      <th>count</th>\n",
              "      <td>32.00000</td>\n",
              "      <td>32.000000</td>\n",
              "      <td>32.000000</td>\n",
              "      <td>32.000000</td>\n",
              "      <td>32.000000</td>\n",
              "      <td>32.000000</td>\n",
              "    </tr>\n",
              "    <tr>\n",
              "      <th>mean</th>\n",
              "      <td>39.31250</td>\n",
              "      <td>21.812500</td>\n",
              "      <td>17.062500</td>\n",
              "      <td>35.437500</td>\n",
              "      <td>9.937500</td>\n",
              "      <td>42.031250</td>\n",
              "    </tr>\n",
              "    <tr>\n",
              "      <th>std</th>\n",
              "      <td>9.52903</td>\n",
              "      <td>11.827899</td>\n",
              "      <td>6.767748</td>\n",
              "      <td>10.339207</td>\n",
              "      <td>4.157678</td>\n",
              "      <td>10.113818</td>\n",
              "    </tr>\n",
              "    <tr>\n",
              "      <th>min</th>\n",
              "      <td>23.00000</td>\n",
              "      <td>7.000000</td>\n",
              "      <td>8.000000</td>\n",
              "      <td>23.000000</td>\n",
              "      <td>4.000000</td>\n",
              "      <td>25.000000</td>\n",
              "    </tr>\n",
              "    <tr>\n",
              "      <th>25%</th>\n",
              "      <td>32.50000</td>\n",
              "      <td>10.750000</td>\n",
              "      <td>12.000000</td>\n",
              "      <td>29.750000</td>\n",
              "      <td>8.000000</td>\n",
              "      <td>35.750000</td>\n",
              "    </tr>\n",
              "    <tr>\n",
              "      <th>50%</th>\n",
              "      <td>38.50000</td>\n",
              "      <td>22.500000</td>\n",
              "      <td>15.500000</td>\n",
              "      <td>33.000000</td>\n",
              "      <td>8.500000</td>\n",
              "      <td>39.500000</td>\n",
              "    </tr>\n",
              "    <tr>\n",
              "      <th>75%</th>\n",
              "      <td>46.25000</td>\n",
              "      <td>28.250000</td>\n",
              "      <td>21.000000</td>\n",
              "      <td>38.750000</td>\n",
              "      <td>11.000000</td>\n",
              "      <td>46.250000</td>\n",
              "    </tr>\n",
              "    <tr>\n",
              "      <th>max</th>\n",
              "      <td>61.00000</td>\n",
              "      <td>60.000000</td>\n",
              "      <td>36.000000</td>\n",
              "      <td>74.000000</td>\n",
              "      <td>20.000000</td>\n",
              "      <td>74.000000</td>\n",
              "    </tr>\n",
              "  </tbody>\n",
              "</table>\n",
              "</div>\n",
              "      <button class=\"colab-df-convert\" onclick=\"convertToInteractive('df-4958da79-5ef5-4cab-b01f-6b2c2c5faf89')\"\n",
              "              title=\"Convert this dataframe to an interactive table.\"\n",
              "              style=\"display:none;\">\n",
              "        \n",
              "  <svg xmlns=\"http://www.w3.org/2000/svg\" height=\"24px\"viewBox=\"0 0 24 24\"\n",
              "       width=\"24px\">\n",
              "    <path d=\"M0 0h24v24H0V0z\" fill=\"none\"/>\n",
              "    <path d=\"M18.56 5.44l.94 2.06.94-2.06 2.06-.94-2.06-.94-.94-2.06-.94 2.06-2.06.94zm-11 1L8.5 8.5l.94-2.06 2.06-.94-2.06-.94L8.5 2.5l-.94 2.06-2.06.94zm10 10l.94 2.06.94-2.06 2.06-.94-2.06-.94-.94-2.06-.94 2.06-2.06.94z\"/><path d=\"M17.41 7.96l-1.37-1.37c-.4-.4-.92-.59-1.43-.59-.52 0-1.04.2-1.43.59L10.3 9.45l-7.72 7.72c-.78.78-.78 2.05 0 2.83L4 21.41c.39.39.9.59 1.41.59.51 0 1.02-.2 1.41-.59l7.78-7.78 2.81-2.81c.8-.78.8-2.07 0-2.86zM5.41 20L4 18.59l7.72-7.72 1.47 1.35L5.41 20z\"/>\n",
              "  </svg>\n",
              "      </button>\n",
              "      \n",
              "  <style>\n",
              "    .colab-df-container {\n",
              "      display:flex;\n",
              "      flex-wrap:wrap;\n",
              "      gap: 12px;\n",
              "    }\n",
              "\n",
              "    .colab-df-convert {\n",
              "      background-color: #E8F0FE;\n",
              "      border: none;\n",
              "      border-radius: 50%;\n",
              "      cursor: pointer;\n",
              "      display: none;\n",
              "      fill: #1967D2;\n",
              "      height: 32px;\n",
              "      padding: 0 0 0 0;\n",
              "      width: 32px;\n",
              "    }\n",
              "\n",
              "    .colab-df-convert:hover {\n",
              "      background-color: #E2EBFA;\n",
              "      box-shadow: 0px 1px 2px rgba(60, 64, 67, 0.3), 0px 1px 3px 1px rgba(60, 64, 67, 0.15);\n",
              "      fill: #174EA6;\n",
              "    }\n",
              "\n",
              "    [theme=dark] .colab-df-convert {\n",
              "      background-color: #3B4455;\n",
              "      fill: #D2E3FC;\n",
              "    }\n",
              "\n",
              "    [theme=dark] .colab-df-convert:hover {\n",
              "      background-color: #434B5C;\n",
              "      box-shadow: 0px 1px 3px 1px rgba(0, 0, 0, 0.15);\n",
              "      filter: drop-shadow(0px 1px 2px rgba(0, 0, 0, 0.3));\n",
              "      fill: #FFFFFF;\n",
              "    }\n",
              "  </style>\n",
              "\n",
              "      <script>\n",
              "        const buttonEl =\n",
              "          document.querySelector('#df-4958da79-5ef5-4cab-b01f-6b2c2c5faf89 button.colab-df-convert');\n",
              "        buttonEl.style.display =\n",
              "          google.colab.kernel.accessAllowed ? 'block' : 'none';\n",
              "\n",
              "        async function convertToInteractive(key) {\n",
              "          const element = document.querySelector('#df-4958da79-5ef5-4cab-b01f-6b2c2c5faf89');\n",
              "          const dataTable =\n",
              "            await google.colab.kernel.invokeFunction('convertToInteractive',\n",
              "                                                     [key], {});\n",
              "          if (!dataTable) return;\n",
              "\n",
              "          const docLinkHtml = 'Like what you see? Visit the ' +\n",
              "            '<a target=\"_blank\" href=https://colab.research.google.com/notebooks/data_table.ipynb>data table notebook</a>'\n",
              "            + ' to learn more about interactive tables.';\n",
              "          element.innerHTML = '';\n",
              "          dataTable['output_type'] = 'display_data';\n",
              "          await google.colab.output.renderOutput(dataTable, element);\n",
              "          const docLink = document.createElement('div');\n",
              "          docLink.innerHTML = docLinkHtml;\n",
              "          element.appendChild(docLink);\n",
              "        }\n",
              "      </script>\n",
              "    </div>\n",
              "  </div>\n",
              "  "
            ]
          },
          "metadata": {},
          "execution_count": 2
        }
      ]
    },
    {
      "cell_type": "code",
      "source": [
        "df"
      ],
      "metadata": {
        "colab": {
          "base_uri": "https://localhost:8080/",
          "height": 1000
        },
        "id": "gSTe8mXlmwRs",
        "outputId": "bb6c8a64-7555-4efb-a3f0-40b1ae03d312"
      },
      "execution_count": 3,
      "outputs": [
        {
          "output_type": "execute_result",
          "data": {
            "text/plain": [
              "       tanggal               stasiun  pm10  so2  co  o3  no2  max critical  \\\n",
              "0   2020-01-01    DKI1 (Bunderan HI)    30   20  10  32    9   32       O3   \n",
              "1   2020-01-02    DKI1 (Bunderan HI)    27   22  12  29    8   29       O3   \n",
              "2   2020-01-03    DKI1 (Bunderan HI)    39   22  14  32   10   39     PM10   \n",
              "3   2020-01-04    DKI1 (Bunderan HI)    34   22  14  38   10   38       O3   \n",
              "4   2020-01-05    DKI1 (Bunderan HI)    35   22  12  31    9   35     PM10   \n",
              "5   2020-01-06    DKI1 (Bunderan HI)    46   23  16  32    9   46     PM10   \n",
              "6   2020-01-07    DKI1 (Bunderan HI)    37   23  26  33   11   37     PM10   \n",
              "7   2020-01-08    DKI1 (Bunderan HI)    41   26  20  30   11   41     PM10   \n",
              "8   2020-01-09    DKI1 (Bunderan HI)    52   23  29  24   12   52     PM10   \n",
              "9   2020-01-10    DKI1 (Bunderan HI)    24   24  18  25    8   25       O3   \n",
              "10  2020-01-11    DKI1 (Bunderan HI)    34   31  25  23    8   34     PM10   \n",
              "11  2020-01-12    DKI1 (Bunderan HI)    27   23   9  33    4   33       O3   \n",
              "12  2020-01-13    DKI1 (Bunderan HI)    33   26  12  36    8   36       O3   \n",
              "13  2020-01-14    DKI1 (Bunderan HI)    34   28  13  27    7   34     PM10   \n",
              "14  2020-01-15    DKI1 (Bunderan HI)    29   22  13  36    8   36       O3   \n",
              "15  2020-01-16    DKI1 (Bunderan HI)    52   60  19  30    8   60      SO2   \n",
              "16  2020-01-17    DKI1 (Bunderan HI)    51   34  21  74   20   74       O3   \n",
              "17  2020-01-18    DKI1 (Bunderan HI)    37   29  14  31    6   37     PM10   \n",
              "18  2020-01-19    DKI1 (Bunderan HI)    61   34  36  58   15   61     PM10   \n",
              "19  2020-01-20    DKI1 (Bunderan HI)    47   30  15  33    9   47     PM10   \n",
              "20  2020-01-21    DKI1 (Bunderan HI)    30   36  14  26    9   36      SO2   \n",
              "21  2020-01-22    DKI1 (Bunderan HI)    40   36  18  28   15   40     PM10   \n",
              "22  2020-01-29    DKI1 (Bunderan HI)    49   11  23  38   19   49     PM10   \n",
              "23  2020-01-30    DKI1 (Bunderan HI)    38   12  21  35   20   38     PM10   \n",
              "24  2020-01-31    DKI1 (Bunderan HI)    44   10  22  25   16   44     PM10   \n",
              "25  2020-01-01  DKI2 (Kelapa Gading)    31    7   8  41    5   41       O3   \n",
              "26  2020-01-02  DKI2 (Kelapa Gading)    23    7   9  35    6   35       O3   \n",
              "27  2020-01-03  DKI2 (Kelapa Gading)    47    7  16  45    8   47     PM10   \n",
              "28  2020-01-04  DKI2 (Kelapa Gading)    45    7  10  44    8   45     PM10   \n",
              "29  2020-01-05  DKI2 (Kelapa Gading)    41    7  11  44    6   44       O3   \n",
              "30  2020-01-06  DKI2 (Kelapa Gading)    54    7  16  41    8   54     PM10   \n",
              "31  2020-01-07  DKI2 (Kelapa Gading)    46    7  30  45    8   46     PM10   \n",
              "\n",
              "   categori  \n",
              "0      BAIK  \n",
              "1      BAIK  \n",
              "2      BAIK  \n",
              "3      BAIK  \n",
              "4      BAIK  \n",
              "5      BAIK  \n",
              "6      BAIK  \n",
              "7      BAIK  \n",
              "8    SEDANG  \n",
              "9      BAIK  \n",
              "10     BAIK  \n",
              "11     BAIK  \n",
              "12     BAIK  \n",
              "13     BAIK  \n",
              "14     BAIK  \n",
              "15   SEDANG  \n",
              "16   SEDANG  \n",
              "17     BAIK  \n",
              "18   SEDANG  \n",
              "19     BAIK  \n",
              "20     BAIK  \n",
              "21     BAIK  \n",
              "22     BAIK  \n",
              "23     BAIK  \n",
              "24     BAIK  \n",
              "25     BAIK  \n",
              "26     BAIK  \n",
              "27     BAIK  \n",
              "28     BAIK  \n",
              "29     BAIK  \n",
              "30   SEDANG  \n",
              "31     BAIK  "
            ],
            "text/html": [
              "\n",
              "  <div id=\"df-15384fc7-2583-4427-8690-037788ae41f8\">\n",
              "    <div class=\"colab-df-container\">\n",
              "      <div>\n",
              "<style scoped>\n",
              "    .dataframe tbody tr th:only-of-type {\n",
              "        vertical-align: middle;\n",
              "    }\n",
              "\n",
              "    .dataframe tbody tr th {\n",
              "        vertical-align: top;\n",
              "    }\n",
              "\n",
              "    .dataframe thead th {\n",
              "        text-align: right;\n",
              "    }\n",
              "</style>\n",
              "<table border=\"1\" class=\"dataframe\">\n",
              "  <thead>\n",
              "    <tr style=\"text-align: right;\">\n",
              "      <th></th>\n",
              "      <th>tanggal</th>\n",
              "      <th>stasiun</th>\n",
              "      <th>pm10</th>\n",
              "      <th>so2</th>\n",
              "      <th>co</th>\n",
              "      <th>o3</th>\n",
              "      <th>no2</th>\n",
              "      <th>max</th>\n",
              "      <th>critical</th>\n",
              "      <th>categori</th>\n",
              "    </tr>\n",
              "  </thead>\n",
              "  <tbody>\n",
              "    <tr>\n",
              "      <th>0</th>\n",
              "      <td>2020-01-01</td>\n",
              "      <td>DKI1 (Bunderan HI)</td>\n",
              "      <td>30</td>\n",
              "      <td>20</td>\n",
              "      <td>10</td>\n",
              "      <td>32</td>\n",
              "      <td>9</td>\n",
              "      <td>32</td>\n",
              "      <td>O3</td>\n",
              "      <td>BAIK</td>\n",
              "    </tr>\n",
              "    <tr>\n",
              "      <th>1</th>\n",
              "      <td>2020-01-02</td>\n",
              "      <td>DKI1 (Bunderan HI)</td>\n",
              "      <td>27</td>\n",
              "      <td>22</td>\n",
              "      <td>12</td>\n",
              "      <td>29</td>\n",
              "      <td>8</td>\n",
              "      <td>29</td>\n",
              "      <td>O3</td>\n",
              "      <td>BAIK</td>\n",
              "    </tr>\n",
              "    <tr>\n",
              "      <th>2</th>\n",
              "      <td>2020-01-03</td>\n",
              "      <td>DKI1 (Bunderan HI)</td>\n",
              "      <td>39</td>\n",
              "      <td>22</td>\n",
              "      <td>14</td>\n",
              "      <td>32</td>\n",
              "      <td>10</td>\n",
              "      <td>39</td>\n",
              "      <td>PM10</td>\n",
              "      <td>BAIK</td>\n",
              "    </tr>\n",
              "    <tr>\n",
              "      <th>3</th>\n",
              "      <td>2020-01-04</td>\n",
              "      <td>DKI1 (Bunderan HI)</td>\n",
              "      <td>34</td>\n",
              "      <td>22</td>\n",
              "      <td>14</td>\n",
              "      <td>38</td>\n",
              "      <td>10</td>\n",
              "      <td>38</td>\n",
              "      <td>O3</td>\n",
              "      <td>BAIK</td>\n",
              "    </tr>\n",
              "    <tr>\n",
              "      <th>4</th>\n",
              "      <td>2020-01-05</td>\n",
              "      <td>DKI1 (Bunderan HI)</td>\n",
              "      <td>35</td>\n",
              "      <td>22</td>\n",
              "      <td>12</td>\n",
              "      <td>31</td>\n",
              "      <td>9</td>\n",
              "      <td>35</td>\n",
              "      <td>PM10</td>\n",
              "      <td>BAIK</td>\n",
              "    </tr>\n",
              "    <tr>\n",
              "      <th>5</th>\n",
              "      <td>2020-01-06</td>\n",
              "      <td>DKI1 (Bunderan HI)</td>\n",
              "      <td>46</td>\n",
              "      <td>23</td>\n",
              "      <td>16</td>\n",
              "      <td>32</td>\n",
              "      <td>9</td>\n",
              "      <td>46</td>\n",
              "      <td>PM10</td>\n",
              "      <td>BAIK</td>\n",
              "    </tr>\n",
              "    <tr>\n",
              "      <th>6</th>\n",
              "      <td>2020-01-07</td>\n",
              "      <td>DKI1 (Bunderan HI)</td>\n",
              "      <td>37</td>\n",
              "      <td>23</td>\n",
              "      <td>26</td>\n",
              "      <td>33</td>\n",
              "      <td>11</td>\n",
              "      <td>37</td>\n",
              "      <td>PM10</td>\n",
              "      <td>BAIK</td>\n",
              "    </tr>\n",
              "    <tr>\n",
              "      <th>7</th>\n",
              "      <td>2020-01-08</td>\n",
              "      <td>DKI1 (Bunderan HI)</td>\n",
              "      <td>41</td>\n",
              "      <td>26</td>\n",
              "      <td>20</td>\n",
              "      <td>30</td>\n",
              "      <td>11</td>\n",
              "      <td>41</td>\n",
              "      <td>PM10</td>\n",
              "      <td>BAIK</td>\n",
              "    </tr>\n",
              "    <tr>\n",
              "      <th>8</th>\n",
              "      <td>2020-01-09</td>\n",
              "      <td>DKI1 (Bunderan HI)</td>\n",
              "      <td>52</td>\n",
              "      <td>23</td>\n",
              "      <td>29</td>\n",
              "      <td>24</td>\n",
              "      <td>12</td>\n",
              "      <td>52</td>\n",
              "      <td>PM10</td>\n",
              "      <td>SEDANG</td>\n",
              "    </tr>\n",
              "    <tr>\n",
              "      <th>9</th>\n",
              "      <td>2020-01-10</td>\n",
              "      <td>DKI1 (Bunderan HI)</td>\n",
              "      <td>24</td>\n",
              "      <td>24</td>\n",
              "      <td>18</td>\n",
              "      <td>25</td>\n",
              "      <td>8</td>\n",
              "      <td>25</td>\n",
              "      <td>O3</td>\n",
              "      <td>BAIK</td>\n",
              "    </tr>\n",
              "    <tr>\n",
              "      <th>10</th>\n",
              "      <td>2020-01-11</td>\n",
              "      <td>DKI1 (Bunderan HI)</td>\n",
              "      <td>34</td>\n",
              "      <td>31</td>\n",
              "      <td>25</td>\n",
              "      <td>23</td>\n",
              "      <td>8</td>\n",
              "      <td>34</td>\n",
              "      <td>PM10</td>\n",
              "      <td>BAIK</td>\n",
              "    </tr>\n",
              "    <tr>\n",
              "      <th>11</th>\n",
              "      <td>2020-01-12</td>\n",
              "      <td>DKI1 (Bunderan HI)</td>\n",
              "      <td>27</td>\n",
              "      <td>23</td>\n",
              "      <td>9</td>\n",
              "      <td>33</td>\n",
              "      <td>4</td>\n",
              "      <td>33</td>\n",
              "      <td>O3</td>\n",
              "      <td>BAIK</td>\n",
              "    </tr>\n",
              "    <tr>\n",
              "      <th>12</th>\n",
              "      <td>2020-01-13</td>\n",
              "      <td>DKI1 (Bunderan HI)</td>\n",
              "      <td>33</td>\n",
              "      <td>26</td>\n",
              "      <td>12</td>\n",
              "      <td>36</td>\n",
              "      <td>8</td>\n",
              "      <td>36</td>\n",
              "      <td>O3</td>\n",
              "      <td>BAIK</td>\n",
              "    </tr>\n",
              "    <tr>\n",
              "      <th>13</th>\n",
              "      <td>2020-01-14</td>\n",
              "      <td>DKI1 (Bunderan HI)</td>\n",
              "      <td>34</td>\n",
              "      <td>28</td>\n",
              "      <td>13</td>\n",
              "      <td>27</td>\n",
              "      <td>7</td>\n",
              "      <td>34</td>\n",
              "      <td>PM10</td>\n",
              "      <td>BAIK</td>\n",
              "    </tr>\n",
              "    <tr>\n",
              "      <th>14</th>\n",
              "      <td>2020-01-15</td>\n",
              "      <td>DKI1 (Bunderan HI)</td>\n",
              "      <td>29</td>\n",
              "      <td>22</td>\n",
              "      <td>13</td>\n",
              "      <td>36</td>\n",
              "      <td>8</td>\n",
              "      <td>36</td>\n",
              "      <td>O3</td>\n",
              "      <td>BAIK</td>\n",
              "    </tr>\n",
              "    <tr>\n",
              "      <th>15</th>\n",
              "      <td>2020-01-16</td>\n",
              "      <td>DKI1 (Bunderan HI)</td>\n",
              "      <td>52</td>\n",
              "      <td>60</td>\n",
              "      <td>19</td>\n",
              "      <td>30</td>\n",
              "      <td>8</td>\n",
              "      <td>60</td>\n",
              "      <td>SO2</td>\n",
              "      <td>SEDANG</td>\n",
              "    </tr>\n",
              "    <tr>\n",
              "      <th>16</th>\n",
              "      <td>2020-01-17</td>\n",
              "      <td>DKI1 (Bunderan HI)</td>\n",
              "      <td>51</td>\n",
              "      <td>34</td>\n",
              "      <td>21</td>\n",
              "      <td>74</td>\n",
              "      <td>20</td>\n",
              "      <td>74</td>\n",
              "      <td>O3</td>\n",
              "      <td>SEDANG</td>\n",
              "    </tr>\n",
              "    <tr>\n",
              "      <th>17</th>\n",
              "      <td>2020-01-18</td>\n",
              "      <td>DKI1 (Bunderan HI)</td>\n",
              "      <td>37</td>\n",
              "      <td>29</td>\n",
              "      <td>14</td>\n",
              "      <td>31</td>\n",
              "      <td>6</td>\n",
              "      <td>37</td>\n",
              "      <td>PM10</td>\n",
              "      <td>BAIK</td>\n",
              "    </tr>\n",
              "    <tr>\n",
              "      <th>18</th>\n",
              "      <td>2020-01-19</td>\n",
              "      <td>DKI1 (Bunderan HI)</td>\n",
              "      <td>61</td>\n",
              "      <td>34</td>\n",
              "      <td>36</td>\n",
              "      <td>58</td>\n",
              "      <td>15</td>\n",
              "      <td>61</td>\n",
              "      <td>PM10</td>\n",
              "      <td>SEDANG</td>\n",
              "    </tr>\n",
              "    <tr>\n",
              "      <th>19</th>\n",
              "      <td>2020-01-20</td>\n",
              "      <td>DKI1 (Bunderan HI)</td>\n",
              "      <td>47</td>\n",
              "      <td>30</td>\n",
              "      <td>15</td>\n",
              "      <td>33</td>\n",
              "      <td>9</td>\n",
              "      <td>47</td>\n",
              "      <td>PM10</td>\n",
              "      <td>BAIK</td>\n",
              "    </tr>\n",
              "    <tr>\n",
              "      <th>20</th>\n",
              "      <td>2020-01-21</td>\n",
              "      <td>DKI1 (Bunderan HI)</td>\n",
              "      <td>30</td>\n",
              "      <td>36</td>\n",
              "      <td>14</td>\n",
              "      <td>26</td>\n",
              "      <td>9</td>\n",
              "      <td>36</td>\n",
              "      <td>SO2</td>\n",
              "      <td>BAIK</td>\n",
              "    </tr>\n",
              "    <tr>\n",
              "      <th>21</th>\n",
              "      <td>2020-01-22</td>\n",
              "      <td>DKI1 (Bunderan HI)</td>\n",
              "      <td>40</td>\n",
              "      <td>36</td>\n",
              "      <td>18</td>\n",
              "      <td>28</td>\n",
              "      <td>15</td>\n",
              "      <td>40</td>\n",
              "      <td>PM10</td>\n",
              "      <td>BAIK</td>\n",
              "    </tr>\n",
              "    <tr>\n",
              "      <th>22</th>\n",
              "      <td>2020-01-29</td>\n",
              "      <td>DKI1 (Bunderan HI)</td>\n",
              "      <td>49</td>\n",
              "      <td>11</td>\n",
              "      <td>23</td>\n",
              "      <td>38</td>\n",
              "      <td>19</td>\n",
              "      <td>49</td>\n",
              "      <td>PM10</td>\n",
              "      <td>BAIK</td>\n",
              "    </tr>\n",
              "    <tr>\n",
              "      <th>23</th>\n",
              "      <td>2020-01-30</td>\n",
              "      <td>DKI1 (Bunderan HI)</td>\n",
              "      <td>38</td>\n",
              "      <td>12</td>\n",
              "      <td>21</td>\n",
              "      <td>35</td>\n",
              "      <td>20</td>\n",
              "      <td>38</td>\n",
              "      <td>PM10</td>\n",
              "      <td>BAIK</td>\n",
              "    </tr>\n",
              "    <tr>\n",
              "      <th>24</th>\n",
              "      <td>2020-01-31</td>\n",
              "      <td>DKI1 (Bunderan HI)</td>\n",
              "      <td>44</td>\n",
              "      <td>10</td>\n",
              "      <td>22</td>\n",
              "      <td>25</td>\n",
              "      <td>16</td>\n",
              "      <td>44</td>\n",
              "      <td>PM10</td>\n",
              "      <td>BAIK</td>\n",
              "    </tr>\n",
              "    <tr>\n",
              "      <th>25</th>\n",
              "      <td>2020-01-01</td>\n",
              "      <td>DKI2 (Kelapa Gading)</td>\n",
              "      <td>31</td>\n",
              "      <td>7</td>\n",
              "      <td>8</td>\n",
              "      <td>41</td>\n",
              "      <td>5</td>\n",
              "      <td>41</td>\n",
              "      <td>O3</td>\n",
              "      <td>BAIK</td>\n",
              "    </tr>\n",
              "    <tr>\n",
              "      <th>26</th>\n",
              "      <td>2020-01-02</td>\n",
              "      <td>DKI2 (Kelapa Gading)</td>\n",
              "      <td>23</td>\n",
              "      <td>7</td>\n",
              "      <td>9</td>\n",
              "      <td>35</td>\n",
              "      <td>6</td>\n",
              "      <td>35</td>\n",
              "      <td>O3</td>\n",
              "      <td>BAIK</td>\n",
              "    </tr>\n",
              "    <tr>\n",
              "      <th>27</th>\n",
              "      <td>2020-01-03</td>\n",
              "      <td>DKI2 (Kelapa Gading)</td>\n",
              "      <td>47</td>\n",
              "      <td>7</td>\n",
              "      <td>16</td>\n",
              "      <td>45</td>\n",
              "      <td>8</td>\n",
              "      <td>47</td>\n",
              "      <td>PM10</td>\n",
              "      <td>BAIK</td>\n",
              "    </tr>\n",
              "    <tr>\n",
              "      <th>28</th>\n",
              "      <td>2020-01-04</td>\n",
              "      <td>DKI2 (Kelapa Gading)</td>\n",
              "      <td>45</td>\n",
              "      <td>7</td>\n",
              "      <td>10</td>\n",
              "      <td>44</td>\n",
              "      <td>8</td>\n",
              "      <td>45</td>\n",
              "      <td>PM10</td>\n",
              "      <td>BAIK</td>\n",
              "    </tr>\n",
              "    <tr>\n",
              "      <th>29</th>\n",
              "      <td>2020-01-05</td>\n",
              "      <td>DKI2 (Kelapa Gading)</td>\n",
              "      <td>41</td>\n",
              "      <td>7</td>\n",
              "      <td>11</td>\n",
              "      <td>44</td>\n",
              "      <td>6</td>\n",
              "      <td>44</td>\n",
              "      <td>O3</td>\n",
              "      <td>BAIK</td>\n",
              "    </tr>\n",
              "    <tr>\n",
              "      <th>30</th>\n",
              "      <td>2020-01-06</td>\n",
              "      <td>DKI2 (Kelapa Gading)</td>\n",
              "      <td>54</td>\n",
              "      <td>7</td>\n",
              "      <td>16</td>\n",
              "      <td>41</td>\n",
              "      <td>8</td>\n",
              "      <td>54</td>\n",
              "      <td>PM10</td>\n",
              "      <td>SEDANG</td>\n",
              "    </tr>\n",
              "    <tr>\n",
              "      <th>31</th>\n",
              "      <td>2020-01-07</td>\n",
              "      <td>DKI2 (Kelapa Gading)</td>\n",
              "      <td>46</td>\n",
              "      <td>7</td>\n",
              "      <td>30</td>\n",
              "      <td>45</td>\n",
              "      <td>8</td>\n",
              "      <td>46</td>\n",
              "      <td>PM10</td>\n",
              "      <td>BAIK</td>\n",
              "    </tr>\n",
              "  </tbody>\n",
              "</table>\n",
              "</div>\n",
              "      <button class=\"colab-df-convert\" onclick=\"convertToInteractive('df-15384fc7-2583-4427-8690-037788ae41f8')\"\n",
              "              title=\"Convert this dataframe to an interactive table.\"\n",
              "              style=\"display:none;\">\n",
              "        \n",
              "  <svg xmlns=\"http://www.w3.org/2000/svg\" height=\"24px\"viewBox=\"0 0 24 24\"\n",
              "       width=\"24px\">\n",
              "    <path d=\"M0 0h24v24H0V0z\" fill=\"none\"/>\n",
              "    <path d=\"M18.56 5.44l.94 2.06.94-2.06 2.06-.94-2.06-.94-.94-2.06-.94 2.06-2.06.94zm-11 1L8.5 8.5l.94-2.06 2.06-.94-2.06-.94L8.5 2.5l-.94 2.06-2.06.94zm10 10l.94 2.06.94-2.06 2.06-.94-2.06-.94-.94-2.06-.94 2.06-2.06.94z\"/><path d=\"M17.41 7.96l-1.37-1.37c-.4-.4-.92-.59-1.43-.59-.52 0-1.04.2-1.43.59L10.3 9.45l-7.72 7.72c-.78.78-.78 2.05 0 2.83L4 21.41c.39.39.9.59 1.41.59.51 0 1.02-.2 1.41-.59l7.78-7.78 2.81-2.81c.8-.78.8-2.07 0-2.86zM5.41 20L4 18.59l7.72-7.72 1.47 1.35L5.41 20z\"/>\n",
              "  </svg>\n",
              "      </button>\n",
              "      \n",
              "  <style>\n",
              "    .colab-df-container {\n",
              "      display:flex;\n",
              "      flex-wrap:wrap;\n",
              "      gap: 12px;\n",
              "    }\n",
              "\n",
              "    .colab-df-convert {\n",
              "      background-color: #E8F0FE;\n",
              "      border: none;\n",
              "      border-radius: 50%;\n",
              "      cursor: pointer;\n",
              "      display: none;\n",
              "      fill: #1967D2;\n",
              "      height: 32px;\n",
              "      padding: 0 0 0 0;\n",
              "      width: 32px;\n",
              "    }\n",
              "\n",
              "    .colab-df-convert:hover {\n",
              "      background-color: #E2EBFA;\n",
              "      box-shadow: 0px 1px 2px rgba(60, 64, 67, 0.3), 0px 1px 3px 1px rgba(60, 64, 67, 0.15);\n",
              "      fill: #174EA6;\n",
              "    }\n",
              "\n",
              "    [theme=dark] .colab-df-convert {\n",
              "      background-color: #3B4455;\n",
              "      fill: #D2E3FC;\n",
              "    }\n",
              "\n",
              "    [theme=dark] .colab-df-convert:hover {\n",
              "      background-color: #434B5C;\n",
              "      box-shadow: 0px 1px 3px 1px rgba(0, 0, 0, 0.15);\n",
              "      filter: drop-shadow(0px 1px 2px rgba(0, 0, 0, 0.3));\n",
              "      fill: #FFFFFF;\n",
              "    }\n",
              "  </style>\n",
              "\n",
              "      <script>\n",
              "        const buttonEl =\n",
              "          document.querySelector('#df-15384fc7-2583-4427-8690-037788ae41f8 button.colab-df-convert');\n",
              "        buttonEl.style.display =\n",
              "          google.colab.kernel.accessAllowed ? 'block' : 'none';\n",
              "\n",
              "        async function convertToInteractive(key) {\n",
              "          const element = document.querySelector('#df-15384fc7-2583-4427-8690-037788ae41f8');\n",
              "          const dataTable =\n",
              "            await google.colab.kernel.invokeFunction('convertToInteractive',\n",
              "                                                     [key], {});\n",
              "          if (!dataTable) return;\n",
              "\n",
              "          const docLinkHtml = 'Like what you see? Visit the ' +\n",
              "            '<a target=\"_blank\" href=https://colab.research.google.com/notebooks/data_table.ipynb>data table notebook</a>'\n",
              "            + ' to learn more about interactive tables.';\n",
              "          element.innerHTML = '';\n",
              "          dataTable['output_type'] = 'display_data';\n",
              "          await google.colab.output.renderOutput(dataTable, element);\n",
              "          const docLink = document.createElement('div');\n",
              "          docLink.innerHTML = docLinkHtml;\n",
              "          element.appendChild(docLink);\n",
              "        }\n",
              "      </script>\n",
              "    </div>\n",
              "  </div>\n",
              "  "
            ]
          },
          "metadata": {},
          "execution_count": 3
        }
      ]
    },
    {
      "cell_type": "code",
      "source": [
        "import matplotlib.pyplot as plt #VISUALISASI DATA\n",
        "\n",
        "df.plot(kind='scatter', x='pm10', y='max')#untuk nama variable\n",
        "\n",
        "plt.title('indeks kesejahteraan warga')\n",
        "plt.xlabel('omzet')\n",
        "plt.ylabel('Indeks')\n",
        "plt.xlim(20, 65)\n",
        "plt.ylim(20, 80)\n",
        "plt.grid(True)\n",
        "plt.show()"
      ],
      "metadata": {
        "colab": {
          "base_uri": "https://localhost:8080/",
          "height": 295
        },
        "id": "VGGw21fSm0tQ",
        "outputId": "17337445-b979-4311-bbec-e03ee54fe30e"
      },
      "execution_count": 4,
      "outputs": [
        {
          "output_type": "display_data",
          "data": {
            "text/plain": [
              "<Figure size 432x288 with 1 Axes>"
            ],
            "image/png": "[encoded data removed]"
          },
          "metadata": {
            "needs_background": "light"
          }
        }
      ]
    },
    {
      "cell_type": "code",
      "source": [
        "import numpy as np\n",
        "X = np.array(df['pm10']) #Feature\n",
        "Y = np.array(df['max'])#target\n",
        "\n",
        "print(f'x : {X}') #DATA X ITU ADALAH VARIABLE INDEPENDENT ATAU BEBAS\n",
        "print(f'y : {Y}') #VAR Y ITU ADALAH VARIABLE TERIKAT/DEPENDENT"
      ],
      "metadata": {
        "colab": {
          "base_uri": "https://localhost:8080/"
        },
        "id": "DNIOv2HTbnZd",
        "outputId": "3bd63ac8-0b18-4681-c949-ea5efe8a6b90"
      },
      "execution_count": 5,
      "outputs": [
        {
          "output_type": "stream",
          "name": "stdout",
          "text": [
            "x : [30 27 39 34 35 46 37 41 52 24 34 27 33 34 29 52 51 37 61 47 30 40 49 38\n",
            " 44 31 23 47 45 41 54 46]\n",
            "y : [32 29 39 38 35 46 37 41 52 25 34 33 36 34 36 60 74 37 61 47 36 40 49 38\n",
            " 44 41 35 47 45 44 54 46]\n"
          ]
        }
      ]
    },
    {
      "cell_type": "code",
      "source": [
        "X = X.reshape(-1, 1) #Reshaping atau slice data\n",
        "X.shape"
      ],
      "metadata": {
        "colab": {
          "base_uri": "https://localhost:8080/"
        },
        "id": "5vDsfZGObvuX",
        "outputId": "552ca9db-9fbb-4dc8-bf78-957abf031cd0"
      },
      "execution_count": 6,
      "outputs": [
        {
          "output_type": "execute_result",
          "data": {
            "text/plain": [
              "(32, 1)"
            ]
          },
          "metadata": {},
          "execution_count": 6
        }
      ]
    },
    {
      "cell_type": "code",
      "source": [
        "X"
      ],
      "metadata": {
        "colab": {
          "base_uri": "https://localhost:8080/"
        },
        "id": "Wyync28sbxRX",
        "outputId": "53d84751-2a0f-4f2d-da41-0ef9259c8cf1"
      },
      "execution_count": 7,
      "outputs": [
        {
          "output_type": "execute_result",
          "data": {
            "text/plain": [
              "array([[30],\n",
              "       [27],\n",
              "       [39],\n",
              "       [34],\n",
              "       [35],\n",
              "       [46],\n",
              "       [37],\n",
              "       [41],\n",
              "       [52],\n",
              "       [24],\n",
              "       [34],\n",
              "       [27],\n",
              "       [33],\n",
              "       [34],\n",
              "       [29],\n",
              "       [52],\n",
              "       [51],\n",
              "       [37],\n",
              "       [61],\n",
              "       [47],\n",
              "       [30],\n",
              "       [40],\n",
              "       [49],\n",
              "       [38],\n",
              "       [44],\n",
              "       [31],\n",
              "       [23],\n",
              "       [47],\n",
              "       [45],\n",
              "       [41],\n",
              "       [54],\n",
              "       [46]])"
            ]
          },
          "metadata": {},
          "execution_count": 7
        }
      ]
    },
    {
      "cell_type": "code",
      "source": [
        "#training model\n",
        "from sklearn.linear_model import LinearRegression #MEMANGGIL MODEL REGRESI LINEAR\n",
        "\n",
        "model = LinearRegression() #VARIABLE MODEL BISA DIGANTI\n",
        "model.fit(X, Y) #X feature , y target\n",
        "#(PROSES NILAI X) --> = Y (TARGET)\n",
        "\n",
        "#menjadi training model"
      ],
      "metadata": {
        "colab": {
          "base_uri": "https://localhost:8080/"
        },
        "id": "efTI1yWgbx9-",
        "outputId": "97ad5f26-0767-477f-9b87-57810d03ca27"
      },
      "execution_count": 8,
      "outputs": [
        {
          "output_type": "execute_result",
          "data": {
            "text/plain": [
              "LinearRegression()"
            ]
          },
          "metadata": {},
          "execution_count": 8
        }
      ]
    },
    {
      "cell_type": "code",
      "source": [
        "X_vis = np.array([0, 100]).reshape(-1, 1) #pembuat garis merah dari X\n",
        "Y_vis = model.predict(X_vis) #MODEL MACHINE LEARNING"
      ],
      "metadata": {
        "id": "M0-I3W1Ub4uB"
      },
      "execution_count": 9,
      "outputs": []
    },
    {
      "cell_type": "code",
      "source": [
        "plt.scatter(X, Y)\n",
        "plt.plot(X_vis, Y_vis, '-r')\n",
        "plt.title('indeks kesejahteraan warga')\n",
        "plt.xlabel('omzet')\n",
        "plt.ylabel('volume')\n",
        "plt.xlim(20, 65)\n",
        "plt.ylim(20, 70)\n",
        "plt.grid(True)\n",
        "plt.show()"
      ],
      "metadata": {
        "colab": {
          "base_uri": "https://localhost:8080/",
          "height": 295
        },
        "id": "oVIxb5qJcArB",
        "outputId": "d97043e0-ac1d-4728-d081-680fba7d7d48"
      },
      "execution_count": 10,
      "outputs": [
        {
          "output_type": "display_data",
          "data": {
            "text/plain": [
              "<Figure size 432x288 with 1 Axes>"
            ],
            "image/png": "[encoded data removed]"
          },
          "metadata": {
            "needs_background": "light"
          }
        }
      ]
    },
    {
      "cell_type": "code",
      "source": [
        "fig = plt.figure()\n",
        "ax = fig.add_axes([0,0,1,1])\n",
        "indeks =['pm10','so2','co','o3','no2','max']\n",
        "jumlah =[1258, 698, 1258, 1134, 318, 1345]\n",
        "c = ['green', 'red', 'yellow', 'purple', 'grey']\n",
        "plt.title(\"Data pencemaran\")\n",
        "plt.xlabel(\"perusahaan\")\n",
        "plt.ylabel(\"nilai\")\n",
        "plt.bar(indeks, jumlah, color = c)\n",
        "plt.grid(True)\n",
        "plt.show\n",
        "print()\n",
        "import matplotlib.pyplot as plt\n",
        "fig = plt.figure()\n",
        "ax = fig.add_axes([0,0,1,1])\n",
        "ax.axis('equal')\n",
        "plt.title(\"Data pencemaran\")\n",
        "nama =['pm10','so2','co','o3','no2','max']\n",
        "jml =[1258, 698, 1258, 1134, 318, 1345]\n",
        "ax.pie(jml,labels=nama,autopct='%1.2f%%')\n",
        "plt.show()"
      ],
      "metadata": {
        "colab": {
          "base_uri": "https://localhost:8080/",
          "height": 701
        },
        "id": "5JLrxMQlcMqD",
        "outputId": "93603847-feb9-41bb-a5c8-657c3863f46e"
      },
      "execution_count": 26,
      "outputs": [
        {
          "output_type": "stream",
          "name": "stdout",
          "text": [
            "\n"
          ]
        },
        {
          "output_type": "display_data",
          "data": {
            "text/plain": [
              "<Figure size 432x288 with 1 Axes>"
            ],
            "image/png": "[encoded data removed]"
          },
          "metadata": {
            "needs_background": "light"
          }
        },
        {
          "output_type": "display_data",
          "data": {
            "text/plain": [
              "<Figure size 432x288 with 1 Axes>"
            ],
            "image/png": "[encoded data removed]"
          },
          "metadata": {}
        }
      ]
    },
    {
      "cell_type": "code",
      "source": [
        "print(f'intercept : {model.intercept_}')\n",
        "print(f'slope : {model.coef_}')\n",
        "# alpha = Intercept merupakan tiitk dari sumbu Y garis linier nilai X ketika 0\n",
        "# beta = nilai slope berpengaruh terhadap kemiringan garis linier yang terbentuk"
      ],
      "metadata": {
        "colab": {
          "base_uri": "https://localhost:8080/"
        },
        "id": "kHAN4TUCdT-0",
        "outputId": "87e97689-6e39-4798-8bbb-65b967b5c3ff"
      },
      "execution_count": 27,
      "outputs": [
        {
          "output_type": "stream",
          "name": "stdout",
          "text": [
            "intercept : 5.5704294151605325\n",
            "slope : [0.92746125]\n"
          ]
        }
      ]
    },
    {
      "cell_type": "code",
      "source": [
        "#Prediksi Sample Data\n",
        "jml_penduduk = np.array([32,  42, 52, 62, 72]).reshape(-1, 1)\n",
        "jml_penduduk"
      ],
      "metadata": {
        "colab": {
          "base_uri": "https://localhost:8080/"
        },
        "id": "8PiXPS55da3k",
        "outputId": "65f23068-1a03-4520-fde7-30bdad69b082"
      },
      "execution_count": 28,
      "outputs": [
        {
          "output_type": "execute_result",
          "data": {
            "text/plain": [
              "array([[32],\n",
              "       [42],\n",
              "       [52],\n",
              "       [62],\n",
              "       [72]])"
            ]
          },
          "metadata": {},
          "execution_count": 28
        }
      ]
    },
    {
      "cell_type": "code",
      "source": [
        "prediksi_indeks = model.predict(jml_penduduk)\n",
        "prediksi_indeks"
      ],
      "metadata": {
        "colab": {
          "base_uri": "https://localhost:8080/"
        },
        "id": "TWvaIBnndebd",
        "outputId": "7d52199c-e160-44ba-8c5e-142854c17f66"
      },
      "execution_count": 29,
      "outputs": [
        {
          "output_type": "execute_result",
          "data": {
            "text/plain": [
              "array([35.24918957, 44.52380212, 53.79841467, 63.07302722, 72.34763977])"
            ]
          },
          "metadata": {},
          "execution_count": 29
        }
      ]
    },
    {
      "cell_type": "code",
      "source": [
        "for penduduk, index in zip(jml_penduduk, prediksi_indeks):\n",
        "  print(f'Jumlah Penduduk : {penduduk} prediksi indeks : {index}z')"
      ],
      "metadata": {
        "colab": {
          "base_uri": "https://localhost:8080/"
        },
        "id": "1TJXvE_tdiAf",
        "outputId": "804d951c-2bdd-438f-f69a-a1f5bb5efc71"
      },
      "execution_count": 30,
      "outputs": [
        {
          "output_type": "stream",
          "name": "stdout",
          "text": [
            "Jumlah Penduduk : [32] prediksi indeks : 35.249189573249254z\n",
            "Jumlah Penduduk : [42] prediksi indeks : 44.52380212265198z\n",
            "Jumlah Penduduk : [52] prediksi indeks : 53.798414672054705z\n",
            "Jumlah Penduduk : [62] prediksi indeks : 63.07302722145743z\n",
            "Jumlah Penduduk : [72] prediksi indeks : 72.34763977086016z\n"
          ]
        }
      ]
    },
    {
      "cell_type": "code",
      "source": [
        "\n",
        "df['pm10'].sum()"
      ],
      "metadata": {
        "colab": {
          "base_uri": "https://localhost:8080/"
        },
        "id": "gMYl81J96WKJ",
        "outputId": "00835c29-77b0-4af3-9893-d5a86172acf0"
      },
      "execution_count": 33,
      "outputs": [
        {
          "output_type": "execute_result",
          "data": {
            "text/plain": [
              "1258"
            ]
          },
          "metadata": {},
          "execution_count": 33
        }
      ]
    },
    {
      "cell_type": "code",
      "source": [
        "\n",
        "df['so2'].sum()"
      ],
      "metadata": {
        "colab": {
          "base_uri": "https://localhost:8080/"
        },
        "id": "ctvsxEx36151",
        "outputId": "d7a89477-61c6-472c-e1ab-b2305c7c5f45"
      },
      "execution_count": 34,
      "outputs": [
        {
          "output_type": "execute_result",
          "data": {
            "text/plain": [
              "698"
            ]
          },
          "metadata": {},
          "execution_count": 34
        }
      ]
    },
    {
      "cell_type": "code",
      "source": [
        "\n",
        "df['co'].sum()"
      ],
      "metadata": {
        "colab": {
          "base_uri": "https://localhost:8080/"
        },
        "id": "slpI5PlD62XU",
        "outputId": "00ed2ca3-9e56-403c-fe06-d01eccdfae80"
      },
      "execution_count": 35,
      "outputs": [
        {
          "output_type": "execute_result",
          "data": {
            "text/plain": [
              "546"
            ]
          },
          "metadata": {},
          "execution_count": 35
        }
      ]
    },
    {
      "cell_type": "code",
      "source": [
        "\n",
        "df['o3'].sum()"
      ],
      "metadata": {
        "colab": {
          "base_uri": "https://localhost:8080/"
        },
        "id": "M-2qfyyk62kl",
        "outputId": "af766170-35cb-46d0-9ba8-911df6a6988b"
      },
      "execution_count": 36,
      "outputs": [
        {
          "output_type": "execute_result",
          "data": {
            "text/plain": [
              "1134"
            ]
          },
          "metadata": {},
          "execution_count": 36
        }
      ]
    },
    {
      "cell_type": "code",
      "source": [
        "\n",
        "df['no2'].sum()"
      ],
      "metadata": {
        "colab": {
          "base_uri": "https://localhost:8080/"
        },
        "id": "O5C6YZTN7PNH",
        "outputId": "5ff07e2c-9b3d-4eb1-f4ac-e5b9d7d452ba"
      },
      "execution_count": 37,
      "outputs": [
        {
          "output_type": "execute_result",
          "data": {
            "text/plain": [
              "318"
            ]
          },
          "metadata": {},
          "execution_count": 37
        }
      ]
    },
    {
      "cell_type": "code",
      "source": [
        "\n",
        "df['max'].sum()"
      ],
      "metadata": {
        "colab": {
          "base_uri": "https://localhost:8080/"
        },
        "id": "0ZCmZZcL7P6v",
        "outputId": "28359099-8eff-477e-aa76-6f72203ba852"
      },
      "execution_count": 38,
      "outputs": [
        {
          "output_type": "execute_result",
          "data": {
            "text/plain": [
              "1345"
            ]
          },
          "metadata": {},
          "execution_count": 38
        }
      ]
    }
  ]
}