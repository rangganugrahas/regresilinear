{
  "nbformat": 4,
  "nbformat_minor": 0,
  "metadata": {
    "colab": {
      "provenance": []
    },
    "kernelspec": {
      "name": "python3",
      "display_name": "Python 3"
    },
    "language_info": {
      "name": "python"
    }
  },
  "cells": [
    {
      "cell_type": "code",
      "execution_count": 1,
      "metadata": {
        "colab": {
          "base_uri": "https://localhost:8080/"
        },
        "id": "uGSmUgvt2Nvn",
        "outputId": "cd272d09-4a46-453c-f3f7-ca37ae326e83"
      },
      "outputs": [
        {
          "output_type": "stream",
          "name": "stdout",
          "text": [
            "Mounted at /content/drive\n"
          ]
        }
      ],
      "source": [
        "from google.colab import drive #MEMANGGIL PACKAGE UNTUK PATH FILE\n",
        "drive.mount('/content/drive')"
      ]
    },
    {
      "cell_type": "code",
      "source": [
        "import pandas as pd #manipulasi data\n",
        "\n",
        "path ='/content/drive/MyDrive/CSV/sehat - Sheet1.csv' #PATH ATAU PEMANGGIL\n",
        "df = pd.read_csv(path) #DF DATA FRAME /UNTUK PENAMAAN BEBAS\n",
        "\n",
        "df.describe() #melihat data struktur"
      ],
      "metadata": {
        "colab": {
          "base_uri": "https://localhost:8080/",
          "height": 300
        },
        "id": "7RivYrVT2hAn",
        "outputId": "cf181d38-c58f-4c48-f18d-dbf436d6bea8"
      },
      "execution_count": 2,
      "outputs": [
        {
          "output_type": "execute_result",
          "data": {
            "text/plain": [
              "       Jumlah Rumah  Jumlah Rumah Memenuhi Syarat (Rumah Sehat)\n",
              "count     30.000000                                   30.000000\n",
              "mean   15311.566667                                13154.500000\n",
              "std     5580.793181                                 4562.906452\n",
              "min     5482.000000                                 4990.000000\n",
              "25%    12155.500000                                 9906.500000\n",
              "50%    15065.500000                                14094.000000\n",
              "75%    18984.000000                                16068.000000\n",
              "max    28704.000000                                21984.000000"
            ],
            "text/html": [
              "\n",
              "  <div id=\"df-595e7333-c869-4303-8d4c-2c10681379d3\">\n",
              "    <div class=\"colab-df-container\">\n",
              "      <div>\n",
              "<style scoped>\n",
              "    .dataframe tbody tr th:only-of-type {\n",
              "        vertical-align: middle;\n",
              "    }\n",
              "\n",
              "    .dataframe tbody tr th {\n",
              "        vertical-align: top;\n",
              "    }\n",
              "\n",
              "    .dataframe thead th {\n",
              "        text-align: right;\n",
              "    }\n",
              "</style>\n",
              "<table border=\"1\" class=\"dataframe\">\n",
              "  <thead>\n",
              "    <tr style=\"text-align: right;\">\n",
              "      <th></th>\n",
              "      <th>Jumlah Rumah</th>\n",
              "      <th>Jumlah Rumah Memenuhi Syarat (Rumah Sehat)</th>\n",
              "    </tr>\n",
              "  </thead>\n",
              "  <tbody>\n",
              "    <tr>\n",
              "      <th>count</th>\n",
              "      <td>30.000000</td>\n",
              "      <td>30.000000</td>\n",
              "    </tr>\n",
              "    <tr>\n",
              "      <th>mean</th>\n",
              "      <td>15311.566667</td>\n",
              "      <td>13154.500000</td>\n",
              "    </tr>\n",
              "    <tr>\n",
              "      <th>std</th>\n",
              "      <td>5580.793181</td>\n",
              "      <td>4562.906452</td>\n",
              "    </tr>\n",
              "    <tr>\n",
              "      <th>min</th>\n",
              "      <td>5482.000000</td>\n",
              "      <td>4990.000000</td>\n",
              "    </tr>\n",
              "    <tr>\n",
              "      <th>25%</th>\n",
              "      <td>12155.500000</td>\n",
              "      <td>9906.500000</td>\n",
              "    </tr>\n",
              "    <tr>\n",
              "      <th>50%</th>\n",
              "      <td>15065.500000</td>\n",
              "      <td>14094.000000</td>\n",
              "    </tr>\n",
              "    <tr>\n",
              "      <th>75%</th>\n",
              "      <td>18984.000000</td>\n",
              "      <td>16068.000000</td>\n",
              "    </tr>\n",
              "    <tr>\n",
              "      <th>max</th>\n",
              "      <td>28704.000000</td>\n",
              "      <td>21984.000000</td>\n",
              "    </tr>\n",
              "  </tbody>\n",
              "</table>\n",
              "</div>\n",
              "      <button class=\"colab-df-convert\" onclick=\"convertToInteractive('df-595e7333-c869-4303-8d4c-2c10681379d3')\"\n",
              "              title=\"Convert this dataframe to an interactive table.\"\n",
              "              style=\"display:none;\">\n",
              "        \n",
              "  <svg xmlns=\"http://www.w3.org/2000/svg\" height=\"24px\"viewBox=\"0 0 24 24\"\n",
              "       width=\"24px\">\n",
              "    <path d=\"M0 0h24v24H0V0z\" fill=\"none\"/>\n",
              "    <path d=\"M18.56 5.44l.94 2.06.94-2.06 2.06-.94-2.06-.94-.94-2.06-.94 2.06-2.06.94zm-11 1L8.5 8.5l.94-2.06 2.06-.94-2.06-.94L8.5 2.5l-.94 2.06-2.06.94zm10 10l.94 2.06.94-2.06 2.06-.94-2.06-.94-.94-2.06-.94 2.06-2.06.94z\"/><path d=\"M17.41 7.96l-1.37-1.37c-.4-.4-.92-.59-1.43-.59-.52 0-1.04.2-1.43.59L10.3 9.45l-7.72 7.72c-.78.78-.78 2.05 0 2.83L4 21.41c.39.39.9.59 1.41.59.51 0 1.02-.2 1.41-.59l7.78-7.78 2.81-2.81c.8-.78.8-2.07 0-2.86zM5.41 20L4 18.59l7.72-7.72 1.47 1.35L5.41 20z\"/>\n",
              "  </svg>\n",
              "      </button>\n",
              "      \n",
              "  <style>\n",
              "    .colab-df-container {\n",
              "      display:flex;\n",
              "      flex-wrap:wrap;\n",
              "      gap: 12px;\n",
              "    }\n",
              "\n",
              "    .colab-df-convert {\n",
              "      background-color: #E8F0FE;\n",
              "      border: none;\n",
              "      border-radius: 50%;\n",
              "      cursor: pointer;\n",
              "      display: none;\n",
              "      fill: #1967D2;\n",
              "      height: 32px;\n",
              "      padding: 0 0 0 0;\n",
              "      width: 32px;\n",
              "    }\n",
              "\n",
              "    .colab-df-convert:hover {\n",
              "      background-color: #E2EBFA;\n",
              "      box-shadow: 0px 1px 2px rgba(60, 64, 67, 0.3), 0px 1px 3px 1px rgba(60, 64, 67, 0.15);\n",
              "      fill: #174EA6;\n",
              "    }\n",
              "\n",
              "    [theme=dark] .colab-df-convert {\n",
              "      background-color: #3B4455;\n",
              "      fill: #D2E3FC;\n",
              "    }\n",
              "\n",
              "    [theme=dark] .colab-df-convert:hover {\n",
              "      background-color: #434B5C;\n",
              "      box-shadow: 0px 1px 3px 1px rgba(0, 0, 0, 0.15);\n",
              "      filter: drop-shadow(0px 1px 2px rgba(0, 0, 0, 0.3));\n",
              "      fill: #FFFFFF;\n",
              "    }\n",
              "  </style>\n",
              "\n",
              "      <script>\n",
              "        const buttonEl =\n",
              "          document.querySelector('#df-595e7333-c869-4303-8d4c-2c10681379d3 button.colab-df-convert');\n",
              "        buttonEl.style.display =\n",
              "          google.colab.kernel.accessAllowed ? 'block' : 'none';\n",
              "\n",
              "        async function convertToInteractive(key) {\n",
              "          const element = document.querySelector('#df-595e7333-c869-4303-8d4c-2c10681379d3');\n",
              "          const dataTable =\n",
              "            await google.colab.kernel.invokeFunction('convertToInteractive',\n",
              "                                                     [key], {});\n",
              "          if (!dataTable) return;\n",
              "\n",
              "          const docLinkHtml = 'Like what you see? Visit the ' +\n",
              "            '<a target=\"_blank\" href=https://colab.research.google.com/notebooks/data_table.ipynb>data table notebook</a>'\n",
              "            + ' to learn more about interactive tables.';\n",
              "          element.innerHTML = '';\n",
              "          dataTable['output_type'] = 'display_data';\n",
              "          await google.colab.output.renderOutput(dataTable, element);\n",
              "          const docLink = document.createElement('div');\n",
              "          docLink.innerHTML = docLinkHtml;\n",
              "          element.appendChild(docLink);\n",
              "        }\n",
              "      </script>\n",
              "    </div>\n",
              "  </div>\n",
              "  "
            ]
          },
          "metadata": {},
          "execution_count": 2
        }
      ]
    },
    {
      "cell_type": "code",
      "source": [
        "df"
      ],
      "metadata": {
        "colab": {
          "base_uri": "https://localhost:8080/",
          "height": 990
        },
        "id": "2Pf8raP42zUl",
        "outputId": "56b23820-28d8-4de9-eb9a-3e2b3c33b980"
      },
      "execution_count": 3,
      "outputs": [
        {
          "output_type": "execute_result",
          "data": {
            "text/plain": [
              "   Kode Kecamatan         Kecamatan          UPT Puskesmas  Jumlah Rumah  \\\n",
              "0        32.73.05             Andir             UPT Garuda         11454   \n",
              "1        32.73.20          Antapani     UPT Griya Antapani         17467   \n",
              "2        32.73.24         Arcamanik          UPT Arcamanik         15165   \n",
              "3        32.73.10       Astanaanyar           UPT Pagarsih         12971   \n",
              "4        32.73.03   Babakan Ciparay           UPT Caringin         28704   \n",
              "5        32.73.21     Bandung Kidul         UPT Kujangsari         12721   \n",
              "6        32.73.15     Bandung Kulon            UPT Cibuntu         23526   \n",
              "7        32.73.09     Bandung Wetan              UPT Salam          5536   \n",
              "8        32.73.12       Batununggal        UPT Ibrahim Aji         19159   \n",
              "9        32.73.04   Bojongloa Kaler            UPT Cetarip         20823   \n",
              "10       32.73.17   Bojongloa Kidul               UPT Kopo         14436   \n",
              "11       32.73.22          Buahbatu     UPT Margahayu Raya         23429   \n",
              "12       32.73.18  Cibeunying Kaler          UPT Neglasari         13259   \n",
              "13       32.73.14  Cibeunying Kidul           UPT Padasuka         19384   \n",
              "14       32.73.25            Cibiru             UPT Cibiru         14966   \n",
              "15       32.73.06           Cicendo        UPT Pasirkaliki         18184   \n",
              "16       32.73.08           Cidadap        UPT Ciumbuleuit          8979   \n",
              "17       32.73.29           Cinambo            UPT Cinambo          5482   \n",
              "18       32.73.02           Coblong              UPT Puter         21255   \n",
              "19       32.73.27          Gedebage      UPT Riung Bandung          8378   \n",
              "20       32.73.16      Kiaracondong       UPT Babakan Sari         21244   \n",
              "21       32.73.13          Lengkong        UPT Talagabodas         12960   \n",
              "22       32.73.30       Mandalajati        UPT Sindangjaya         14214   \n",
              "23       32.73.28       Panyileukan          UPT Panghegar          7994   \n",
              "24       32.73.23         Rancasari        UPT Cipamokolan         15528   \n",
              "25       32.73.11             Regol           UPT Pasundan         11967   \n",
              "26       32.73.07          Sukajadi           UPT Sukajadi         18459   \n",
              "27       32.73.01          Sukasari           UPT Sukarasa         15240   \n",
              "28       32.73.19     Sumur Bandung           UPT Tamblong          8612   \n",
              "29       32.73.26       Ujungberung  UPT Ujungberung Indah         17851   \n",
              "\n",
              "    Jumlah Rumah Memenuhi Syarat (Rumah Sehat)  \n",
              "0                                        10256  \n",
              "1                                        16398  \n",
              "2                                        14283  \n",
              "3                                         9790  \n",
              "4                                        19462  \n",
              "5                                        10677  \n",
              "6                                        16159  \n",
              "7                                         5123  \n",
              "8                                        15681  \n",
              "9                                        16601  \n",
              "10                                       10299  \n",
              "11                                       21984  \n",
              "12                                       10774  \n",
              "13                                       18081  \n",
              "14                                       14348  \n",
              "15                                       15573  \n",
              "16                                        8867  \n",
              "17                                        4990  \n",
              "18                                       20515  \n",
              "19                                        7416  \n",
              "20                                       19384  \n",
              "21                                       12777  \n",
              "22                                       12354  \n",
              "23                                        7134  \n",
              "24                                       14533  \n",
              "25                                        9148  \n",
              "26                                       15795  \n",
              "27                                       15026  \n",
              "28                                        7302  \n",
              "29                                       13905  "
            ],
            "text/html": [
              "\n",
              "  <div id=\"df-4f1c98cf-3f03-4fc8-ba5a-08d75b86865f\">\n",
              "    <div class=\"colab-df-container\">\n",
              "      <div>\n",
              "<style scoped>\n",
              "    .dataframe tbody tr th:only-of-type {\n",
              "        vertical-align: middle;\n",
              "    }\n",
              "\n",
              "    .dataframe tbody tr th {\n",
              "        vertical-align: top;\n",
              "    }\n",
              "\n",
              "    .dataframe thead th {\n",
              "        text-align: right;\n",
              "    }\n",
              "</style>\n",
              "<table border=\"1\" class=\"dataframe\">\n",
              "  <thead>\n",
              "    <tr style=\"text-align: right;\">\n",
              "      <th></th>\n",
              "      <th>Kode Kecamatan</th>\n",
              "      <th>Kecamatan</th>\n",
              "      <th>UPT Puskesmas</th>\n",
              "      <th>Jumlah Rumah</th>\n",
              "      <th>Jumlah Rumah Memenuhi Syarat (Rumah Sehat)</th>\n",
              "    </tr>\n",
              "  </thead>\n",
              "  <tbody>\n",
              "    <tr>\n",
              "      <th>0</th>\n",
              "      <td>32.73.05</td>\n",
              "      <td>Andir</td>\n",
              "      <td>UPT Garuda</td>\n",
              "      <td>11454</td>\n",
              "      <td>10256</td>\n",
              "    </tr>\n",
              "    <tr>\n",
              "      <th>1</th>\n",
              "      <td>32.73.20</td>\n",
              "      <td>Antapani</td>\n",
              "      <td>UPT Griya Antapani</td>\n",
              "      <td>17467</td>\n",
              "      <td>16398</td>\n",
              "    </tr>\n",
              "    <tr>\n",
              "      <th>2</th>\n",
              "      <td>32.73.24</td>\n",
              "      <td>Arcamanik</td>\n",
              "      <td>UPT Arcamanik</td>\n",
              "      <td>15165</td>\n",
              "      <td>14283</td>\n",
              "    </tr>\n",
              "    <tr>\n",
              "      <th>3</th>\n",
              "      <td>32.73.10</td>\n",
              "      <td>Astanaanyar</td>\n",
              "      <td>UPT Pagarsih</td>\n",
              "      <td>12971</td>\n",
              "      <td>9790</td>\n",
              "    </tr>\n",
              "    <tr>\n",
              "      <th>4</th>\n",
              "      <td>32.73.03</td>\n",
              "      <td>Babakan Ciparay</td>\n",
              "      <td>UPT Caringin</td>\n",
              "      <td>28704</td>\n",
              "      <td>19462</td>\n",
              "    </tr>\n",
              "    <tr>\n",
              "      <th>5</th>\n",
              "      <td>32.73.21</td>\n",
              "      <td>Bandung Kidul</td>\n",
              "      <td>UPT Kujangsari</td>\n",
              "      <td>12721</td>\n",
              "      <td>10677</td>\n",
              "    </tr>\n",
              "    <tr>\n",
              "      <th>6</th>\n",
              "      <td>32.73.15</td>\n",
              "      <td>Bandung Kulon</td>\n",
              "      <td>UPT Cibuntu</td>\n",
              "      <td>23526</td>\n",
              "      <td>16159</td>\n",
              "    </tr>\n",
              "    <tr>\n",
              "      <th>7</th>\n",
              "      <td>32.73.09</td>\n",
              "      <td>Bandung Wetan</td>\n",
              "      <td>UPT Salam</td>\n",
              "      <td>5536</td>\n",
              "      <td>5123</td>\n",
              "    </tr>\n",
              "    <tr>\n",
              "      <th>8</th>\n",
              "      <td>32.73.12</td>\n",
              "      <td>Batununggal</td>\n",
              "      <td>UPT Ibrahim Aji</td>\n",
              "      <td>19159</td>\n",
              "      <td>15681</td>\n",
              "    </tr>\n",
              "    <tr>\n",
              "      <th>9</th>\n",
              "      <td>32.73.04</td>\n",
              "      <td>Bojongloa Kaler</td>\n",
              "      <td>UPT Cetarip</td>\n",
              "      <td>20823</td>\n",
              "      <td>16601</td>\n",
              "    </tr>\n",
              "    <tr>\n",
              "      <th>10</th>\n",
              "      <td>32.73.17</td>\n",
              "      <td>Bojongloa Kidul</td>\n",
              "      <td>UPT Kopo</td>\n",
              "      <td>14436</td>\n",
              "      <td>10299</td>\n",
              "    </tr>\n",
              "    <tr>\n",
              "      <th>11</th>\n",
              "      <td>32.73.22</td>\n",
              "      <td>Buahbatu</td>\n",
              "      <td>UPT Margahayu Raya</td>\n",
              "      <td>23429</td>\n",
              "      <td>21984</td>\n",
              "    </tr>\n",
              "    <tr>\n",
              "      <th>12</th>\n",
              "      <td>32.73.18</td>\n",
              "      <td>Cibeunying Kaler</td>\n",
              "      <td>UPT Neglasari</td>\n",
              "      <td>13259</td>\n",
              "      <td>10774</td>\n",
              "    </tr>\n",
              "    <tr>\n",
              "      <th>13</th>\n",
              "      <td>32.73.14</td>\n",
              "      <td>Cibeunying Kidul</td>\n",
              "      <td>UPT Padasuka</td>\n",
              "      <td>19384</td>\n",
              "      <td>18081</td>\n",
              "    </tr>\n",
              "    <tr>\n",
              "      <th>14</th>\n",
              "      <td>32.73.25</td>\n",
              "      <td>Cibiru</td>\n",
              "      <td>UPT Cibiru</td>\n",
              "      <td>14966</td>\n",
              "      <td>14348</td>\n",
              "    </tr>\n",
              "    <tr>\n",
              "      <th>15</th>\n",
              "      <td>32.73.06</td>\n",
              "      <td>Cicendo</td>\n",
              "      <td>UPT Pasirkaliki</td>\n",
              "      <td>18184</td>\n",
              "      <td>15573</td>\n",
              "    </tr>\n",
              "    <tr>\n",
              "      <th>16</th>\n",
              "      <td>32.73.08</td>\n",
              "      <td>Cidadap</td>\n",
              "      <td>UPT Ciumbuleuit</td>\n",
              "      <td>8979</td>\n",
              "      <td>8867</td>\n",
              "    </tr>\n",
              "    <tr>\n",
              "      <th>17</th>\n",
              "      <td>32.73.29</td>\n",
              "      <td>Cinambo</td>\n",
              "      <td>UPT Cinambo</td>\n",
              "      <td>5482</td>\n",
              "      <td>4990</td>\n",
              "    </tr>\n",
              "    <tr>\n",
              "      <th>18</th>\n",
              "      <td>32.73.02</td>\n",
              "      <td>Coblong</td>\n",
              "      <td>UPT Puter</td>\n",
              "      <td>21255</td>\n",
              "      <td>20515</td>\n",
              "    </tr>\n",
              "    <tr>\n",
              "      <th>19</th>\n",
              "      <td>32.73.27</td>\n",
              "      <td>Gedebage</td>\n",
              "      <td>UPT Riung Bandung</td>\n",
              "      <td>8378</td>\n",
              "      <td>7416</td>\n",
              "    </tr>\n",
              "    <tr>\n",
              "      <th>20</th>\n",
              "      <td>32.73.16</td>\n",
              "      <td>Kiaracondong</td>\n",
              "      <td>UPT Babakan Sari</td>\n",
              "      <td>21244</td>\n",
              "      <td>19384</td>\n",
              "    </tr>\n",
              "    <tr>\n",
              "      <th>21</th>\n",
              "      <td>32.73.13</td>\n",
              "      <td>Lengkong</td>\n",
              "      <td>UPT Talagabodas</td>\n",
              "      <td>12960</td>\n",
              "      <td>12777</td>\n",
              "    </tr>\n",
              "    <tr>\n",
              "      <th>22</th>\n",
              "      <td>32.73.30</td>\n",
              "      <td>Mandalajati</td>\n",
              "      <td>UPT Sindangjaya</td>\n",
              "      <td>14214</td>\n",
              "      <td>12354</td>\n",
              "    </tr>\n",
              "    <tr>\n",
              "      <th>23</th>\n",
              "      <td>32.73.28</td>\n",
              "      <td>Panyileukan</td>\n",
              "      <td>UPT Panghegar</td>\n",
              "      <td>7994</td>\n",
              "      <td>7134</td>\n",
              "    </tr>\n",
              "    <tr>\n",
              "      <th>24</th>\n",
              "      <td>32.73.23</td>\n",
              "      <td>Rancasari</td>\n",
              "      <td>UPT Cipamokolan</td>\n",
              "      <td>15528</td>\n",
              "      <td>14533</td>\n",
              "    </tr>\n",
              "    <tr>\n",
              "      <th>25</th>\n",
              "      <td>32.73.11</td>\n",
              "      <td>Regol</td>\n",
              "      <td>UPT Pasundan</td>\n",
              "      <td>11967</td>\n",
              "      <td>9148</td>\n",
              "    </tr>\n",
              "    <tr>\n",
              "      <th>26</th>\n",
              "      <td>32.73.07</td>\n",
              "      <td>Sukajadi</td>\n",
              "      <td>UPT Sukajadi</td>\n",
              "      <td>18459</td>\n",
              "      <td>15795</td>\n",
              "    </tr>\n",
              "    <tr>\n",
              "      <th>27</th>\n",
              "      <td>32.73.01</td>\n",
              "      <td>Sukasari</td>\n",
              "      <td>UPT Sukarasa</td>\n",
              "      <td>15240</td>\n",
              "      <td>15026</td>\n",
              "    </tr>\n",
              "    <tr>\n",
              "      <th>28</th>\n",
              "      <td>32.73.19</td>\n",
              "      <td>Sumur Bandung</td>\n",
              "      <td>UPT Tamblong</td>\n",
              "      <td>8612</td>\n",
              "      <td>7302</td>\n",
              "    </tr>\n",
              "    <tr>\n",
              "      <th>29</th>\n",
              "      <td>32.73.26</td>\n",
              "      <td>Ujungberung</td>\n",
              "      <td>UPT Ujungberung Indah</td>\n",
              "      <td>17851</td>\n",
              "      <td>13905</td>\n",
              "    </tr>\n",
              "  </tbody>\n",
              "</table>\n",
              "</div>\n",
              "      <button class=\"colab-df-convert\" onclick=\"convertToInteractive('df-4f1c98cf-3f03-4fc8-ba5a-08d75b86865f')\"\n",
              "              title=\"Convert this dataframe to an interactive table.\"\n",
              "              style=\"display:none;\">\n",
              "        \n",
              "  <svg xmlns=\"http://www.w3.org/2000/svg\" height=\"24px\"viewBox=\"0 0 24 24\"\n",
              "       width=\"24px\">\n",
              "    <path d=\"M0 0h24v24H0V0z\" fill=\"none\"/>\n",
              "    <path d=\"M18.56 5.44l.94 2.06.94-2.06 2.06-.94-2.06-.94-.94-2.06-.94 2.06-2.06.94zm-11 1L8.5 8.5l.94-2.06 2.06-.94-2.06-.94L8.5 2.5l-.94 2.06-2.06.94zm10 10l.94 2.06.94-2.06 2.06-.94-2.06-.94-.94-2.06-.94 2.06-2.06.94z\"/><path d=\"M17.41 7.96l-1.37-1.37c-.4-.4-.92-.59-1.43-.59-.52 0-1.04.2-1.43.59L10.3 9.45l-7.72 7.72c-.78.78-.78 2.05 0 2.83L4 21.41c.39.39.9.59 1.41.59.51 0 1.02-.2 1.41-.59l7.78-7.78 2.81-2.81c.8-.78.8-2.07 0-2.86zM5.41 20L4 18.59l7.72-7.72 1.47 1.35L5.41 20z\"/>\n",
              "  </svg>\n",
              "      </button>\n",
              "      \n",
              "  <style>\n",
              "    .colab-df-container {\n",
              "      display:flex;\n",
              "      flex-wrap:wrap;\n",
              "      gap: 12px;\n",
              "    }\n",
              "\n",
              "    .colab-df-convert {\n",
              "      background-color: #E8F0FE;\n",
              "      border: none;\n",
              "      border-radius: 50%;\n",
              "      cursor: pointer;\n",
              "      display: none;\n",
              "      fill: #1967D2;\n",
              "      height: 32px;\n",
              "      padding: 0 0 0 0;\n",
              "      width: 32px;\n",
              "    }\n",
              "\n",
              "    .colab-df-convert:hover {\n",
              "      background-color: #E2EBFA;\n",
              "      box-shadow: 0px 1px 2px rgba(60, 64, 67, 0.3), 0px 1px 3px 1px rgba(60, 64, 67, 0.15);\n",
              "      fill: #174EA6;\n",
              "    }\n",
              "\n",
              "    [theme=dark] .colab-df-convert {\n",
              "      background-color: #3B4455;\n",
              "      fill: #D2E3FC;\n",
              "    }\n",
              "\n",
              "    [theme=dark] .colab-df-convert:hover {\n",
              "      background-color: #434B5C;\n",
              "      box-shadow: 0px 1px 3px 1px rgba(0, 0, 0, 0.15);\n",
              "      filter: drop-shadow(0px 1px 2px rgba(0, 0, 0, 0.3));\n",
              "      fill: #FFFFFF;\n",
              "    }\n",
              "  </style>\n",
              "\n",
              "      <script>\n",
              "        const buttonEl =\n",
              "          document.querySelector('#df-4f1c98cf-3f03-4fc8-ba5a-08d75b86865f button.colab-df-convert');\n",
              "        buttonEl.style.display =\n",
              "          google.colab.kernel.accessAllowed ? 'block' : 'none';\n",
              "\n",
              "        async function convertToInteractive(key) {\n",
              "          const element = document.querySelector('#df-4f1c98cf-3f03-4fc8-ba5a-08d75b86865f');\n",
              "          const dataTable =\n",
              "            await google.colab.kernel.invokeFunction('convertToInteractive',\n",
              "                                                     [key], {});\n",
              "          if (!dataTable) return;\n",
              "\n",
              "          const docLinkHtml = 'Like what you see? Visit the ' +\n",
              "            '<a target=\"_blank\" href=https://colab.research.google.com/notebooks/data_table.ipynb>data table notebook</a>'\n",
              "            + ' to learn more about interactive tables.';\n",
              "          element.innerHTML = '';\n",
              "          dataTable['output_type'] = 'display_data';\n",
              "          await google.colab.output.renderOutput(dataTable, element);\n",
              "          const docLink = document.createElement('div');\n",
              "          docLink.innerHTML = docLinkHtml;\n",
              "          element.appendChild(docLink);\n",
              "        }\n",
              "      </script>\n",
              "    </div>\n",
              "  </div>\n",
              "  "
            ]
          },
          "metadata": {},
          "execution_count": 3
        }
      ]
    },
    {
      "cell_type": "code",
      "source": [
        "import matplotlib.pyplot as plt #VISUALISASI DATA\n",
        "\n",
        "df.plot(kind='scatter', x='Jumlah Rumah', y='Jumlah Rumah Memenuhi Syarat (Rumah Sehat)')#untuk nama variable\n",
        "\n",
        "plt.title('indeks kesejahteraan warga')\n",
        "plt.xlabel('omzet')\n",
        "plt.ylabel('Indeks')\n",
        "plt.xlim(0, 23429)\n",
        "plt.ylim(0, 23429)\n",
        "plt.grid(True)\n",
        "plt.show()"
      ],
      "metadata": {
        "colab": {
          "base_uri": "https://localhost:8080/",
          "height": 295
        },
        "id": "rwrwe3sS22vN",
        "outputId": "ebd6ec9d-6098-4081-ac60-0217233f7f03"
      },
      "execution_count": 4,
      "outputs": [
        {
          "output_type": "display_data",
          "data": {
            "text/plain": [
              "<Figure size 432x288 with 1 Axes>"
            ],
            "image/png": "[encoded data removed]"
          },
          "metadata": {
            "needs_background": "light"
          }
        }
      ]
    },
    {
      "cell_type": "code",
      "source": [
        "import numpy as np\n",
        "X = np.array(df['Jumlah Rumah']) #Feature\n",
        "Y = np.array(df['Jumlah Rumah Memenuhi Syarat (Rumah Sehat)'])#target\n",
        "\n",
        "print(f'x : {X}') #DATA X ITU ADALAH VARIABLE INDEPENDENT ATAU BEBAS\n",
        "print(f'y : {Y}') #VAR Y ITU ADALAH VARIABLE TERIKAT/DEPENDENT"
      ],
      "metadata": {
        "colab": {
          "base_uri": "https://localhost:8080/"
        },
        "id": "XdlJSqFl29bc",
        "outputId": "3bd980ff-3a6d-4a21-e3c0-278be3a61a44"
      },
      "execution_count": 5,
      "outputs": [
        {
          "output_type": "stream",
          "name": "stdout",
          "text": [
            "x : [11454 17467 15165 12971 28704 12721 23526  5536 19159 20823 14436 23429\n",
            " 13259 19384 14966 18184  8979  5482 21255  8378 21244 12960 14214  7994\n",
            " 15528 11967 18459 15240  8612 17851]\n",
            "y : [10256 16398 14283  9790 19462 10677 16159  5123 15681 16601 10299 21984\n",
            " 10774 18081 14348 15573  8867  4990 20515  7416 19384 12777 12354  7134\n",
            " 14533  9148 15795 15026  7302 13905]\n"
          ]
        }
      ]
    },
    {
      "cell_type": "code",
      "source": [
        "X = X.reshape(-1, 1) #Reshaping atau slice data\n",
        "X.shape"
      ],
      "metadata": {
        "colab": {
          "base_uri": "https://localhost:8080/"
        },
        "id": "pAMUR-Y83AI8",
        "outputId": "b452382f-eca1-4610-a0a6-e0ab67a3fb11"
      },
      "execution_count": 6,
      "outputs": [
        {
          "output_type": "execute_result",
          "data": {
            "text/plain": [
              "(30, 1)"
            ]
          },
          "metadata": {},
          "execution_count": 6
        }
      ]
    },
    {
      "cell_type": "code",
      "source": [
        "X"
      ],
      "metadata": {
        "colab": {
          "base_uri": "https://localhost:8080/"
        },
        "id": "egrGA4ny3DuN",
        "outputId": "9a6a86d2-6870-420c-c1f6-35412a0725d9"
      },
      "execution_count": 7,
      "outputs": [
        {
          "output_type": "execute_result",
          "data": {
            "text/plain": [
              "array([[11454],\n",
              "       [17467],\n",
              "       [15165],\n",
              "       [12971],\n",
              "       [28704],\n",
              "       [12721],\n",
              "       [23526],\n",
              "       [ 5536],\n",
              "       [19159],\n",
              "       [20823],\n",
              "       [14436],\n",
              "       [23429],\n",
              "       [13259],\n",
              "       [19384],\n",
              "       [14966],\n",
              "       [18184],\n",
              "       [ 8979],\n",
              "       [ 5482],\n",
              "       [21255],\n",
              "       [ 8378],\n",
              "       [21244],\n",
              "       [12960],\n",
              "       [14214],\n",
              "       [ 7994],\n",
              "       [15528],\n",
              "       [11967],\n",
              "       [18459],\n",
              "       [15240],\n",
              "       [ 8612],\n",
              "       [17851]])"
            ]
          },
          "metadata": {},
          "execution_count": 7
        }
      ]
    },
    {
      "cell_type": "code",
      "source": [
        "#training model\n",
        "from sklearn.linear_model import LinearRegression #MEMANGGIL MODEL REGRESI LINEAR\n",
        "\n",
        "model = LinearRegression() #VARIABLE MODEL BISA DIGANTI\n",
        "model.fit(X, Y) #X feature , y target\n",
        "#(PROSES NILAI X) --> = Y (TARGET)\n",
        "\n",
        "#menjadi training model"
      ],
      "metadata": {
        "colab": {
          "base_uri": "https://localhost:8080/"
        },
        "id": "3LLJNUvy3Gnl",
        "outputId": "d4986d60-1db3-4ea0-c443-bbec2054a566"
      },
      "execution_count": 8,
      "outputs": [
        {
          "output_type": "execute_result",
          "data": {
            "text/plain": [
              "LinearRegression()"
            ]
          },
          "metadata": {},
          "execution_count": 8
        }
      ]
    },
    {
      "cell_type": "code",
      "source": [
        "X_vis = np.array([0, 25000]).reshape(-1, 1) #pembuat garis merah dari X\n",
        "Y_vis = model.predict(X_vis) #MODEL MACHINE LEARNING"
      ],
      "metadata": {
        "id": "qg0u2qHc3UFf"
      },
      "execution_count": 9,
      "outputs": []
    },
    {
      "cell_type": "code",
      "source": [
        "plt.scatter(X, Y)\n",
        "plt.plot(X_vis, Y_vis, '-r')\n",
        "plt.title('indeks kesejahteraan warga')\n",
        "plt.xlabel('omzet')\n",
        "plt.ylabel('volume')\n",
        "plt.xlim(0, 23429)\n",
        "plt.ylim(0, 23429)\n",
        "plt.grid(True)\n",
        "plt.show()"
      ],
      "metadata": {
        "colab": {
          "base_uri": "https://localhost:8080/",
          "height": 295
        },
        "id": "-EZBNo2I3WCf",
        "outputId": "8cf14422-975e-488e-dc74-785f2028015f"
      },
      "execution_count": 10,
      "outputs": [
        {
          "output_type": "display_data",
          "data": {
            "text/plain": [
              "<Figure size 432x288 with 1 Axes>"
            ],
            "image/png": "[encoded data removed]"
          },
          "metadata": {
            "needs_background": "light"
          }
        }
      ]
    },
    {
      "cell_type": "code",
      "source": [
        "fig = plt.figure()\n",
        "ax = fig.add_axes([0,0,1,1])\n",
        "indeks =['Jumlah Rumah','Jumlah Rumah Memenuhi Syarat (Rumah Sehat)']\n",
        "jumlah =[459347, 394635]\n",
        "c = ['green', 'red', 'yellow', 'purple', 'grey']\n",
        "plt.title(\"Data pencemaran\")\n",
        "plt.xlabel(\"perusahaan\")\n",
        "plt.ylabel(\"nilai\")\n",
        "plt.bar(indeks, jumlah, color = c)\n",
        "plt.grid(True)\n",
        "plt.show\n",
        "print()\n",
        "import matplotlib.pyplot as plt\n",
        "fig = plt.figure()\n",
        "ax = fig.add_axes([0,0,1,1])\n",
        "ax.axis('equal')\n",
        "plt.title(\"Data pencemaran\")\n",
        "nama =['Jumlah Rumah','Jumlah Rumah Memenuhi Syarat (Rumah Sehat)']\n",
        "jml =[459347, 394635]\n",
        "ax.pie(jml,labels=nama,autopct='%1.2f%%')\n",
        "plt.show()"
      ],
      "metadata": {
        "colab": {
          "base_uri": "https://localhost:8080/",
          "height": 701
        },
        "id": "1Rr_vQ-33ZOg",
        "outputId": "4b51e153-29cb-495e-e9bd-9780742158af"
      },
      "execution_count": 21,
      "outputs": [
        {
          "output_type": "stream",
          "name": "stdout",
          "text": [
            "\n"
          ]
        },
        {
          "output_type": "display_data",
          "data": {
            "text/plain": [
              "<Figure size 432x288 with 1 Axes>"
            ],
            "image/png": "[encoded data removed]"
          },
          "metadata": {
            "needs_background": "light"
          }
        },
        {
          "output_type": "display_data",
          "data": {
            "text/plain": [
              "<Figure size 432x288 with 1 Axes>"
            ],
            "image/png": "[encoded data removed]"
          },
          "metadata": {}
        }
      ]
    },
    {
      "cell_type": "code",
      "source": [
        "print(f'intercept : {model.intercept_}')\n",
        "print(f'slope : {model.coef_}')\n",
        "# alpha = Intercept merupakan tiitk dari sumbu Y garis linier nilai X ketika 0\n",
        "# beta = nilai slope berpengaruh terhadap kemiringan garis linier yang terbentuk"
      ],
      "metadata": {
        "colab": {
          "base_uri": "https://localhost:8080/"
        },
        "id": "bB4gW7ld3cmY",
        "outputId": "3fba045a-8d5a-4551-e1fe-97beec72d0bb"
      },
      "execution_count": 12,
      "outputs": [
        {
          "output_type": "stream",
          "name": "stdout",
          "text": [
            "intercept : 1439.6662521109338\n",
            "slope : [0.765097]\n"
          ]
        }
      ]
    },
    {
      "cell_type": "code",
      "source": [
        "#Prediksi Sample Data\n",
        "jml_penduduk = np.array([6000,  7000, 8000, 9000, 12000]).reshape(-1, 1)\n",
        "jml_penduduk"
      ],
      "metadata": {
        "colab": {
          "base_uri": "https://localhost:8080/"
        },
        "id": "c_ZtKmtB3gpw",
        "outputId": "a27aa452-8f01-4a9b-cc6e-a9a2dba8ac07"
      },
      "execution_count": 13,
      "outputs": [
        {
          "output_type": "execute_result",
          "data": {
            "text/plain": [
              "array([[ 6000],\n",
              "       [ 7000],\n",
              "       [ 8000],\n",
              "       [ 9000],\n",
              "       [12000]])"
            ]
          },
          "metadata": {},
          "execution_count": 13
        }
      ]
    },
    {
      "cell_type": "code",
      "source": [
        "prediksi_indeks = model.predict(jml_penduduk)\n",
        "prediksi_indeks"
      ],
      "metadata": {
        "colab": {
          "base_uri": "https://localhost:8080/"
        },
        "id": "qEY13_T43jEg",
        "outputId": "30c26e10-6468-49df-ebd2-f0e117d35158"
      },
      "execution_count": 14,
      "outputs": [
        {
          "output_type": "execute_result",
          "data": {
            "text/plain": [
              "array([ 6030.24826227,  6795.34526396,  7560.44226565,  8325.53926735,\n",
              "       10620.83027243])"
            ]
          },
          "metadata": {},
          "execution_count": 14
        }
      ]
    },
    {
      "cell_type": "code",
      "source": [
        "for penduduk, index in zip(jml_penduduk, prediksi_indeks):\n",
        "  print(f'Jumlah Penduduk : {penduduk} prediksi indeks : {index}z')"
      ],
      "metadata": {
        "id": "mK53ipRi3lw5",
        "outputId": "88cd920f-e7cc-4ae6-e275-0349db6d221e",
        "colab": {
          "base_uri": "https://localhost:8080/"
        }
      },
      "execution_count": 16,
      "outputs": [
        {
          "output_type": "stream",
          "name": "stdout",
          "text": [
            "Jumlah Penduduk : [6000] prediksi indeks : 6030.248262268901z\n",
            "Jumlah Penduduk : [7000] prediksi indeks : 6795.345263961895z\n",
            "Jumlah Penduduk : [8000] prediksi indeks : 7560.44226565489z\n",
            "Jumlah Penduduk : [9000] prediksi indeks : 8325.539267347885z\n",
            "Jumlah Penduduk : [12000] prediksi indeks : 10620.830272426869z\n"
          ]
        }
      ]
    },
    {
      "cell_type": "code",
      "source": [
        "df['Jumlah Rumah'].sum()"
      ],
      "metadata": {
        "colab": {
          "base_uri": "https://localhost:8080/"
        },
        "id": "1cBaa3bG8o2T",
        "outputId": "5c0308e2-32b6-4930-b30f-24afb620c084"
      },
      "execution_count": 18,
      "outputs": [
        {
          "output_type": "execute_result",
          "data": {
            "text/plain": [
              "459347"
            ]
          },
          "metadata": {},
          "execution_count": 18
        }
      ]
    },
    {
      "cell_type": "code",
      "source": [
        "df['Jumlah Rumah Memenuhi Syarat (Rumah Sehat)'].sum()"
      ],
      "metadata": {
        "colab": {
          "base_uri": "https://localhost:8080/"
        },
        "id": "Vw_IiYXo81C0",
        "outputId": "87cba902-65e1-47be-db3d-ca2f60baa9d7"
      },
      "execution_count": 19,
      "outputs": [
        {
          "output_type": "execute_result",
          "data": {
            "text/plain": [
              "394635"
            ]
          },
          "metadata": {},
          "execution_count": 19
        }
      ]
    }
  ]
}