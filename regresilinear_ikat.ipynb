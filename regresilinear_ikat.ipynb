{
  "nbformat": 4,
  "nbformat_minor": 0,
  "metadata": {
    "colab": {
      "provenance": []
    },
    "kernelspec": {
      "name": "python3",
      "display_name": "Python 3"
    },
    "language_info": {
      "name": "python"
    }
  },
  "cells": [
    {
      "cell_type": "code",
      "execution_count": 2,
      "metadata": {
        "colab": {
          "base_uri": "https://localhost:8080/"
        },
        "id": "0neJuqiSgpWr",
        "outputId": "650b6c17-c923-4b25-c57d-d5dc8c194d91"
      },
      "outputs": [
        {
          "output_type": "stream",
          "name": "stdout",
          "text": [
            "Mounted at /content/drive\n"
          ]
        }
      ],
      "source": [
        "from google.colab import drive #MEMANGGIL PACKAGE UNTUK PATH FILE\n",
        "drive.mount('/content/drive')\n",
        "#1. URL , 2. UPLOAD CSV , DATASET YANG DISEDIAKAN OLEH SKLEARN\n",
        "#SKLEARN = LIBRARY/PACKAGE YANG MENAMPUNG METODE ATAU ALGORITMA UNTUK MACHINE LEARNING\n",
        "#LINK : https://s.id/IPabR"
      ]
    },
    {
      "cell_type": "code",
      "source": [
        "import pandas as pd #manipulasi data\n",
        "\n",
        "path ='/content/drive/MyDrive/CSV/regresiikat1 - Sheet1.csv' #PATH ATAU PEMANGGIL\n",
        "df = pd.read_csv(path) #DF DATA FRAME /UNTUK PENAMAAN BEBAS\n",
        "\n",
        "df.describe() #melihat data struktur"
      ],
      "metadata": {
        "colab": {
          "base_uri": "https://localhost:8080/",
          "height": 300
        },
        "id": "d4dg270whmUI",
        "outputId": "171c94d0-4dec-4fcf-aa33-4902a499447c"
      },
      "execution_count": 3,
      "outputs": [
        {
          "output_type": "execute_result",
          "data": {
            "text/plain": [
              "            volume         omzet\n",
              "count    24.000000  2.400000e+01\n",
              "mean   2150.666667  6.196646e+07\n",
              "std    1757.375580  5.594618e+07\n",
              "min     514.000000  1.604000e+07\n",
              "25%    1099.500000  2.233500e+07\n",
              "50%    1206.500000  3.744500e+07\n",
              "75%    2874.000000  8.615625e+07\n",
              "max    6720.000000  2.275200e+08"
            ],
            "text/html": [
              "\n",
              "  <div id=\"df-d8a6d065-478b-4164-af0f-985f99434c00\">\n",
              "    <div class=\"colab-df-container\">\n",
              "      <div>\n",
              "<style scoped>\n",
              "    .dataframe tbody tr th:only-of-type {\n",
              "        vertical-align: middle;\n",
              "    }\n",
              "\n",
              "    .dataframe tbody tr th {\n",
              "        vertical-align: top;\n",
              "    }\n",
              "\n",
              "    .dataframe thead th {\n",
              "        text-align: right;\n",
              "    }\n",
              "</style>\n",
              "<table border=\"1\" class=\"dataframe\">\n",
              "  <thead>\n",
              "    <tr style=\"text-align: right;\">\n",
              "      <th></th>\n",
              "      <th>volume</th>\n",
              "      <th>omzet</th>\n",
              "    </tr>\n",
              "  </thead>\n",
              "  <tbody>\n",
              "    <tr>\n",
              "      <th>count</th>\n",
              "      <td>24.000000</td>\n",
              "      <td>2.400000e+01</td>\n",
              "    </tr>\n",
              "    <tr>\n",
              "      <th>mean</th>\n",
              "      <td>2150.666667</td>\n",
              "      <td>6.196646e+07</td>\n",
              "    </tr>\n",
              "    <tr>\n",
              "      <th>std</th>\n",
              "      <td>1757.375580</td>\n",
              "      <td>5.594618e+07</td>\n",
              "    </tr>\n",
              "    <tr>\n",
              "      <th>min</th>\n",
              "      <td>514.000000</td>\n",
              "      <td>1.604000e+07</td>\n",
              "    </tr>\n",
              "    <tr>\n",
              "      <th>25%</th>\n",
              "      <td>1099.500000</td>\n",
              "      <td>2.233500e+07</td>\n",
              "    </tr>\n",
              "    <tr>\n",
              "      <th>50%</th>\n",
              "      <td>1206.500000</td>\n",
              "      <td>3.744500e+07</td>\n",
              "    </tr>\n",
              "    <tr>\n",
              "      <th>75%</th>\n",
              "      <td>2874.000000</td>\n",
              "      <td>8.615625e+07</td>\n",
              "    </tr>\n",
              "    <tr>\n",
              "      <th>max</th>\n",
              "      <td>6720.000000</td>\n",
              "      <td>2.275200e+08</td>\n",
              "    </tr>\n",
              "  </tbody>\n",
              "</table>\n",
              "</div>\n",
              "      <button class=\"colab-df-convert\" onclick=\"convertToInteractive('df-d8a6d065-478b-4164-af0f-985f99434c00')\"\n",
              "              title=\"Convert this dataframe to an interactive table.\"\n",
              "              style=\"display:none;\">\n",
              "        \n",
              "  <svg xmlns=\"http://www.w3.org/2000/svg\" height=\"24px\"viewBox=\"0 0 24 24\"\n",
              "       width=\"24px\">\n",
              "    <path d=\"M0 0h24v24H0V0z\" fill=\"none\"/>\n",
              "    <path d=\"M18.56 5.44l.94 2.06.94-2.06 2.06-.94-2.06-.94-.94-2.06-.94 2.06-2.06.94zm-11 1L8.5 8.5l.94-2.06 2.06-.94-2.06-.94L8.5 2.5l-.94 2.06-2.06.94zm10 10l.94 2.06.94-2.06 2.06-.94-2.06-.94-.94-2.06-.94 2.06-2.06.94z\"/><path d=\"M17.41 7.96l-1.37-1.37c-.4-.4-.92-.59-1.43-.59-.52 0-1.04.2-1.43.59L10.3 9.45l-7.72 7.72c-.78.78-.78 2.05 0 2.83L4 21.41c.39.39.9.59 1.41.59.51 0 1.02-.2 1.41-.59l7.78-7.78 2.81-2.81c.8-.78.8-2.07 0-2.86zM5.41 20L4 18.59l7.72-7.72 1.47 1.35L5.41 20z\"/>\n",
              "  </svg>\n",
              "      </button>\n",
              "      \n",
              "  <style>\n",
              "    .colab-df-container {\n",
              "      display:flex;\n",
              "      flex-wrap:wrap;\n",
              "      gap: 12px;\n",
              "    }\n",
              "\n",
              "    .colab-df-convert {\n",
              "      background-color: #E8F0FE;\n",
              "      border: none;\n",
              "      border-radius: 50%;\n",
              "      cursor: pointer;\n",
              "      display: none;\n",
              "      fill: #1967D2;\n",
              "      height: 32px;\n",
              "      padding: 0 0 0 0;\n",
              "      width: 32px;\n",
              "    }\n",
              "\n",
              "    .colab-df-convert:hover {\n",
              "      background-color: #E2EBFA;\n",
              "      box-shadow: 0px 1px 2px rgba(60, 64, 67, 0.3), 0px 1px 3px 1px rgba(60, 64, 67, 0.15);\n",
              "      fill: #174EA6;\n",
              "    }\n",
              "\n",
              "    [theme=dark] .colab-df-convert {\n",
              "      background-color: #3B4455;\n",
              "      fill: #D2E3FC;\n",
              "    }\n",
              "\n",
              "    [theme=dark] .colab-df-convert:hover {\n",
              "      background-color: #434B5C;\n",
              "      box-shadow: 0px 1px 3px 1px rgba(0, 0, 0, 0.15);\n",
              "      filter: drop-shadow(0px 1px 2px rgba(0, 0, 0, 0.3));\n",
              "      fill: #FFFFFF;\n",
              "    }\n",
              "  </style>\n",
              "\n",
              "      <script>\n",
              "        const buttonEl =\n",
              "          document.querySelector('#df-d8a6d065-478b-4164-af0f-985f99434c00 button.colab-df-convert');\n",
              "        buttonEl.style.display =\n",
              "          google.colab.kernel.accessAllowed ? 'block' : 'none';\n",
              "\n",
              "        async function convertToInteractive(key) {\n",
              "          const element = document.querySelector('#df-d8a6d065-478b-4164-af0f-985f99434c00');\n",
              "          const dataTable =\n",
              "            await google.colab.kernel.invokeFunction('convertToInteractive',\n",
              "                                                     [key], {});\n",
              "          if (!dataTable) return;\n",
              "\n",
              "          const docLinkHtml = 'Like what you see? Visit the ' +\n",
              "            '<a target=\"_blank\" href=https://colab.research.google.com/notebooks/data_table.ipynb>data table notebook</a>'\n",
              "            + ' to learn more about interactive tables.';\n",
              "          element.innerHTML = '';\n",
              "          dataTable['output_type'] = 'display_data';\n",
              "          await google.colab.output.renderOutput(dataTable, element);\n",
              "          const docLink = document.createElement('div');\n",
              "          docLink.innerHTML = docLinkHtml;\n",
              "          element.appendChild(docLink);\n",
              "        }\n",
              "      </script>\n",
              "    </div>\n",
              "  </div>\n",
              "  "
            ]
          },
          "metadata": {},
          "execution_count": 3
        }
      ]
    },
    {
      "cell_type": "code",
      "source": [
        "df # memanggil isi dari data"
      ],
      "metadata": {
        "colab": {
          "base_uri": "https://localhost:8080/",
          "height": 802
        },
        "id": "70KUF3rkkO5B",
        "outputId": "b3c0ebf5-2955-42b9-a872-242859c36da7"
      },
      "execution_count": 4,
      "outputs": [
        {
          "output_type": "execute_result",
          "data": {
            "text/plain": [
              "                    lokasi               jenis  volume satuan      omzet\n",
              "0   Pasar Bunga Rawabelong           Agapantus     514   Ikat   16040000\n",
              "1   Pasar Bunga Rawabelong              Statis     802   Ikat   16890000\n",
              "2   Pasar Bunga Rawabelong              Kaspea     836   Ikat   17055000\n",
              "3   Pasar Bunga Rawabelong   Anggrek Dedrobium     984   Ikat   17880000\n",
              "4   Pasar Bunga Rawabelong       Vanda Douglas    1015   Ikat   19875000\n",
              "5   Pasar Bunga Rawabelong  Anggrek Game Stori    1089   Ikat   21300000\n",
              "6   Pasar Bunga Rawabelong   Anggrek Magie Oie    1103   Ikat   22680000\n",
              "7   Pasar Bunga Rawabelong         Pilo Dendro    1126   Ikat   26280000\n",
              "8   Pasar Bunga Rawabelong      Florida Beauty    1137   Ikat   26950000\n",
              "9   Pasar Bunga Rawabelong              Andong    1196   Ikat   27225000\n",
              "10  Pasar Bunga Rawabelong            Monstera    1198   Ikat   29950000\n",
              "11  Pasar Bunga Rawabelong              Ruskus    1203   Ikat   32120000\n",
              "12  Pasar Bunga Rawabelong       Ivy Variegata    1210   Ikat   42770000\n",
              "13  Pasar Bunga Rawabelong               Pakis    1222   Ikat   43225000\n",
              "14  Pasar Bunga Rawabelong    Song  of Jamaika    1247   Ikat   54430000\n",
              "15  Pasar Bunga Rawabelong   Asparagus Bintang    1606   Ikat   64170000\n",
              "16  Pasar Bunga Rawabelong               Morea    2628   Ikat   66990000\n",
              "17  Pasar Bunga Rawabelong        Philo Marbel    2844   Ikat   82795000\n",
              "18  Pasar Bunga Rawabelong             Kandaka    2964   Ikat   96240000\n",
              "19  Pasar Bunga Rawabelong       Buntut Bajing    3235   Ikat  106280000\n",
              "20  Pasar Bunga Rawabelong          Sri Gading    4980   Ikat  111440000\n",
              "21              TC Klender      Hebras/Gerbera    5314   Ikat  144280000\n",
              "22              TC Klender               Pikok    5443   Ikat  172810000\n",
              "23              TC Klender     Aster (Cipanas)    6720   Ikat  227520000"
            ],
            "text/html": [
              "\n",
              "  <div id=\"df-9e7484be-3d46-4e8d-80d6-328cf78ba6ff\">\n",
              "    <div class=\"colab-df-container\">\n",
              "      <div>\n",
              "<style scoped>\n",
              "    .dataframe tbody tr th:only-of-type {\n",
              "        vertical-align: middle;\n",
              "    }\n",
              "\n",
              "    .dataframe tbody tr th {\n",
              "        vertical-align: top;\n",
              "    }\n",
              "\n",
              "    .dataframe thead th {\n",
              "        text-align: right;\n",
              "    }\n",
              "</style>\n",
              "<table border=\"1\" class=\"dataframe\">\n",
              "  <thead>\n",
              "    <tr style=\"text-align: right;\">\n",
              "      <th></th>\n",
              "      <th>lokasi</th>\n",
              "      <th>jenis</th>\n",
              "      <th>volume</th>\n",
              "      <th>satuan</th>\n",
              "      <th>omzet</th>\n",
              "    </tr>\n",
              "  </thead>\n",
              "  <tbody>\n",
              "    <tr>\n",
              "      <th>0</th>\n",
              "      <td>Pasar Bunga Rawabelong</td>\n",
              "      <td>Agapantus</td>\n",
              "      <td>514</td>\n",
              "      <td>Ikat</td>\n",
              "      <td>16040000</td>\n",
              "    </tr>\n",
              "    <tr>\n",
              "      <th>1</th>\n",
              "      <td>Pasar Bunga Rawabelong</td>\n",
              "      <td>Statis</td>\n",
              "      <td>802</td>\n",
              "      <td>Ikat</td>\n",
              "      <td>16890000</td>\n",
              "    </tr>\n",
              "    <tr>\n",
              "      <th>2</th>\n",
              "      <td>Pasar Bunga Rawabelong</td>\n",
              "      <td>Kaspea</td>\n",
              "      <td>836</td>\n",
              "      <td>Ikat</td>\n",
              "      <td>17055000</td>\n",
              "    </tr>\n",
              "    <tr>\n",
              "      <th>3</th>\n",
              "      <td>Pasar Bunga Rawabelong</td>\n",
              "      <td>Anggrek Dedrobium</td>\n",
              "      <td>984</td>\n",
              "      <td>Ikat</td>\n",
              "      <td>17880000</td>\n",
              "    </tr>\n",
              "    <tr>\n",
              "      <th>4</th>\n",
              "      <td>Pasar Bunga Rawabelong</td>\n",
              "      <td>Vanda Douglas</td>\n",
              "      <td>1015</td>\n",
              "      <td>Ikat</td>\n",
              "      <td>19875000</td>\n",
              "    </tr>\n",
              "    <tr>\n",
              "      <th>5</th>\n",
              "      <td>Pasar Bunga Rawabelong</td>\n",
              "      <td>Anggrek Game Stori</td>\n",
              "      <td>1089</td>\n",
              "      <td>Ikat</td>\n",
              "      <td>21300000</td>\n",
              "    </tr>\n",
              "    <tr>\n",
              "      <th>6</th>\n",
              "      <td>Pasar Bunga Rawabelong</td>\n",
              "      <td>Anggrek Magie Oie</td>\n",
              "      <td>1103</td>\n",
              "      <td>Ikat</td>\n",
              "      <td>22680000</td>\n",
              "    </tr>\n",
              "    <tr>\n",
              "      <th>7</th>\n",
              "      <td>Pasar Bunga Rawabelong</td>\n",
              "      <td>Pilo Dendro</td>\n",
              "      <td>1126</td>\n",
              "      <td>Ikat</td>\n",
              "      <td>26280000</td>\n",
              "    </tr>\n",
              "    <tr>\n",
              "      <th>8</th>\n",
              "      <td>Pasar Bunga Rawabelong</td>\n",
              "      <td>Florida Beauty</td>\n",
              "      <td>1137</td>\n",
              "      <td>Ikat</td>\n",
              "      <td>26950000</td>\n",
              "    </tr>\n",
              "    <tr>\n",
              "      <th>9</th>\n",
              "      <td>Pasar Bunga Rawabelong</td>\n",
              "      <td>Andong</td>\n",
              "      <td>1196</td>\n",
              "      <td>Ikat</td>\n",
              "      <td>27225000</td>\n",
              "    </tr>\n",
              "    <tr>\n",
              "      <th>10</th>\n",
              "      <td>Pasar Bunga Rawabelong</td>\n",
              "      <td>Monstera</td>\n",
              "      <td>1198</td>\n",
              "      <td>Ikat</td>\n",
              "      <td>29950000</td>\n",
              "    </tr>\n",
              "    <tr>\n",
              "      <th>11</th>\n",
              "      <td>Pasar Bunga Rawabelong</td>\n",
              "      <td>Ruskus</td>\n",
              "      <td>1203</td>\n",
              "      <td>Ikat</td>\n",
              "      <td>32120000</td>\n",
              "    </tr>\n",
              "    <tr>\n",
              "      <th>12</th>\n",
              "      <td>Pasar Bunga Rawabelong</td>\n",
              "      <td>Ivy Variegata</td>\n",
              "      <td>1210</td>\n",
              "      <td>Ikat</td>\n",
              "      <td>42770000</td>\n",
              "    </tr>\n",
              "    <tr>\n",
              "      <th>13</th>\n",
              "      <td>Pasar Bunga Rawabelong</td>\n",
              "      <td>Pakis</td>\n",
              "      <td>1222</td>\n",
              "      <td>Ikat</td>\n",
              "      <td>43225000</td>\n",
              "    </tr>\n",
              "    <tr>\n",
              "      <th>14</th>\n",
              "      <td>Pasar Bunga Rawabelong</td>\n",
              "      <td>Song  of Jamaika</td>\n",
              "      <td>1247</td>\n",
              "      <td>Ikat</td>\n",
              "      <td>54430000</td>\n",
              "    </tr>\n",
              "    <tr>\n",
              "      <th>15</th>\n",
              "      <td>Pasar Bunga Rawabelong</td>\n",
              "      <td>Asparagus Bintang</td>\n",
              "      <td>1606</td>\n",
              "      <td>Ikat</td>\n",
              "      <td>64170000</td>\n",
              "    </tr>\n",
              "    <tr>\n",
              "      <th>16</th>\n",
              "      <td>Pasar Bunga Rawabelong</td>\n",
              "      <td>Morea</td>\n",
              "      <td>2628</td>\n",
              "      <td>Ikat</td>\n",
              "      <td>66990000</td>\n",
              "    </tr>\n",
              "    <tr>\n",
              "      <th>17</th>\n",
              "      <td>Pasar Bunga Rawabelong</td>\n",
              "      <td>Philo Marbel</td>\n",
              "      <td>2844</td>\n",
              "      <td>Ikat</td>\n",
              "      <td>82795000</td>\n",
              "    </tr>\n",
              "    <tr>\n",
              "      <th>18</th>\n",
              "      <td>Pasar Bunga Rawabelong</td>\n",
              "      <td>Kandaka</td>\n",
              "      <td>2964</td>\n",
              "      <td>Ikat</td>\n",
              "      <td>96240000</td>\n",
              "    </tr>\n",
              "    <tr>\n",
              "      <th>19</th>\n",
              "      <td>Pasar Bunga Rawabelong</td>\n",
              "      <td>Buntut Bajing</td>\n",
              "      <td>3235</td>\n",
              "      <td>Ikat</td>\n",
              "      <td>106280000</td>\n",
              "    </tr>\n",
              "    <tr>\n",
              "      <th>20</th>\n",
              "      <td>Pasar Bunga Rawabelong</td>\n",
              "      <td>Sri Gading</td>\n",
              "      <td>4980</td>\n",
              "      <td>Ikat</td>\n",
              "      <td>111440000</td>\n",
              "    </tr>\n",
              "    <tr>\n",
              "      <th>21</th>\n",
              "      <td>TC Klender</td>\n",
              "      <td>Hebras/Gerbera</td>\n",
              "      <td>5314</td>\n",
              "      <td>Ikat</td>\n",
              "      <td>144280000</td>\n",
              "    </tr>\n",
              "    <tr>\n",
              "      <th>22</th>\n",
              "      <td>TC Klender</td>\n",
              "      <td>Pikok</td>\n",
              "      <td>5443</td>\n",
              "      <td>Ikat</td>\n",
              "      <td>172810000</td>\n",
              "    </tr>\n",
              "    <tr>\n",
              "      <th>23</th>\n",
              "      <td>TC Klender</td>\n",
              "      <td>Aster (Cipanas)</td>\n",
              "      <td>6720</td>\n",
              "      <td>Ikat</td>\n",
              "      <td>227520000</td>\n",
              "    </tr>\n",
              "  </tbody>\n",
              "</table>\n",
              "</div>\n",
              "      <button class=\"colab-df-convert\" onclick=\"convertToInteractive('df-9e7484be-3d46-4e8d-80d6-328cf78ba6ff')\"\n",
              "              title=\"Convert this dataframe to an interactive table.\"\n",
              "              style=\"display:none;\">\n",
              "        \n",
              "  <svg xmlns=\"http://www.w3.org/2000/svg\" height=\"24px\"viewBox=\"0 0 24 24\"\n",
              "       width=\"24px\">\n",
              "    <path d=\"M0 0h24v24H0V0z\" fill=\"none\"/>\n",
              "    <path d=\"M18.56 5.44l.94 2.06.94-2.06 2.06-.94-2.06-.94-.94-2.06-.94 2.06-2.06.94zm-11 1L8.5 8.5l.94-2.06 2.06-.94-2.06-.94L8.5 2.5l-.94 2.06-2.06.94zm10 10l.94 2.06.94-2.06 2.06-.94-2.06-.94-.94-2.06-.94 2.06-2.06.94z\"/><path d=\"M17.41 7.96l-1.37-1.37c-.4-.4-.92-.59-1.43-.59-.52 0-1.04.2-1.43.59L10.3 9.45l-7.72 7.72c-.78.78-.78 2.05 0 2.83L4 21.41c.39.39.9.59 1.41.59.51 0 1.02-.2 1.41-.59l7.78-7.78 2.81-2.81c.8-.78.8-2.07 0-2.86zM5.41 20L4 18.59l7.72-7.72 1.47 1.35L5.41 20z\"/>\n",
              "  </svg>\n",
              "      </button>\n",
              "      \n",
              "  <style>\n",
              "    .colab-df-container {\n",
              "      display:flex;\n",
              "      flex-wrap:wrap;\n",
              "      gap: 12px;\n",
              "    }\n",
              "\n",
              "    .colab-df-convert {\n",
              "      background-color: #E8F0FE;\n",
              "      border: none;\n",
              "      border-radius: 50%;\n",
              "      cursor: pointer;\n",
              "      display: none;\n",
              "      fill: #1967D2;\n",
              "      height: 32px;\n",
              "      padding: 0 0 0 0;\n",
              "      width: 32px;\n",
              "    }\n",
              "\n",
              "    .colab-df-convert:hover {\n",
              "      background-color: #E2EBFA;\n",
              "      box-shadow: 0px 1px 2px rgba(60, 64, 67, 0.3), 0px 1px 3px 1px rgba(60, 64, 67, 0.15);\n",
              "      fill: #174EA6;\n",
              "    }\n",
              "\n",
              "    [theme=dark] .colab-df-convert {\n",
              "      background-color: #3B4455;\n",
              "      fill: #D2E3FC;\n",
              "    }\n",
              "\n",
              "    [theme=dark] .colab-df-convert:hover {\n",
              "      background-color: #434B5C;\n",
              "      box-shadow: 0px 1px 3px 1px rgba(0, 0, 0, 0.15);\n",
              "      filter: drop-shadow(0px 1px 2px rgba(0, 0, 0, 0.3));\n",
              "      fill: #FFFFFF;\n",
              "    }\n",
              "  </style>\n",
              "\n",
              "      <script>\n",
              "        const buttonEl =\n",
              "          document.querySelector('#df-9e7484be-3d46-4e8d-80d6-328cf78ba6ff button.colab-df-convert');\n",
              "        buttonEl.style.display =\n",
              "          google.colab.kernel.accessAllowed ? 'block' : 'none';\n",
              "\n",
              "        async function convertToInteractive(key) {\n",
              "          const element = document.querySelector('#df-9e7484be-3d46-4e8d-80d6-328cf78ba6ff');\n",
              "          const dataTable =\n",
              "            await google.colab.kernel.invokeFunction('convertToInteractive',\n",
              "                                                     [key], {});\n",
              "          if (!dataTable) return;\n",
              "\n",
              "          const docLinkHtml = 'Like what you see? Visit the ' +\n",
              "            '<a target=\"_blank\" href=https://colab.research.google.com/notebooks/data_table.ipynb>data table notebook</a>'\n",
              "            + ' to learn more about interactive tables.';\n",
              "          element.innerHTML = '';\n",
              "          dataTable['output_type'] = 'display_data';\n",
              "          await google.colab.output.renderOutput(dataTable, element);\n",
              "          const docLink = document.createElement('div');\n",
              "          docLink.innerHTML = docLinkHtml;\n",
              "          element.appendChild(docLink);\n",
              "        }\n",
              "      </script>\n",
              "    </div>\n",
              "  </div>\n",
              "  "
            ]
          },
          "metadata": {},
          "execution_count": 4
        }
      ]
    },
    {
      "cell_type": "code",
      "source": [
        "import matplotlib.pyplot as plt #VISUALISASI DATA\n",
        "\n",
        "df.plot(kind='scatter', x='volume', y='omzet')#untuk nama variable\n",
        "\n",
        "plt.title('indeks kesejahteraan warga')\n",
        "plt.xlabel('Jumlah Penduduk')\n",
        "plt.ylabel('Indeks')\n",
        "plt.xlim(0, 6000)\n",
        "plt.ylim(0, 227520000)\n",
        "plt.grid(True)\n",
        "plt.show()"
      ],
      "metadata": {
        "colab": {
          "base_uri": "https://localhost:8080/",
          "height": 295
        },
        "id": "vQlO95eRkUvW",
        "outputId": "3c12a9ad-b726-4cae-9560-33e25ed422b8"
      },
      "execution_count": 12,
      "outputs": [
        {
          "output_type": "display_data",
          "data": {
            "text/plain": [
              "<Figure size 432x288 with 1 Axes>"
            ],
            "image/png": "[encoded data removed]"
          },
          "metadata": {
            "needs_background": "light"
          }
        }
      ]
    },
    {
      "cell_type": "code",
      "source": [
        "import numpy as np\n",
        "X = np.array(df['volume']) #Feature\n",
        "Y = np.array(df['omzet'])#target\n",
        "\n",
        "print(f'x : {X}') #DATA X ITU ADALAH VARIABLE INDEPENDENT ATAU BEBAS\n",
        "print(f'y : {Y}') #VAR Y ITU ADALAH VARIABLE TERIKAT/DEPENDENT"
      ],
      "metadata": {
        "colab": {
          "base_uri": "https://localhost:8080/"
        },
        "id": "kBbRQdI_n5lZ",
        "outputId": "0525062d-ba4f-49b4-cbc3-c16f9bcdf1fb"
      },
      "execution_count": 6,
      "outputs": [
        {
          "output_type": "stream",
          "name": "stdout",
          "text": [
            "x : [ 514  802  836  984 1015 1089 1103 1126 1137 1196 1198 1203 1210 1222\n",
            " 1247 1606 2628 2844 2964 3235 4980 5314 5443 6720]\n",
            "y : [ 16040000  16890000  17055000  17880000  19875000  21300000  22680000\n",
            "  26280000  26950000  27225000  29950000  32120000  42770000  43225000\n",
            "  54430000  64170000  66990000  82795000  96240000 106280000 111440000\n",
            " 144280000 172810000 227520000]\n"
          ]
        }
      ]
    },
    {
      "cell_type": "code",
      "source": [
        "X = X.reshape(-1, 1) #Reshaping atau slice data\n",
        "X.shape"
      ],
      "metadata": {
        "colab": {
          "base_uri": "https://localhost:8080/"
        },
        "id": "p3ENuz4coxDL",
        "outputId": "c3ef9251-cb39-446c-b25b-92e4f114ae68"
      },
      "execution_count": 7,
      "outputs": [
        {
          "output_type": "execute_result",
          "data": {
            "text/plain": [
              "(24, 1)"
            ]
          },
          "metadata": {},
          "execution_count": 7
        }
      ]
    },
    {
      "cell_type": "code",
      "source": [
        "X"
      ],
      "metadata": {
        "colab": {
          "base_uri": "https://localhost:8080/"
        },
        "id": "XyZ95eFYo897",
        "outputId": "1388c594-27d5-43b7-e2d6-9660941f2caa"
      },
      "execution_count": 8,
      "outputs": [
        {
          "output_type": "execute_result",
          "data": {
            "text/plain": [
              "array([[ 514],\n",
              "       [ 802],\n",
              "       [ 836],\n",
              "       [ 984],\n",
              "       [1015],\n",
              "       [1089],\n",
              "       [1103],\n",
              "       [1126],\n",
              "       [1137],\n",
              "       [1196],\n",
              "       [1198],\n",
              "       [1203],\n",
              "       [1210],\n",
              "       [1222],\n",
              "       [1247],\n",
              "       [1606],\n",
              "       [2628],\n",
              "       [2844],\n",
              "       [2964],\n",
              "       [3235],\n",
              "       [4980],\n",
              "       [5314],\n",
              "       [5443],\n",
              "       [6720]])"
            ]
          },
          "metadata": {},
          "execution_count": 8
        }
      ]
    },
    {
      "cell_type": "code",
      "source": [
        "#training model\n",
        "from sklearn.linear_model import LinearRegression #MEMANGGIL MODEL REGRESI LINEAR\n",
        "\n",
        "model = LinearRegression() #VARIABLE MODEL BISA DIGANTI\n",
        "model.fit(X, Y) #X feature , y target\n",
        "#(PROSES NILAI X) --> = Y (TARGET)\n",
        "\n",
        "#menjadi training model"
      ],
      "metadata": {
        "colab": {
          "base_uri": "https://localhost:8080/"
        },
        "id": "taBcN3rqqFQF",
        "outputId": "49095562-ea90-4ded-f62c-3c4ab7be27c8"
      },
      "execution_count": 9,
      "outputs": [
        {
          "output_type": "execute_result",
          "data": {
            "text/plain": [
              "LinearRegression()"
            ]
          },
          "metadata": {},
          "execution_count": 9
        }
      ]
    },
    {
      "cell_type": "code",
      "source": [
        "X_vis = np.array([0, 3000000]).reshape(-1, 1) #pembuat garis merah dari X\n",
        "Y_vis = model.predict(X_vis) #MODEL MACHINE LEARNING"
      ],
      "metadata": {
        "id": "uiXOEadeqV1h"
      },
      "execution_count": 10,
      "outputs": []
    },
    {
      "cell_type": "code",
      "source": [
        "\n",
        "plt.scatter(X, Y)\n",
        "plt.plot(X_vis, Y_vis, '-r')\n",
        "plt.title('indeks kesejahteraan warga')\n",
        "plt.xlabel('Jumlah Penduduk')\n",
        "plt.ylabel('Indeks')\n",
        "plt.xlim(0, 6000)\n",
        "plt.ylim(0, 227520000)\n",
        "plt.grid(True)\n",
        "plt.show()"
      ],
      "metadata": {
        "colab": {
          "base_uri": "https://localhost:8080/",
          "height": 295
        },
        "id": "OP9_KDUZtJCd",
        "outputId": "169b0908-72eb-48d6-8d7a-1742b5a82f62"
      },
      "execution_count": 13,
      "outputs": [
        {
          "output_type": "display_data",
          "data": {
            "text/plain": [
              "<Figure size 432x288 with 1 Axes>"
            ],
            "image/png": "[encoded data removed]"
          },
          "metadata": {
            "needs_background": "light"
          }
        }
      ]
    },
    {
      "cell_type": "code",
      "source": [
        "print(f'intercept : {model.intercept_}')\n",
        "print(f'slope : {model.coef_}')\n",
        "# alpha = Intercept merupakan tiitk dari sumbu Y garis linier nilai X ketika 0\n",
        "# beta = nilai slope berpengaruh terhadap kemiringan garis linier yang terbentuk"
      ],
      "metadata": {
        "colab": {
          "base_uri": "https://localhost:8080/"
        },
        "id": "uUlWYN58vJaI",
        "outputId": "c137d0a5-a078-460d-9e93-acf9ac8fb091"
      },
      "execution_count": 16,
      "outputs": [
        {
          "output_type": "stream",
          "name": "stdout",
          "text": [
            "intercept : -4588622.789706111\n",
            "slope : [30946.25594686]\n"
          ]
        }
      ]
    },
    {
      "cell_type": "code",
      "source": [
        "#Prediksi Sample Data\n",
        "jml_penduduk = np.array([22680000,  27225000, 21300000, 16040000, 19875000]).reshape(-1, 1)\n",
        "jml_penduduk"
      ],
      "metadata": {
        "colab": {
          "base_uri": "https://localhost:8080/"
        },
        "id": "u4BC9UZ0vqQ9",
        "outputId": "64289a60-2c0e-42e8-cd64-6f5a28ffd8e5"
      },
      "execution_count": 14,
      "outputs": [
        {
          "output_type": "execute_result",
          "data": {
            "text/plain": [
              "array([[22680000],\n",
              "       [27225000],\n",
              "       [21300000],\n",
              "       [16040000],\n",
              "       [19875000]])"
            ]
          },
          "metadata": {},
          "execution_count": 14
        }
      ]
    },
    {
      "cell_type": "code",
      "source": [
        "prediksi_indeks = model.predict(jml_penduduk)\n",
        "prediksi_indeks"
      ],
      "metadata": {
        "colab": {
          "base_uri": "https://localhost:8080/"
        },
        "id": "5O54qYlZwT90",
        "outputId": "83abc3a0-4d48-4721-ca25-395d13160a11"
      },
      "execution_count": 15,
      "outputs": [
        {
          "output_type": "execute_result",
          "data": {
            "text/plain": [
              "array([7.01856496e+11, 8.42507230e+11, 6.59150663e+11, 4.96373357e+11,\n",
              "       6.15052248e+11])"
            ]
          },
          "metadata": {},
          "execution_count": 15
        }
      ]
    },
    {
      "cell_type": "code",
      "source": [
        "for penduduk, index in zip(jml_penduduk, prediksi_indeks):\n",
        "  print(f'Jumlah Penduduk : {penduduk} prediksi indeks : {index}z')"
      ],
      "metadata": {
        "colab": {
          "base_uri": "https://localhost:8080/"
        },
        "id": "z2YMDjQiwbyV",
        "outputId": "3fbc4368-aa64-4e38-f7d1-0b8848bfbae3"
      },
      "execution_count": 17,
      "outputs": [
        {
          "output_type": "stream",
          "name": "stdout",
          "text": [
            "Jumlah Penduduk : [22680000] prediksi indeks : 701856496251.9165z\n",
            "Jumlah Penduduk : [27225000] prediksi indeks : 842507229530.3795z\n",
            "Jumlah Penduduk : [21300000] prediksi indeks : 659150663045.2545z\n",
            "Jumlah Penduduk : [16040000] prediksi indeks : 496373356764.78906z\n",
            "Jumlah Penduduk : [19875000] prediksi indeks : 615052248320.9839z\n"
          ]
        }
      ]
    }
  ]
}