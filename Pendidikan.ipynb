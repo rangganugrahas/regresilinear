{
  "nbformat": 4,
  "nbformat_minor": 0,
  "metadata": {
    "colab": {
      "provenance": []
    },
    "kernelspec": {
      "name": "python3",
      "display_name": "Python 3"
    },
    "language_info": {
      "name": "python"
    }
  },
  "cells": [
    {
      "cell_type": "code",
      "execution_count": 3,
      "metadata": {
        "colab": {
          "base_uri": "https://localhost:8080/"
        },
        "id": "wMFagga52V63",
        "outputId": "916a2e5a-156b-4ef5-c1e8-91e23742e9d4"
      },
      "outputs": [
        {
          "output_type": "stream",
          "name": "stdout",
          "text": [
            "Mounted at /content/drive\n"
          ]
        }
      ],
      "source": [
        "from google.colab import drive #MEMANGGIL PACKAGE UNTUK PATH FILE\n",
        "drive.mount('/content/drive')"
      ]
    },
    {
      "cell_type": "code",
      "source": [
        "import pandas as pd #manipulasi data\n",
        "\n",
        "path ='/content/drive/MyDrive/CSV/anggaran - Sheet1.csv' #PATH ATAU PEMANGGIL\n",
        "df = pd.read_csv(path) #DF DATA FRAME /UNTUK PENAMAAN BEBAS\n",
        "\n",
        "df.describe() #melihat data struktur"
      ],
      "metadata": {
        "colab": {
          "base_uri": "https://localhost:8080/",
          "height": 300
        },
        "id": "BySUtKFj2iQU",
        "outputId": "6a13ae3e-feb5-4a7e-c9b5-388acd19bb6a"
      },
      "execution_count": 4,
      "outputs": [
        {
          "output_type": "execute_result",
          "data": {
            "text/plain": [
              "       kode_program  realisasi_spd  realisasi_spj\n",
              "count          30.0   3.000000e+01   3.000000e+01\n",
              "mean            0.0   2.516538e+09   1.439578e+09\n",
              "std             0.0   3.401200e+09   2.105181e+09\n",
              "min             0.0   1.177840e+07   3.900000e+06\n",
              "25%             0.0   1.932545e+08   1.504143e+08\n",
              "50%             0.0   6.594286e+08   4.067267e+08\n",
              "75%             0.0   4.764055e+09   1.931599e+09\n",
              "max             0.0   1.352948e+10   9.015471e+09"
            ],
            "text/html": [
              "\n",
              "  <div id=\"df-d692be9c-46fe-41f1-817a-b01a49f10f2b\">\n",
              "    <div class=\"colab-df-container\">\n",
              "      <div>\n",
              "<style scoped>\n",
              "    .dataframe tbody tr th:only-of-type {\n",
              "        vertical-align: middle;\n",
              "    }\n",
              "\n",
              "    .dataframe tbody tr th {\n",
              "        vertical-align: top;\n",
              "    }\n",
              "\n",
              "    .dataframe thead th {\n",
              "        text-align: right;\n",
              "    }\n",
              "</style>\n",
              "<table border=\"1\" class=\"dataframe\">\n",
              "  <thead>\n",
              "    <tr style=\"text-align: right;\">\n",
              "      <th></th>\n",
              "      <th>kode_program</th>\n",
              "      <th>realisasi_spd</th>\n",
              "      <th>realisasi_spj</th>\n",
              "    </tr>\n",
              "  </thead>\n",
              "  <tbody>\n",
              "    <tr>\n",
              "      <th>count</th>\n",
              "      <td>30.0</td>\n",
              "      <td>3.000000e+01</td>\n",
              "      <td>3.000000e+01</td>\n",
              "    </tr>\n",
              "    <tr>\n",
              "      <th>mean</th>\n",
              "      <td>0.0</td>\n",
              "      <td>2.516538e+09</td>\n",
              "      <td>1.439578e+09</td>\n",
              "    </tr>\n",
              "    <tr>\n",
              "      <th>std</th>\n",
              "      <td>0.0</td>\n",
              "      <td>3.401200e+09</td>\n",
              "      <td>2.105181e+09</td>\n",
              "    </tr>\n",
              "    <tr>\n",
              "      <th>min</th>\n",
              "      <td>0.0</td>\n",
              "      <td>1.177840e+07</td>\n",
              "      <td>3.900000e+06</td>\n",
              "    </tr>\n",
              "    <tr>\n",
              "      <th>25%</th>\n",
              "      <td>0.0</td>\n",
              "      <td>1.932545e+08</td>\n",
              "      <td>1.504143e+08</td>\n",
              "    </tr>\n",
              "    <tr>\n",
              "      <th>50%</th>\n",
              "      <td>0.0</td>\n",
              "      <td>6.594286e+08</td>\n",
              "      <td>4.067267e+08</td>\n",
              "    </tr>\n",
              "    <tr>\n",
              "      <th>75%</th>\n",
              "      <td>0.0</td>\n",
              "      <td>4.764055e+09</td>\n",
              "      <td>1.931599e+09</td>\n",
              "    </tr>\n",
              "    <tr>\n",
              "      <th>max</th>\n",
              "      <td>0.0</td>\n",
              "      <td>1.352948e+10</td>\n",
              "      <td>9.015471e+09</td>\n",
              "    </tr>\n",
              "  </tbody>\n",
              "</table>\n",
              "</div>\n",
              "      <button class=\"colab-df-convert\" onclick=\"convertToInteractive('df-d692be9c-46fe-41f1-817a-b01a49f10f2b')\"\n",
              "              title=\"Convert this dataframe to an interactive table.\"\n",
              "              style=\"display:none;\">\n",
              "        \n",
              "  <svg xmlns=\"http://www.w3.org/2000/svg\" height=\"24px\"viewBox=\"0 0 24 24\"\n",
              "       width=\"24px\">\n",
              "    <path d=\"M0 0h24v24H0V0z\" fill=\"none\"/>\n",
              "    <path d=\"M18.56 5.44l.94 2.06.94-2.06 2.06-.94-2.06-.94-.94-2.06-.94 2.06-2.06.94zm-11 1L8.5 8.5l.94-2.06 2.06-.94-2.06-.94L8.5 2.5l-.94 2.06-2.06.94zm10 10l.94 2.06.94-2.06 2.06-.94-2.06-.94-.94-2.06-.94 2.06-2.06.94z\"/><path d=\"M17.41 7.96l-1.37-1.37c-.4-.4-.92-.59-1.43-.59-.52 0-1.04.2-1.43.59L10.3 9.45l-7.72 7.72c-.78.78-.78 2.05 0 2.83L4 21.41c.39.39.9.59 1.41.59.51 0 1.02-.2 1.41-.59l7.78-7.78 2.81-2.81c.8-.78.8-2.07 0-2.86zM5.41 20L4 18.59l7.72-7.72 1.47 1.35L5.41 20z\"/>\n",
              "  </svg>\n",
              "      </button>\n",
              "      \n",
              "  <style>\n",
              "    .colab-df-container {\n",
              "      display:flex;\n",
              "      flex-wrap:wrap;\n",
              "      gap: 12px;\n",
              "    }\n",
              "\n",
              "    .colab-df-convert {\n",
              "      background-color: #E8F0FE;\n",
              "      border: none;\n",
              "      border-radius: 50%;\n",
              "      cursor: pointer;\n",
              "      display: none;\n",
              "      fill: #1967D2;\n",
              "      height: 32px;\n",
              "      padding: 0 0 0 0;\n",
              "      width: 32px;\n",
              "    }\n",
              "\n",
              "    .colab-df-convert:hover {\n",
              "      background-color: #E2EBFA;\n",
              "      box-shadow: 0px 1px 2px rgba(60, 64, 67, 0.3), 0px 1px 3px 1px rgba(60, 64, 67, 0.15);\n",
              "      fill: #174EA6;\n",
              "    }\n",
              "\n",
              "    [theme=dark] .colab-df-convert {\n",
              "      background-color: #3B4455;\n",
              "      fill: #D2E3FC;\n",
              "    }\n",
              "\n",
              "    [theme=dark] .colab-df-convert:hover {\n",
              "      background-color: #434B5C;\n",
              "      box-shadow: 0px 1px 3px 1px rgba(0, 0, 0, 0.15);\n",
              "      filter: drop-shadow(0px 1px 2px rgba(0, 0, 0, 0.3));\n",
              "      fill: #FFFFFF;\n",
              "    }\n",
              "  </style>\n",
              "\n",
              "      <script>\n",
              "        const buttonEl =\n",
              "          document.querySelector('#df-d692be9c-46fe-41f1-817a-b01a49f10f2b button.colab-df-convert');\n",
              "        buttonEl.style.display =\n",
              "          google.colab.kernel.accessAllowed ? 'block' : 'none';\n",
              "\n",
              "        async function convertToInteractive(key) {\n",
              "          const element = document.querySelector('#df-d692be9c-46fe-41f1-817a-b01a49f10f2b');\n",
              "          const dataTable =\n",
              "            await google.colab.kernel.invokeFunction('convertToInteractive',\n",
              "                                                     [key], {});\n",
              "          if (!dataTable) return;\n",
              "\n",
              "          const docLinkHtml = 'Like what you see? Visit the ' +\n",
              "            '<a target=\"_blank\" href=https://colab.research.google.com/notebooks/data_table.ipynb>data table notebook</a>'\n",
              "            + ' to learn more about interactive tables.';\n",
              "          element.innerHTML = '';\n",
              "          dataTable['output_type'] = 'display_data';\n",
              "          await google.colab.output.renderOutput(dataTable, element);\n",
              "          const docLink = document.createElement('div');\n",
              "          docLink.innerHTML = docLinkHtml;\n",
              "          element.appendChild(docLink);\n",
              "        }\n",
              "      </script>\n",
              "    </div>\n",
              "  </div>\n",
              "  "
            ]
          },
          "metadata": {},
          "execution_count": 4
        }
      ]
    },
    {
      "cell_type": "code",
      "source": [
        "df"
      ],
      "metadata": {
        "colab": {
          "base_uri": "https://localhost:8080/",
          "height": 1000
        },
        "id": "dI1XOUla23s0",
        "outputId": "e13aa48e-fecc-4f28-a987-e95915c9fa65"
      },
      "execution_count": 5,
      "outputs": [
        {
          "output_type": "execute_result",
          "data": {
            "text/plain": [
              "    kode_program                               nama_program kode_subprogram  \\\n",
              "0              0  BELANJA LANGSUNG BAGIAN TATA PEMERINTAHAN         1.20.16   \n",
              "1              0  BELANJA LANGSUNG BAGIAN TATA PEMERINTAHAN         1.20.16   \n",
              "2              0  BELANJA LANGSUNG BAGIAN TATA PEMERINTAHAN         1.20.24   \n",
              "3              0  BELANJA LANGSUNG BAGIAN TATA PEMERINTAHAN         1.20.24   \n",
              "4              0  BELANJA LANGSUNG BAGIAN TATA PEMERINTAHAN         1.20.24   \n",
              "5              0  BELANJA LANGSUNG BAGIAN TATA PEMERINTAHAN         1.20.24   \n",
              "6              0  BELANJA LANGSUNG BAGIAN TATA PEMERINTAHAN         1.20.24   \n",
              "7              0  BELANJA LANGSUNG BAGIAN TATA PEMERINTAHAN         1.20.24   \n",
              "8              0  BELANJA LANGSUNG BAGIAN TATA PEMERINTAHAN         1.20.24   \n",
              "9              0              BELANJA LANGSUNG BAGIAN HUKUM         1.20.17   \n",
              "10             0  BELANJA LANGSUNG BAGIAN UMUM DAN PROTOKOL         1.20.22   \n",
              "11             0  BELANJA LANGSUNG BAGIAN UMUM DAN PROTOKOL         1.20.22   \n",
              "12             0  BELANJA LANGSUNG BAGIAN UMUM DAN PROTOKOL         1.20.61   \n",
              "13             0  BELANJA LANGSUNG BAGIAN UMUM DAN PROTOKOL         1.20.61   \n",
              "14             0  BELANJA LANGSUNG BAGIAN UMUM DAN PROTOKOL         1.20.61   \n",
              "15             0  BELANJA LANGSUNG BAGIAN UMUM DAN PROTOKOL         1.20.61   \n",
              "16             0  BELANJA LANGSUNG BAGIAN UMUM DAN PROTOKOL         1.20.61   \n",
              "17             0  BELANJA LANGSUNG BAGIAN UMUM DAN PROTOKOL         1.20.61   \n",
              "18             0  BELANJA LANGSUNG BAGIAN UMUM DAN PROTOKOL         1.20.61   \n",
              "19             0  BELANJA LANGSUNG BAGIAN UMUM DAN PROTOKOL         1.20.61   \n",
              "20             0  BELANJA LANGSUNG BAGIAN UMUM DAN PROTOKOL         1.20.61   \n",
              "21             0  BELANJA LANGSUNG BAGIAN UMUM DAN PROTOKOL         1.20.61   \n",
              "22             0  BELANJA LANGSUNG BAGIAN UMUM DAN PROTOKOL         1.20.61   \n",
              "23             0  BELANJA LANGSUNG BAGIAN UMUM DAN PROTOKOL         1.20.61   \n",
              "24             0  BELANJA LANGSUNG BAGIAN UMUM DAN PROTOKOL         1.20.61   \n",
              "25             0  BELANJA LANGSUNG BAGIAN UMUM DAN PROTOKOL         1.20.61   \n",
              "26             0  BELANJA LANGSUNG BAGIAN UMUM DAN PROTOKOL         1.20.61   \n",
              "27             0  BELANJA LANGSUNG BAGIAN UMUM DAN PROTOKOL         1.20.61   \n",
              "28             0  BELANJA LANGSUNG BAGIAN UMUM DAN PROTOKOL         1.20.61   \n",
              "29             0  BELANJA LANGSUNG BAGIAN UMUM DAN PROTOKOL         1.20.61   \n",
              "\n",
              "                                      nama_subprogram kode_kegiatan  \\\n",
              "0   Program Koordinasi Tata Pemerintahan Kota/Kabu...   1.20.16.001   \n",
              "1   Program Koordinasi Tata Pemerintahan Kota/Kabu...   1.20.16.002   \n",
              "2   Program Pembangunan Gedung Kantor Kecamatan da...   1.20.24.001   \n",
              "3   Program Pembangunan Gedung Kantor Kecamatan da...   1.20.24.002   \n",
              "4   Program Pembangunan Gedung Kantor Kecamatan da...   1.20.24.004   \n",
              "5   Program Pembangunan Gedung Kantor Kecamatan da...   1.20.24.005   \n",
              "6   Program Pembangunan Gedung Kantor Kecamatan da...   1.20.24.006   \n",
              "7   Program Pembangunan Gedung Kantor Kecamatan da...   1.20.24.007   \n",
              "8   Program Pembangunan Gedung Kantor Kecamatan da...   1.20.24.008   \n",
              "9   Program Peningkatan Bantuan & Kesadaran Hukum ...   1.20.17.001   \n",
              "10  Program Administrasi Umum dan Keprotokolan Kot...   1.20.22.001   \n",
              "11  Program Administrasi Umum dan Keprotokolan Kot...   1.20.22.002   \n",
              "12         Program Peningkatan dan Pengelolaan Kantor   1.20.61.001   \n",
              "13         Program Peningkatan dan Pengelolaan Kantor   1.20.61.002   \n",
              "14         Program Peningkatan dan Pengelolaan Kantor   1.20.61.003   \n",
              "15         Program Peningkatan dan Pengelolaan Kantor   1.20.61.004   \n",
              "16         Program Peningkatan dan Pengelolaan Kantor   1.20.61.006   \n",
              "17         Program Peningkatan dan Pengelolaan Kantor   1.20.61.007   \n",
              "18         Program Peningkatan dan Pengelolaan Kantor   1.20.61.008   \n",
              "19         Program Peningkatan dan Pengelolaan Kantor   1.20.61.010   \n",
              "20         Program Peningkatan dan Pengelolaan Kantor   1.20.61.011   \n",
              "21         Program Peningkatan dan Pengelolaan Kantor   1.20.61.013   \n",
              "22         Program Peningkatan dan Pengelolaan Kantor   1.20.61.017   \n",
              "23         Program Peningkatan dan Pengelolaan Kantor   1.20.61.018   \n",
              "24         Program Peningkatan dan Pengelolaan Kantor   1.20.61.019   \n",
              "25         Program Peningkatan dan Pengelolaan Kantor   1.20.61.020   \n",
              "26         Program Peningkatan dan Pengelolaan Kantor   1.20.61.021   \n",
              "27         Program Peningkatan dan Pengelolaan Kantor   1.20.61.022   \n",
              "28         Program Peningkatan dan Pengelolaan Kantor   1.20.61.023   \n",
              "29         Program Peningkatan dan Pengelolaan Kantor   1.20.61.024   \n",
              "\n",
              "                                        nama_kegiatan            dppa  \\\n",
              "0   Pelaksanaan Partisipasi Kota Administrasi dala...      55.000.000   \n",
              "1             Peningkatan Tugas dan Fungsi Dewan Kota     536.239.696   \n",
              "2                 Rehab Kantor Lurah Kelurahan Tangki   6.468.140.486   \n",
              "3                 Rehab Kantor Lurah Kelurahan Glodok   8.447.684.121   \n",
              "4             Rehab Kantor Lurah Kelurahan Duri Utara   5.310.274.728   \n",
              "5              Rehab Kantor Lurah Kelurahan Pinangsia   5.334.517.135   \n",
              "6             Rehab Kantor Lurah Kelurahan Taman Sari   8.623.401.579   \n",
              "7                  Sewa Gedung Sementara Kantor Lurah   1.089.000.000   \n",
              "8                    Pengadaan Meubelair Kantor Lurah   4.739.990.750   \n",
              "9       Pengurusan Perkara di Pengadilan tingkat Kota     100.420.000   \n",
              "10              Penyelenggaraan Kegiatan Keprotokolan     373.692.000   \n",
              "11    Penyelenggaraan Pelayanan Tamu dan Jamuan Resmi     637.200.000   \n",
              "12  Penyediaan Jasa Telepon, Air, Listrik dan Inte...  13.529.484.000   \n",
              "13           Penyediaan jasa perizinan KDO/KDO khusus      29.066.800   \n",
              "14  Penyediaan jasa dan pengadaan perlengkapan keb...   6.155.708.260   \n",
              "15  Penyediaan jasa dan pengadaan perlengkapan kea...   4.772.076.200   \n",
              "16                       Penyediaan Alat Tulis Kantor     199.930.124   \n",
              "17          Penyediaan Barang Cetakan dan Penggandaan     169.455.132   \n",
              "18                    Penyediaan Sewa Mesin Foto Copy     171.600.000   \n",
              "19                     Penyediaan Makanan dan Minuman   1.576.756.000   \n",
              "20                      Penyediaan BBM KDO/KDO Khusus     277.920.720   \n",
              "21              Penyediaan Jasa Administrasi Keuangan      11.778.400   \n",
              "22  Pemeliharaan AC Chiller Kantor Walikota Kota A...   2.361.233.548   \n",
              "23  Pemeliharaan AC Split Kantor Walikota Kota Ad....     191.349.965   \n",
              "24  Penyediaan jasa dan Pengadaan Perlengkapan ME ...   1.726.449.169   \n",
              "25  Penyediaan jasa dan pengadaan kelengkapan tama...     681.657.278   \n",
              "26  Pemeliharaan Genset Kantor Walikota Kota Adm. ...     198.968.027   \n",
              "27  Pemeliharaan Kantor Walikota Kota Adm. Jakarta...     920.911.801   \n",
              "28  Penyediaan Kerumahtanggaan Kantor Walikota Kot...     628.555.367   \n",
              "29  Pengadaan Peralatan Kantor Walikota Kota Adm. ...     177.684.375   \n",
              "\n",
              "    realisasi_spd  realisasi_spj  \n",
              "0        55000000       55000000  \n",
              "1       536239696      526820725  \n",
              "2      6468140486     2593901000  \n",
              "3      8447684121     3262714000  \n",
              "4      5310274728     3052824000  \n",
              "5      5334517135     2003285000  \n",
              "6      8623401579     3307080256  \n",
              "7      1089000000      915000000  \n",
              "8      4739990750     1716542421  \n",
              "9       100420000       57586000  \n",
              "10      373692000      311862000  \n",
              "11      637200000      451030000  \n",
              "12    13529484000     9015470573  \n",
              "13       29066800       22295100  \n",
              "14     6155708260     6046549359  \n",
              "15     4772076200     4675460224  \n",
              "16      199930124      175161580  \n",
              "17      169455132      148508712  \n",
              "18      171600000       75240000  \n",
              "19     1576756000     1227055000  \n",
              "20      277920720      156131016  \n",
              "21       11778400        3900000  \n",
              "22     2361233548       38349200  \n",
              "23      191349965      183507500  \n",
              "24     1726449169     1644056154  \n",
              "25      681657278      646421539  \n",
              "26      198968027      172888800  \n",
              "27      920911801      265985442  \n",
              "28      628555367      362423478  \n",
              "29      177684375       74290700  "
            ],
            "text/html": [
              "\n",
              "  <div id=\"df-73cfa00f-8541-40a4-bbb6-e92a23d56f54\">\n",
              "    <div class=\"colab-df-container\">\n",
              "      <div>\n",
              "<style scoped>\n",
              "    .dataframe tbody tr th:only-of-type {\n",
              "        vertical-align: middle;\n",
              "    }\n",
              "\n",
              "    .dataframe tbody tr th {\n",
              "        vertical-align: top;\n",
              "    }\n",
              "\n",
              "    .dataframe thead th {\n",
              "        text-align: right;\n",
              "    }\n",
              "</style>\n",
              "<table border=\"1\" class=\"dataframe\">\n",
              "  <thead>\n",
              "    <tr style=\"text-align: right;\">\n",
              "      <th></th>\n",
              "      <th>kode_program</th>\n",
              "      <th>nama_program</th>\n",
              "      <th>kode_subprogram</th>\n",
              "      <th>nama_subprogram</th>\n",
              "      <th>kode_kegiatan</th>\n",
              "      <th>nama_kegiatan</th>\n",
              "      <th>dppa</th>\n",
              "      <th>realisasi_spd</th>\n",
              "      <th>realisasi_spj</th>\n",
              "    </tr>\n",
              "  </thead>\n",
              "  <tbody>\n",
              "    <tr>\n",
              "      <th>0</th>\n",
              "      <td>0</td>\n",
              "      <td>BELANJA LANGSUNG BAGIAN TATA PEMERINTAHAN</td>\n",
              "      <td>1.20.16</td>\n",
              "      <td>Program Koordinasi Tata Pemerintahan Kota/Kabu...</td>\n",
              "      <td>1.20.16.001</td>\n",
              "      <td>Pelaksanaan Partisipasi Kota Administrasi dala...</td>\n",
              "      <td>55.000.000</td>\n",
              "      <td>55000000</td>\n",
              "      <td>55000000</td>\n",
              "    </tr>\n",
              "    <tr>\n",
              "      <th>1</th>\n",
              "      <td>0</td>\n",
              "      <td>BELANJA LANGSUNG BAGIAN TATA PEMERINTAHAN</td>\n",
              "      <td>1.20.16</td>\n",
              "      <td>Program Koordinasi Tata Pemerintahan Kota/Kabu...</td>\n",
              "      <td>1.20.16.002</td>\n",
              "      <td>Peningkatan Tugas dan Fungsi Dewan Kota</td>\n",
              "      <td>536.239.696</td>\n",
              "      <td>536239696</td>\n",
              "      <td>526820725</td>\n",
              "    </tr>\n",
              "    <tr>\n",
              "      <th>2</th>\n",
              "      <td>0</td>\n",
              "      <td>BELANJA LANGSUNG BAGIAN TATA PEMERINTAHAN</td>\n",
              "      <td>1.20.24</td>\n",
              "      <td>Program Pembangunan Gedung Kantor Kecamatan da...</td>\n",
              "      <td>1.20.24.001</td>\n",
              "      <td>Rehab Kantor Lurah Kelurahan Tangki</td>\n",
              "      <td>6.468.140.486</td>\n",
              "      <td>6468140486</td>\n",
              "      <td>2593901000</td>\n",
              "    </tr>\n",
              "    <tr>\n",
              "      <th>3</th>\n",
              "      <td>0</td>\n",
              "      <td>BELANJA LANGSUNG BAGIAN TATA PEMERINTAHAN</td>\n",
              "      <td>1.20.24</td>\n",
              "      <td>Program Pembangunan Gedung Kantor Kecamatan da...</td>\n",
              "      <td>1.20.24.002</td>\n",
              "      <td>Rehab Kantor Lurah Kelurahan Glodok</td>\n",
              "      <td>8.447.684.121</td>\n",
              "      <td>8447684121</td>\n",
              "      <td>3262714000</td>\n",
              "    </tr>\n",
              "    <tr>\n",
              "      <th>4</th>\n",
              "      <td>0</td>\n",
              "      <td>BELANJA LANGSUNG BAGIAN TATA PEMERINTAHAN</td>\n",
              "      <td>1.20.24</td>\n",
              "      <td>Program Pembangunan Gedung Kantor Kecamatan da...</td>\n",
              "      <td>1.20.24.004</td>\n",
              "      <td>Rehab Kantor Lurah Kelurahan Duri Utara</td>\n",
              "      <td>5.310.274.728</td>\n",
              "      <td>5310274728</td>\n",
              "      <td>3052824000</td>\n",
              "    </tr>\n",
              "    <tr>\n",
              "      <th>5</th>\n",
              "      <td>0</td>\n",
              "      <td>BELANJA LANGSUNG BAGIAN TATA PEMERINTAHAN</td>\n",
              "      <td>1.20.24</td>\n",
              "      <td>Program Pembangunan Gedung Kantor Kecamatan da...</td>\n",
              "      <td>1.20.24.005</td>\n",
              "      <td>Rehab Kantor Lurah Kelurahan Pinangsia</td>\n",
              "      <td>5.334.517.135</td>\n",
              "      <td>5334517135</td>\n",
              "      <td>2003285000</td>\n",
              "    </tr>\n",
              "    <tr>\n",
              "      <th>6</th>\n",
              "      <td>0</td>\n",
              "      <td>BELANJA LANGSUNG BAGIAN TATA PEMERINTAHAN</td>\n",
              "      <td>1.20.24</td>\n",
              "      <td>Program Pembangunan Gedung Kantor Kecamatan da...</td>\n",
              "      <td>1.20.24.006</td>\n",
              "      <td>Rehab Kantor Lurah Kelurahan Taman Sari</td>\n",
              "      <td>8.623.401.579</td>\n",
              "      <td>8623401579</td>\n",
              "      <td>3307080256</td>\n",
              "    </tr>\n",
              "    <tr>\n",
              "      <th>7</th>\n",
              "      <td>0</td>\n",
              "      <td>BELANJA LANGSUNG BAGIAN TATA PEMERINTAHAN</td>\n",
              "      <td>1.20.24</td>\n",
              "      <td>Program Pembangunan Gedung Kantor Kecamatan da...</td>\n",
              "      <td>1.20.24.007</td>\n",
              "      <td>Sewa Gedung Sementara Kantor Lurah</td>\n",
              "      <td>1.089.000.000</td>\n",
              "      <td>1089000000</td>\n",
              "      <td>915000000</td>\n",
              "    </tr>\n",
              "    <tr>\n",
              "      <th>8</th>\n",
              "      <td>0</td>\n",
              "      <td>BELANJA LANGSUNG BAGIAN TATA PEMERINTAHAN</td>\n",
              "      <td>1.20.24</td>\n",
              "      <td>Program Pembangunan Gedung Kantor Kecamatan da...</td>\n",
              "      <td>1.20.24.008</td>\n",
              "      <td>Pengadaan Meubelair Kantor Lurah</td>\n",
              "      <td>4.739.990.750</td>\n",
              "      <td>4739990750</td>\n",
              "      <td>1716542421</td>\n",
              "    </tr>\n",
              "    <tr>\n",
              "      <th>9</th>\n",
              "      <td>0</td>\n",
              "      <td>BELANJA LANGSUNG BAGIAN HUKUM</td>\n",
              "      <td>1.20.17</td>\n",
              "      <td>Program Peningkatan Bantuan &amp; Kesadaran Hukum ...</td>\n",
              "      <td>1.20.17.001</td>\n",
              "      <td>Pengurusan Perkara di Pengadilan tingkat Kota</td>\n",
              "      <td>100.420.000</td>\n",
              "      <td>100420000</td>\n",
              "      <td>57586000</td>\n",
              "    </tr>\n",
              "    <tr>\n",
              "      <th>10</th>\n",
              "      <td>0</td>\n",
              "      <td>BELANJA LANGSUNG BAGIAN UMUM DAN PROTOKOL</td>\n",
              "      <td>1.20.22</td>\n",
              "      <td>Program Administrasi Umum dan Keprotokolan Kot...</td>\n",
              "      <td>1.20.22.001</td>\n",
              "      <td>Penyelenggaraan Kegiatan Keprotokolan</td>\n",
              "      <td>373.692.000</td>\n",
              "      <td>373692000</td>\n",
              "      <td>311862000</td>\n",
              "    </tr>\n",
              "    <tr>\n",
              "      <th>11</th>\n",
              "      <td>0</td>\n",
              "      <td>BELANJA LANGSUNG BAGIAN UMUM DAN PROTOKOL</td>\n",
              "      <td>1.20.22</td>\n",
              "      <td>Program Administrasi Umum dan Keprotokolan Kot...</td>\n",
              "      <td>1.20.22.002</td>\n",
              "      <td>Penyelenggaraan Pelayanan Tamu dan Jamuan Resmi</td>\n",
              "      <td>637.200.000</td>\n",
              "      <td>637200000</td>\n",
              "      <td>451030000</td>\n",
              "    </tr>\n",
              "    <tr>\n",
              "      <th>12</th>\n",
              "      <td>0</td>\n",
              "      <td>BELANJA LANGSUNG BAGIAN UMUM DAN PROTOKOL</td>\n",
              "      <td>1.20.61</td>\n",
              "      <td>Program Peningkatan dan Pengelolaan Kantor</td>\n",
              "      <td>1.20.61.001</td>\n",
              "      <td>Penyediaan Jasa Telepon, Air, Listrik dan Inte...</td>\n",
              "      <td>13.529.484.000</td>\n",
              "      <td>13529484000</td>\n",
              "      <td>9015470573</td>\n",
              "    </tr>\n",
              "    <tr>\n",
              "      <th>13</th>\n",
              "      <td>0</td>\n",
              "      <td>BELANJA LANGSUNG BAGIAN UMUM DAN PROTOKOL</td>\n",
              "      <td>1.20.61</td>\n",
              "      <td>Program Peningkatan dan Pengelolaan Kantor</td>\n",
              "      <td>1.20.61.002</td>\n",
              "      <td>Penyediaan jasa perizinan KDO/KDO khusus</td>\n",
              "      <td>29.066.800</td>\n",
              "      <td>29066800</td>\n",
              "      <td>22295100</td>\n",
              "    </tr>\n",
              "    <tr>\n",
              "      <th>14</th>\n",
              "      <td>0</td>\n",
              "      <td>BELANJA LANGSUNG BAGIAN UMUM DAN PROTOKOL</td>\n",
              "      <td>1.20.61</td>\n",
              "      <td>Program Peningkatan dan Pengelolaan Kantor</td>\n",
              "      <td>1.20.61.003</td>\n",
              "      <td>Penyediaan jasa dan pengadaan perlengkapan keb...</td>\n",
              "      <td>6.155.708.260</td>\n",
              "      <td>6155708260</td>\n",
              "      <td>6046549359</td>\n",
              "    </tr>\n",
              "    <tr>\n",
              "      <th>15</th>\n",
              "      <td>0</td>\n",
              "      <td>BELANJA LANGSUNG BAGIAN UMUM DAN PROTOKOL</td>\n",
              "      <td>1.20.61</td>\n",
              "      <td>Program Peningkatan dan Pengelolaan Kantor</td>\n",
              "      <td>1.20.61.004</td>\n",
              "      <td>Penyediaan jasa dan pengadaan perlengkapan kea...</td>\n",
              "      <td>4.772.076.200</td>\n",
              "      <td>4772076200</td>\n",
              "      <td>4675460224</td>\n",
              "    </tr>\n",
              "    <tr>\n",
              "      <th>16</th>\n",
              "      <td>0</td>\n",
              "      <td>BELANJA LANGSUNG BAGIAN UMUM DAN PROTOKOL</td>\n",
              "      <td>1.20.61</td>\n",
              "      <td>Program Peningkatan dan Pengelolaan Kantor</td>\n",
              "      <td>1.20.61.006</td>\n",
              "      <td>Penyediaan Alat Tulis Kantor</td>\n",
              "      <td>199.930.124</td>\n",
              "      <td>199930124</td>\n",
              "      <td>175161580</td>\n",
              "    </tr>\n",
              "    <tr>\n",
              "      <th>17</th>\n",
              "      <td>0</td>\n",
              "      <td>BELANJA LANGSUNG BAGIAN UMUM DAN PROTOKOL</td>\n",
              "      <td>1.20.61</td>\n",
              "      <td>Program Peningkatan dan Pengelolaan Kantor</td>\n",
              "      <td>1.20.61.007</td>\n",
              "      <td>Penyediaan Barang Cetakan dan Penggandaan</td>\n",
              "      <td>169.455.132</td>\n",
              "      <td>169455132</td>\n",
              "      <td>148508712</td>\n",
              "    </tr>\n",
              "    <tr>\n",
              "      <th>18</th>\n",
              "      <td>0</td>\n",
              "      <td>BELANJA LANGSUNG BAGIAN UMUM DAN PROTOKOL</td>\n",
              "      <td>1.20.61</td>\n",
              "      <td>Program Peningkatan dan Pengelolaan Kantor</td>\n",
              "      <td>1.20.61.008</td>\n",
              "      <td>Penyediaan Sewa Mesin Foto Copy</td>\n",
              "      <td>171.600.000</td>\n",
              "      <td>171600000</td>\n",
              "      <td>75240000</td>\n",
              "    </tr>\n",
              "    <tr>\n",
              "      <th>19</th>\n",
              "      <td>0</td>\n",
              "      <td>BELANJA LANGSUNG BAGIAN UMUM DAN PROTOKOL</td>\n",
              "      <td>1.20.61</td>\n",
              "      <td>Program Peningkatan dan Pengelolaan Kantor</td>\n",
              "      <td>1.20.61.010</td>\n",
              "      <td>Penyediaan Makanan dan Minuman</td>\n",
              "      <td>1.576.756.000</td>\n",
              "      <td>1576756000</td>\n",
              "      <td>1227055000</td>\n",
              "    </tr>\n",
              "    <tr>\n",
              "      <th>20</th>\n",
              "      <td>0</td>\n",
              "      <td>BELANJA LANGSUNG BAGIAN UMUM DAN PROTOKOL</td>\n",
              "      <td>1.20.61</td>\n",
              "      <td>Program Peningkatan dan Pengelolaan Kantor</td>\n",
              "      <td>1.20.61.011</td>\n",
              "      <td>Penyediaan BBM KDO/KDO Khusus</td>\n",
              "      <td>277.920.720</td>\n",
              "      <td>277920720</td>\n",
              "      <td>156131016</td>\n",
              "    </tr>\n",
              "    <tr>\n",
              "      <th>21</th>\n",
              "      <td>0</td>\n",
              "      <td>BELANJA LANGSUNG BAGIAN UMUM DAN PROTOKOL</td>\n",
              "      <td>1.20.61</td>\n",
              "      <td>Program Peningkatan dan Pengelolaan Kantor</td>\n",
              "      <td>1.20.61.013</td>\n",
              "      <td>Penyediaan Jasa Administrasi Keuangan</td>\n",
              "      <td>11.778.400</td>\n",
              "      <td>11778400</td>\n",
              "      <td>3900000</td>\n",
              "    </tr>\n",
              "    <tr>\n",
              "      <th>22</th>\n",
              "      <td>0</td>\n",
              "      <td>BELANJA LANGSUNG BAGIAN UMUM DAN PROTOKOL</td>\n",
              "      <td>1.20.61</td>\n",
              "      <td>Program Peningkatan dan Pengelolaan Kantor</td>\n",
              "      <td>1.20.61.017</td>\n",
              "      <td>Pemeliharaan AC Chiller Kantor Walikota Kota A...</td>\n",
              "      <td>2.361.233.548</td>\n",
              "      <td>2361233548</td>\n",
              "      <td>38349200</td>\n",
              "    </tr>\n",
              "    <tr>\n",
              "      <th>23</th>\n",
              "      <td>0</td>\n",
              "      <td>BELANJA LANGSUNG BAGIAN UMUM DAN PROTOKOL</td>\n",
              "      <td>1.20.61</td>\n",
              "      <td>Program Peningkatan dan Pengelolaan Kantor</td>\n",
              "      <td>1.20.61.018</td>\n",
              "      <td>Pemeliharaan AC Split Kantor Walikota Kota Ad....</td>\n",
              "      <td>191.349.965</td>\n",
              "      <td>191349965</td>\n",
              "      <td>183507500</td>\n",
              "    </tr>\n",
              "    <tr>\n",
              "      <th>24</th>\n",
              "      <td>0</td>\n",
              "      <td>BELANJA LANGSUNG BAGIAN UMUM DAN PROTOKOL</td>\n",
              "      <td>1.20.61</td>\n",
              "      <td>Program Peningkatan dan Pengelolaan Kantor</td>\n",
              "      <td>1.20.61.019</td>\n",
              "      <td>Penyediaan jasa dan Pengadaan Perlengkapan ME ...</td>\n",
              "      <td>1.726.449.169</td>\n",
              "      <td>1726449169</td>\n",
              "      <td>1644056154</td>\n",
              "    </tr>\n",
              "    <tr>\n",
              "      <th>25</th>\n",
              "      <td>0</td>\n",
              "      <td>BELANJA LANGSUNG BAGIAN UMUM DAN PROTOKOL</td>\n",
              "      <td>1.20.61</td>\n",
              "      <td>Program Peningkatan dan Pengelolaan Kantor</td>\n",
              "      <td>1.20.61.020</td>\n",
              "      <td>Penyediaan jasa dan pengadaan kelengkapan tama...</td>\n",
              "      <td>681.657.278</td>\n",
              "      <td>681657278</td>\n",
              "      <td>646421539</td>\n",
              "    </tr>\n",
              "    <tr>\n",
              "      <th>26</th>\n",
              "      <td>0</td>\n",
              "      <td>BELANJA LANGSUNG BAGIAN UMUM DAN PROTOKOL</td>\n",
              "      <td>1.20.61</td>\n",
              "      <td>Program Peningkatan dan Pengelolaan Kantor</td>\n",
              "      <td>1.20.61.021</td>\n",
              "      <td>Pemeliharaan Genset Kantor Walikota Kota Adm. ...</td>\n",
              "      <td>198.968.027</td>\n",
              "      <td>198968027</td>\n",
              "      <td>172888800</td>\n",
              "    </tr>\n",
              "    <tr>\n",
              "      <th>27</th>\n",
              "      <td>0</td>\n",
              "      <td>BELANJA LANGSUNG BAGIAN UMUM DAN PROTOKOL</td>\n",
              "      <td>1.20.61</td>\n",
              "      <td>Program Peningkatan dan Pengelolaan Kantor</td>\n",
              "      <td>1.20.61.022</td>\n",
              "      <td>Pemeliharaan Kantor Walikota Kota Adm. Jakarta...</td>\n",
              "      <td>920.911.801</td>\n",
              "      <td>920911801</td>\n",
              "      <td>265985442</td>\n",
              "    </tr>\n",
              "    <tr>\n",
              "      <th>28</th>\n",
              "      <td>0</td>\n",
              "      <td>BELANJA LANGSUNG BAGIAN UMUM DAN PROTOKOL</td>\n",
              "      <td>1.20.61</td>\n",
              "      <td>Program Peningkatan dan Pengelolaan Kantor</td>\n",
              "      <td>1.20.61.023</td>\n",
              "      <td>Penyediaan Kerumahtanggaan Kantor Walikota Kot...</td>\n",
              "      <td>628.555.367</td>\n",
              "      <td>628555367</td>\n",
              "      <td>362423478</td>\n",
              "    </tr>\n",
              "    <tr>\n",
              "      <th>29</th>\n",
              "      <td>0</td>\n",
              "      <td>BELANJA LANGSUNG BAGIAN UMUM DAN PROTOKOL</td>\n",
              "      <td>1.20.61</td>\n",
              "      <td>Program Peningkatan dan Pengelolaan Kantor</td>\n",
              "      <td>1.20.61.024</td>\n",
              "      <td>Pengadaan Peralatan Kantor Walikota Kota Adm. ...</td>\n",
              "      <td>177.684.375</td>\n",
              "      <td>177684375</td>\n",
              "      <td>74290700</td>\n",
              "    </tr>\n",
              "  </tbody>\n",
              "</table>\n",
              "</div>\n",
              "      <button class=\"colab-df-convert\" onclick=\"convertToInteractive('df-73cfa00f-8541-40a4-bbb6-e92a23d56f54')\"\n",
              "              title=\"Convert this dataframe to an interactive table.\"\n",
              "              style=\"display:none;\">\n",
              "        \n",
              "  <svg xmlns=\"http://www.w3.org/2000/svg\" height=\"24px\"viewBox=\"0 0 24 24\"\n",
              "       width=\"24px\">\n",
              "    <path d=\"M0 0h24v24H0V0z\" fill=\"none\"/>\n",
              "    <path d=\"M18.56 5.44l.94 2.06.94-2.06 2.06-.94-2.06-.94-.94-2.06-.94 2.06-2.06.94zm-11 1L8.5 8.5l.94-2.06 2.06-.94-2.06-.94L8.5 2.5l-.94 2.06-2.06.94zm10 10l.94 2.06.94-2.06 2.06-.94-2.06-.94-.94-2.06-.94 2.06-2.06.94z\"/><path d=\"M17.41 7.96l-1.37-1.37c-.4-.4-.92-.59-1.43-.59-.52 0-1.04.2-1.43.59L10.3 9.45l-7.72 7.72c-.78.78-.78 2.05 0 2.83L4 21.41c.39.39.9.59 1.41.59.51 0 1.02-.2 1.41-.59l7.78-7.78 2.81-2.81c.8-.78.8-2.07 0-2.86zM5.41 20L4 18.59l7.72-7.72 1.47 1.35L5.41 20z\"/>\n",
              "  </svg>\n",
              "      </button>\n",
              "      \n",
              "  <style>\n",
              "    .colab-df-container {\n",
              "      display:flex;\n",
              "      flex-wrap:wrap;\n",
              "      gap: 12px;\n",
              "    }\n",
              "\n",
              "    .colab-df-convert {\n",
              "      background-color: #E8F0FE;\n",
              "      border: none;\n",
              "      border-radius: 50%;\n",
              "      cursor: pointer;\n",
              "      display: none;\n",
              "      fill: #1967D2;\n",
              "      height: 32px;\n",
              "      padding: 0 0 0 0;\n",
              "      width: 32px;\n",
              "    }\n",
              "\n",
              "    .colab-df-convert:hover {\n",
              "      background-color: #E2EBFA;\n",
              "      box-shadow: 0px 1px 2px rgba(60, 64, 67, 0.3), 0px 1px 3px 1px rgba(60, 64, 67, 0.15);\n",
              "      fill: #174EA6;\n",
              "    }\n",
              "\n",
              "    [theme=dark] .colab-df-convert {\n",
              "      background-color: #3B4455;\n",
              "      fill: #D2E3FC;\n",
              "    }\n",
              "\n",
              "    [theme=dark] .colab-df-convert:hover {\n",
              "      background-color: #434B5C;\n",
              "      box-shadow: 0px 1px 3px 1px rgba(0, 0, 0, 0.15);\n",
              "      filter: drop-shadow(0px 1px 2px rgba(0, 0, 0, 0.3));\n",
              "      fill: #FFFFFF;\n",
              "    }\n",
              "  </style>\n",
              "\n",
              "      <script>\n",
              "        const buttonEl =\n",
              "          document.querySelector('#df-73cfa00f-8541-40a4-bbb6-e92a23d56f54 button.colab-df-convert');\n",
              "        buttonEl.style.display =\n",
              "          google.colab.kernel.accessAllowed ? 'block' : 'none';\n",
              "\n",
              "        async function convertToInteractive(key) {\n",
              "          const element = document.querySelector('#df-73cfa00f-8541-40a4-bbb6-e92a23d56f54');\n",
              "          const dataTable =\n",
              "            await google.colab.kernel.invokeFunction('convertToInteractive',\n",
              "                                                     [key], {});\n",
              "          if (!dataTable) return;\n",
              "\n",
              "          const docLinkHtml = 'Like what you see? Visit the ' +\n",
              "            '<a target=\"_blank\" href=https://colab.research.google.com/notebooks/data_table.ipynb>data table notebook</a>'\n",
              "            + ' to learn more about interactive tables.';\n",
              "          element.innerHTML = '';\n",
              "          dataTable['output_type'] = 'display_data';\n",
              "          await google.colab.output.renderOutput(dataTable, element);\n",
              "          const docLink = document.createElement('div');\n",
              "          docLink.innerHTML = docLinkHtml;\n",
              "          element.appendChild(docLink);\n",
              "        }\n",
              "      </script>\n",
              "    </div>\n",
              "  </div>\n",
              "  "
            ]
          },
          "metadata": {},
          "execution_count": 5
        }
      ]
    },
    {
      "cell_type": "code",
      "source": [
        "import matplotlib.pyplot as plt #VISUALISASI DATA\n",
        "\n",
        "df.plot(kind='scatter', x='realisasi_spd', y='realisasi_spj')#untuk nama variable\n",
        "\n",
        "plt.title('indeks kesejahteraan warga')\n",
        "plt.xlabel('omzet')\n",
        "plt.ylabel('Indeks')\n",
        "plt.xlim(0, 1529484000)\n",
        "plt.ylim(0, 1015470573)\n",
        "plt.grid(True)\n",
        "plt.show()"
      ],
      "metadata": {
        "colab": {
          "base_uri": "https://localhost:8080/",
          "height": 295
        },
        "id": "8gCZuLjV24HN",
        "outputId": "8dadb928-6db2-4d9a-8027-fde9d8cd868f"
      },
      "execution_count": 6,
      "outputs": [
        {
          "output_type": "display_data",
          "data": {
            "text/plain": [
              "<Figure size 432x288 with 1 Axes>"
            ],
            "image/png": "[encoded data removed]"
          },
          "metadata": {
            "needs_background": "light"
          }
        }
      ]
    },
    {
      "cell_type": "code",
      "source": [
        "import numpy as np\n",
        "X = np.array(df['realisasi_spd']) #Feature\n",
        "Y = np.array(df['realisasi_spj'])#target\n",
        "\n",
        "print(f'x : {X}') #DATA X ITU ADALAH VARIABLE INDEPENDENT ATAU BEBAS\n",
        "print(f'y : {Y}') #VAR Y ITU ADALAH VARIABLE TERIKAT/DEPENDENT"
      ],
      "metadata": {
        "colab": {
          "base_uri": "https://localhost:8080/"
        },
        "id": "V5dYY1E828iE",
        "outputId": "28837317-b6c8-4181-a425-25b054c26194"
      },
      "execution_count": 7,
      "outputs": [
        {
          "output_type": "stream",
          "name": "stdout",
          "text": [
            "x : [   55000000   536239696  6468140486  8447684121  5310274728  5334517135\n",
            "  8623401579  1089000000  4739990750   100420000   373692000   637200000\n",
            " 13529484000    29066800  6155708260  4772076200   199930124   169455132\n",
            "   171600000  1576756000   277920720    11778400  2361233548   191349965\n",
            "  1726449169   681657278   198968027   920911801   628555367   177684375]\n",
            "y : [  55000000  526820725 2593901000 3262714000 3052824000 2003285000\n",
            " 3307080256  915000000 1716542421   57586000  311862000  451030000\n",
            " 9015470573   22295100 6046549359 4675460224  175161580  148508712\n",
            "   75240000 1227055000  156131016    3900000   38349200  183507500\n",
            " 1644056154  646421539  172888800  265985442  362423478   74290700]\n"
          ]
        }
      ]
    },
    {
      "cell_type": "code",
      "source": [
        "X = X.reshape(-1, 1) #Reshaping atau slice data\n",
        "X.shape"
      ],
      "metadata": {
        "colab": {
          "base_uri": "https://localhost:8080/"
        },
        "id": "91pmzkd03BQt",
        "outputId": "beabbfe3-aedf-49fe-b269-c52e619190d3"
      },
      "execution_count": 8,
      "outputs": [
        {
          "output_type": "execute_result",
          "data": {
            "text/plain": [
              "(30, 1)"
            ]
          },
          "metadata": {},
          "execution_count": 8
        }
      ]
    },
    {
      "cell_type": "code",
      "source": [
        "X"
      ],
      "metadata": {
        "colab": {
          "base_uri": "https://localhost:8080/"
        },
        "id": "4XsAdkVS3FS2",
        "outputId": "43618287-77a3-4524-ec6e-e2f12b1e7c98"
      },
      "execution_count": 9,
      "outputs": [
        {
          "output_type": "execute_result",
          "data": {
            "text/plain": [
              "array([[   55000000],\n",
              "       [  536239696],\n",
              "       [ 6468140486],\n",
              "       [ 8447684121],\n",
              "       [ 5310274728],\n",
              "       [ 5334517135],\n",
              "       [ 8623401579],\n",
              "       [ 1089000000],\n",
              "       [ 4739990750],\n",
              "       [  100420000],\n",
              "       [  373692000],\n",
              "       [  637200000],\n",
              "       [13529484000],\n",
              "       [   29066800],\n",
              "       [ 6155708260],\n",
              "       [ 4772076200],\n",
              "       [  199930124],\n",
              "       [  169455132],\n",
              "       [  171600000],\n",
              "       [ 1576756000],\n",
              "       [  277920720],\n",
              "       [   11778400],\n",
              "       [ 2361233548],\n",
              "       [  191349965],\n",
              "       [ 1726449169],\n",
              "       [  681657278],\n",
              "       [  198968027],\n",
              "       [  920911801],\n",
              "       [  628555367],\n",
              "       [  177684375]])"
            ]
          },
          "metadata": {},
          "execution_count": 9
        }
      ]
    },
    {
      "cell_type": "code",
      "source": [
        "#training model\n",
        "from sklearn.linear_model import LinearRegression #MEMANGGIL MODEL REGRESI LINEAR\n",
        "\n",
        "model = LinearRegression() #VARIABLE MODEL BISA DIGANTI\n",
        "model.fit(X, Y) #X feature , y target\n",
        "#(PROSES NILAI X) --> = Y (TARGET)\n",
        "\n",
        "#menjadi training model"
      ],
      "metadata": {
        "colab": {
          "base_uri": "https://localhost:8080/"
        },
        "id": "2jjB7o773HZO",
        "outputId": "1b482dea-cf57-4b95-cc72-5716726737a4"
      },
      "execution_count": 10,
      "outputs": [
        {
          "output_type": "execute_result",
          "data": {
            "text/plain": [
              "LinearRegression()"
            ]
          },
          "metadata": {},
          "execution_count": 10
        }
      ]
    },
    {
      "cell_type": "code",
      "source": [
        "X_vis = np.array([0, 13529484000]).reshape(-1, 1) #pembuat garis merah dari X\n",
        "Y_vis = model.predict(X_vis) #MODEL MACHINE LEARNING"
      ],
      "metadata": {
        "id": "qtZE8K5o3Ten"
      },
      "execution_count": 11,
      "outputs": []
    },
    {
      "cell_type": "code",
      "source": [
        "plt.scatter(X, Y)\n",
        "plt.plot(X_vis, Y_vis, '-r')\n",
        "plt.title('anggaran')\n",
        "plt.xlabel('omzet')\n",
        "plt.ylabel('volume')\n",
        "plt.xlim(0, 1529484000)\n",
        "plt.ylim(0, 1015470573)\n",
        "plt.grid(True)\n",
        "plt.show()"
      ],
      "metadata": {
        "colab": {
          "base_uri": "https://localhost:8080/",
          "height": 295
        },
        "id": "9WolI3Jv3XUP",
        "outputId": "1dcc7329-130c-43b8-ebc3-0a16af2ffa9a"
      },
      "execution_count": 12,
      "outputs": [
        {
          "output_type": "display_data",
          "data": {
            "text/plain": [
              "<Figure size 432x288 with 1 Axes>"
            ],
            "image/png": "[encoded data removed]"
          },
          "metadata": {
            "needs_background": "light"
          }
        }
      ]
    },
    {
      "cell_type": "code",
      "source": [
        "fig = plt.figure()\n",
        "ax = fig.add_axes([0,0,1,1])\n",
        "indeks =['realisasi_spd', 'realisasi_spj']\n",
        "jumlah =[75496145661, 43187339779]\n",
        "c = ['green', 'red', 'yellow', 'purple', 'grey']\n",
        "plt.title(\"Data pencemaran\")\n",
        "plt.xlabel(\"perusahaan\")\n",
        "plt.ylabel(\"nilai\")\n",
        "plt.bar(indeks, jumlah, color = c)\n",
        "plt.grid(True)\n",
        "plt.show\n",
        "print()\n",
        "import matplotlib.pyplot as plt\n",
        "fig = plt.figure()\n",
        "ax = fig.add_axes([0,0,1,1])\n",
        "ax.axis('equal')\n",
        "plt.title(\"Data pencemaran\")\n",
        "nama =['realisasi_spd', 'realisasi_spj']\n",
        "jml =[75496145661, 43187339779]\n",
        "ax.pie(jml,labels=nama,autopct='%1.2f%%')\n",
        "plt.show()"
      ],
      "metadata": {
        "colab": {
          "base_uri": "https://localhost:8080/",
          "height": 702
        },
        "id": "oUOQGnXR3aAg",
        "outputId": "c01061cf-a1f7-4fa7-a198-57d57964942e"
      },
      "execution_count": 13,
      "outputs": [
        {
          "output_type": "stream",
          "name": "stdout",
          "text": [
            "\n"
          ]
        },
        {
          "output_type": "display_data",
          "data": {
            "text/plain": [
              "<Figure size 432x288 with 1 Axes>"
            ],
            "image/png": "[encoded data removed]"
          },
          "metadata": {
            "needs_background": "light"
          }
        },
        {
          "output_type": "display_data",
          "data": {
            "text/plain": [
              "<Figure size 432x288 with 1 Axes>"
            ],
            "image/png": "[encoded data removed]"
          },
          "metadata": {}
        }
      ]
    },
    {
      "cell_type": "code",
      "source": [
        "print(f'intercept : {model.intercept_}')\n",
        "print(f'slope : {model.coef_}')\n",
        "# alpha = Intercept merupakan tiitk dari sumbu Y garis linier nilai X ketika 0\n",
        "# beta = nilai slope berpengaruh terhadap kemiringan garis linier yang terbentuk"
      ],
      "metadata": {
        "colab": {
          "base_uri": "https://localhost:8080/"
        },
        "id": "rbGSKmi83diY",
        "outputId": "c8452c23-4c96-4d14-c0bb-47d6a6049266"
      },
      "execution_count": 14,
      "outputs": [
        {
          "output_type": "stream",
          "name": "stdout",
          "text": [
            "intercept : 26424320.326767206\n",
            "slope : [0.56154668]\n"
          ]
        }
      ]
    },
    {
      "cell_type": "code",
      "source": [
        "#Prediksi Sample Data\n",
        "jml_penduduk = np.array([500000000,  400000000, 700000000, 750000000, 850000000]).reshape(-1, 1)\n",
        "jml_penduduk"
      ],
      "metadata": {
        "colab": {
          "base_uri": "https://localhost:8080/"
        },
        "id": "frVbn5It3hVI",
        "outputId": "62da41a3-45da-43d3-91c0-b8f26a5937bf"
      },
      "execution_count": 15,
      "outputs": [
        {
          "output_type": "execute_result",
          "data": {
            "text/plain": [
              "array([[500000000],\n",
              "       [400000000],\n",
              "       [700000000],\n",
              "       [750000000],\n",
              "       [850000000]])"
            ]
          },
          "metadata": {},
          "execution_count": 15
        }
      ]
    },
    {
      "cell_type": "code",
      "source": [
        "prediksi_indeks = model.predict(jml_penduduk)\n",
        "prediksi_indeks"
      ],
      "metadata": {
        "colab": {
          "base_uri": "https://localhost:8080/"
        },
        "id": "DkFJShS53j6J",
        "outputId": "a3b6b83d-0a85-455c-85b1-6b835b9cbba3"
      },
      "execution_count": 16,
      "outputs": [
        {
          "output_type": "execute_result",
          "data": {
            "text/plain": [
              "array([3.07197662e+08, 2.51042993e+08, 4.19506998e+08, 4.47584333e+08,\n",
              "       5.03739001e+08])"
            ]
          },
          "metadata": {},
          "execution_count": 16
        }
      ]
    },
    {
      "cell_type": "code",
      "source": [
        "for penduduk, index in zip(jml_penduduk, prediksi_indeks):\n",
        "  print(f'Jumlah Penduduk : {penduduk} prediksi indeks : {index}z')"
      ],
      "metadata": {
        "colab": {
          "base_uri": "https://localhost:8080/"
        },
        "id": "nqdvv2393muJ",
        "outputId": "1b8d08f6-a09d-4eb1-b791-96dd73dac842"
      },
      "execution_count": 17,
      "outputs": [
        {
          "output_type": "stream",
          "name": "stdout",
          "text": [
            "Jumlah Penduduk : [500000000] prediksi indeks : 307197661.78688174z\n",
            "Jumlah Penduduk : [400000000] prediksi indeks : 251042993.4948588z\n",
            "Jumlah Penduduk : [700000000] prediksi indeks : 419506998.3709275z\n",
            "Jumlah Penduduk : [750000000] prediksi indeks : 447584332.516939z\n",
            "Jumlah Penduduk : [850000000] prediksi indeks : 503739000.80896187z\n"
          ]
        }
      ]
    },
    {
      "cell_type": "code",
      "source": [
        "df['realisasi_spd'].sum()"
      ],
      "metadata": {
        "colab": {
          "base_uri": "https://localhost:8080/"
        },
        "id": "L6kCMXLVFoCx",
        "outputId": "44805e7b-9663-4aba-b76e-0d0fdf53be83"
      },
      "execution_count": 18,
      "outputs": [
        {
          "output_type": "execute_result",
          "data": {
            "text/plain": [
              "75496145661"
            ]
          },
          "metadata": {},
          "execution_count": 18
        }
      ]
    },
    {
      "cell_type": "code",
      "source": [
        "df['realisasi_spj'].sum()"
      ],
      "metadata": {
        "colab": {
          "base_uri": "https://localhost:8080/"
        },
        "id": "SarYzhHWFszy",
        "outputId": "7f9afcc5-a666-4426-bb22-4d451022f023"
      },
      "execution_count": 19,
      "outputs": [
        {
          "output_type": "execute_result",
          "data": {
            "text/plain": [
              "43187339779"
            ]
          },
          "metadata": {},
          "execution_count": 19
        }
      ]
    }
  ]
}