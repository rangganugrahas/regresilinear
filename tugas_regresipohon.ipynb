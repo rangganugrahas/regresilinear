{
  "nbformat": 4,
  "nbformat_minor": 0,
  "metadata": {
    "colab": {
      "provenance": []
    },
    "kernelspec": {
      "name": "python3",
      "display_name": "Python 3"
    },
    "language_info": {
      "name": "python"
    }
  },
  "cells": [
    {
      "cell_type": "code",
      "execution_count": 2,
      "metadata": {
        "colab": {
          "base_uri": "https://localhost:8080/"
        },
        "id": "LFD67ZEa-C69",
        "outputId": "def1cf21-1742-452a-c30d-b3128e03c74d"
      },
      "outputs": [
        {
          "output_type": "stream",
          "name": "stdout",
          "text": [
            "Mounted at /content/drive\n"
          ]
        }
      ],
      "source": [
        "from google.colab import drive #MEMANGGIL PACKAGE UNTUK PATH FILE\n",
        "drive.mount('/content/drive')"
      ]
    },
    {
      "cell_type": "code",
      "source": [
        "import pandas as pd #manipulasi data\n",
        "\n",
        "path ='/content/drive/MyDrive/CSV/pohon - Sheet1.csv' #PATH ATAU PEMANGGIL\n",
        "df = pd.read_csv(path) #DF DATA FRAME /UNTUK PENAMAAN BEBAS\n",
        "\n",
        "df.describe() #melihat data struktur"
      ],
      "metadata": {
        "colab": {
          "base_uri": "https://localhost:8080/",
          "height": 300
        },
        "id": "96KFc5G_-Srz",
        "outputId": "e2fa75ba-8f27-4762-da33-6525963013fe"
      },
      "execution_count": 4,
      "outputs": [
        {
          "output_type": "execute_result",
          "data": {
            "text/plain": [
              "          volume         omzet\n",
              "count  25.000000  2.500000e+01\n",
              "mean   18.640000  4.737000e+06\n",
              "std    14.597032  4.224871e+06\n",
              "min     3.000000  3.750000e+05\n",
              "25%     7.000000  1.650000e+06\n",
              "50%    14.000000  3.500000e+06\n",
              "75%    26.000000  6.500000e+06\n",
              "max    52.000000  1.470000e+07"
            ],
            "text/html": [
              "\n",
              "  <div id=\"df-51630f3f-7d49-4e7d-aaa2-0b5fb50c1646\">\n",
              "    <div class=\"colab-df-container\">\n",
              "      <div>\n",
              "<style scoped>\n",
              "    .dataframe tbody tr th:only-of-type {\n",
              "        vertical-align: middle;\n",
              "    }\n",
              "\n",
              "    .dataframe tbody tr th {\n",
              "        vertical-align: top;\n",
              "    }\n",
              "\n",
              "    .dataframe thead th {\n",
              "        text-align: right;\n",
              "    }\n",
              "</style>\n",
              "<table border=\"1\" class=\"dataframe\">\n",
              "  <thead>\n",
              "    <tr style=\"text-align: right;\">\n",
              "      <th></th>\n",
              "      <th>volume</th>\n",
              "      <th>omzet</th>\n",
              "    </tr>\n",
              "  </thead>\n",
              "  <tbody>\n",
              "    <tr>\n",
              "      <th>count</th>\n",
              "      <td>25.000000</td>\n",
              "      <td>2.500000e+01</td>\n",
              "    </tr>\n",
              "    <tr>\n",
              "      <th>mean</th>\n",
              "      <td>18.640000</td>\n",
              "      <td>4.737000e+06</td>\n",
              "    </tr>\n",
              "    <tr>\n",
              "      <th>std</th>\n",
              "      <td>14.597032</td>\n",
              "      <td>4.224871e+06</td>\n",
              "    </tr>\n",
              "    <tr>\n",
              "      <th>min</th>\n",
              "      <td>3.000000</td>\n",
              "      <td>3.750000e+05</td>\n",
              "    </tr>\n",
              "    <tr>\n",
              "      <th>25%</th>\n",
              "      <td>7.000000</td>\n",
              "      <td>1.650000e+06</td>\n",
              "    </tr>\n",
              "    <tr>\n",
              "      <th>50%</th>\n",
              "      <td>14.000000</td>\n",
              "      <td>3.500000e+06</td>\n",
              "    </tr>\n",
              "    <tr>\n",
              "      <th>75%</th>\n",
              "      <td>26.000000</td>\n",
              "      <td>6.500000e+06</td>\n",
              "    </tr>\n",
              "    <tr>\n",
              "      <th>max</th>\n",
              "      <td>52.000000</td>\n",
              "      <td>1.470000e+07</td>\n",
              "    </tr>\n",
              "  </tbody>\n",
              "</table>\n",
              "</div>\n",
              "      <button class=\"colab-df-convert\" onclick=\"convertToInteractive('df-51630f3f-7d49-4e7d-aaa2-0b5fb50c1646')\"\n",
              "              title=\"Convert this dataframe to an interactive table.\"\n",
              "              style=\"display:none;\">\n",
              "        \n",
              "  <svg xmlns=\"http://www.w3.org/2000/svg\" height=\"24px\"viewBox=\"0 0 24 24\"\n",
              "       width=\"24px\">\n",
              "    <path d=\"M0 0h24v24H0V0z\" fill=\"none\"/>\n",
              "    <path d=\"M18.56 5.44l.94 2.06.94-2.06 2.06-.94-2.06-.94-.94-2.06-.94 2.06-2.06.94zm-11 1L8.5 8.5l.94-2.06 2.06-.94-2.06-.94L8.5 2.5l-.94 2.06-2.06.94zm10 10l.94 2.06.94-2.06 2.06-.94-2.06-.94-.94-2.06-.94 2.06-2.06.94z\"/><path d=\"M17.41 7.96l-1.37-1.37c-.4-.4-.92-.59-1.43-.59-.52 0-1.04.2-1.43.59L10.3 9.45l-7.72 7.72c-.78.78-.78 2.05 0 2.83L4 21.41c.39.39.9.59 1.41.59.51 0 1.02-.2 1.41-.59l7.78-7.78 2.81-2.81c.8-.78.8-2.07 0-2.86zM5.41 20L4 18.59l7.72-7.72 1.47 1.35L5.41 20z\"/>\n",
              "  </svg>\n",
              "      </button>\n",
              "      \n",
              "  <style>\n",
              "    .colab-df-container {\n",
              "      display:flex;\n",
              "      flex-wrap:wrap;\n",
              "      gap: 12px;\n",
              "    }\n",
              "\n",
              "    .colab-df-convert {\n",
              "      background-color: #E8F0FE;\n",
              "      border: none;\n",
              "      border-radius: 50%;\n",
              "      cursor: pointer;\n",
              "      display: none;\n",
              "      fill: #1967D2;\n",
              "      height: 32px;\n",
              "      padding: 0 0 0 0;\n",
              "      width: 32px;\n",
              "    }\n",
              "\n",
              "    .colab-df-convert:hover {\n",
              "      background-color: #E2EBFA;\n",
              "      box-shadow: 0px 1px 2px rgba(60, 64, 67, 0.3), 0px 1px 3px 1px rgba(60, 64, 67, 0.15);\n",
              "      fill: #174EA6;\n",
              "    }\n",
              "\n",
              "    [theme=dark] .colab-df-convert {\n",
              "      background-color: #3B4455;\n",
              "      fill: #D2E3FC;\n",
              "    }\n",
              "\n",
              "    [theme=dark] .colab-df-convert:hover {\n",
              "      background-color: #434B5C;\n",
              "      box-shadow: 0px 1px 3px 1px rgba(0, 0, 0, 0.15);\n",
              "      filter: drop-shadow(0px 1px 2px rgba(0, 0, 0, 0.3));\n",
              "      fill: #FFFFFF;\n",
              "    }\n",
              "  </style>\n",
              "\n",
              "      <script>\n",
              "        const buttonEl =\n",
              "          document.querySelector('#df-51630f3f-7d49-4e7d-aaa2-0b5fb50c1646 button.colab-df-convert');\n",
              "        buttonEl.style.display =\n",
              "          google.colab.kernel.accessAllowed ? 'block' : 'none';\n",
              "\n",
              "        async function convertToInteractive(key) {\n",
              "          const element = document.querySelector('#df-51630f3f-7d49-4e7d-aaa2-0b5fb50c1646');\n",
              "          const dataTable =\n",
              "            await google.colab.kernel.invokeFunction('convertToInteractive',\n",
              "                                                     [key], {});\n",
              "          if (!dataTable) return;\n",
              "\n",
              "          const docLinkHtml = 'Like what you see? Visit the ' +\n",
              "            '<a target=\"_blank\" href=https://colab.research.google.com/notebooks/data_table.ipynb>data table notebook</a>'\n",
              "            + ' to learn more about interactive tables.';\n",
              "          element.innerHTML = '';\n",
              "          dataTable['output_type'] = 'display_data';\n",
              "          await google.colab.output.renderOutput(dataTable, element);\n",
              "          const docLink = document.createElement('div');\n",
              "          docLink.innerHTML = docLinkHtml;\n",
              "          element.appendChild(docLink);\n",
              "        }\n",
              "      </script>\n",
              "    </div>\n",
              "  </div>\n",
              "  "
            ]
          },
          "metadata": {},
          "execution_count": 4
        }
      ]
    },
    {
      "cell_type": "code",
      "source": [
        "df"
      ],
      "metadata": {
        "colab": {
          "base_uri": "https://localhost:8080/",
          "height": 833
        },
        "id": "YeQmCd5c-V8y",
        "outputId": "bf05e4bb-5d34-437a-d86b-59b2ed291b17"
      },
      "execution_count": 5,
      "outputs": [
        {
          "output_type": "execute_result",
          "data": {
            "text/plain": [
              "                     lokasi              jenis  volume satuan     omzet\n",
              "0   Penangkar Bibit Ragunan        Pohon sukun       3  Pohon    750000\n",
              "1   Penangkar Bibit Ragunan        Nangka Mini       8  Pohon   1200000\n",
              "2   Penangkar Bibit Ragunan            Menteng       3  Pohon    450000\n",
              "3   Penangkar Bibit Ragunan             Cermai       5  Pohon    375000\n",
              "4   Penangkar Bibit Ragunan     Durian Montong      35  Pohon   8750000\n",
              "5   Penangkar Bibit Ragunan    Durian Sitokong      42  Pohon  14700000\n",
              "6   Penangkar Bibit Ragunan          Jeruk Kip      18  Pohon   4500000\n",
              "7   Penangkar Bibit Ragunan        Jeruk Nipis      14  Pohon   3500000\n",
              "8   Penangkar Bibit Ragunan        Jeruk purut      23  Pohon   3450000\n",
              "9   Penangkar Bibit Ragunan         Jeruk limo      13  Pohon   1950000\n",
              "10  Penangkar Bibit Ragunan      Jeruk limonti      16  Pohon   2400000\n",
              "11  Penangkar Bibit Ragunan         Jeruk Bali      18  Pohon   3600000\n",
              "12  Penangkar Bibit Ragunan       Jeruk Nagami      44  Pohon  11000000\n",
              "13  Penangkar Bibit Ragunan    Mangga Manalagi      22  Pohon   5500000\n",
              "14  Penangkar Bibit Ragunan       Mangga harum      44  Pohon  11000000\n",
              "15  Penangkar Bibit Ragunan      Mangga ciojao       7  Pohon   5250000\n",
              "16  Penangkar Bibit Ragunan     Belimbing Dewi       5  Pohon    750000\n",
              "17  Penangkar Bibit Ragunan  belimbing diamond       8  Pohon   2000000\n",
              "18  Penangkar Bibit Ragunan    Rambutan ropiah      11  Pohon   3850000\n",
              "19  Penangkar Bibit Ragunan    rambutan Binjai       6  Pohon   2100000\n",
              "20  Penangkar Bibit Ragunan         jambu biji      52  Pohon  13000000\n",
              "21  Penangkar Bibit Ragunan     jambu airlilin      27  Pohon   9450000\n",
              "22  Penangkar Bibit Ragunan        jambu citra      26  Pohon   6500000\n",
              "23  Penangkar Bibit Ragunan     jambu air apel      11  Pohon   1650000\n",
              "24  Penangkar Bibit Ragunan        sawo betawi       5  Pohon    750000"
            ],
            "text/html": [
              "\n",
              "  <div id=\"df-878a281c-a6d3-4e50-8118-b3a1eb707b4d\">\n",
              "    <div class=\"colab-df-container\">\n",
              "      <div>\n",
              "<style scoped>\n",
              "    .dataframe tbody tr th:only-of-type {\n",
              "        vertical-align: middle;\n",
              "    }\n",
              "\n",
              "    .dataframe tbody tr th {\n",
              "        vertical-align: top;\n",
              "    }\n",
              "\n",
              "    .dataframe thead th {\n",
              "        text-align: right;\n",
              "    }\n",
              "</style>\n",
              "<table border=\"1\" class=\"dataframe\">\n",
              "  <thead>\n",
              "    <tr style=\"text-align: right;\">\n",
              "      <th></th>\n",
              "      <th>lokasi</th>\n",
              "      <th>jenis</th>\n",
              "      <th>volume</th>\n",
              "      <th>satuan</th>\n",
              "      <th>omzet</th>\n",
              "    </tr>\n",
              "  </thead>\n",
              "  <tbody>\n",
              "    <tr>\n",
              "      <th>0</th>\n",
              "      <td>Penangkar Bibit Ragunan</td>\n",
              "      <td>Pohon sukun</td>\n",
              "      <td>3</td>\n",
              "      <td>Pohon</td>\n",
              "      <td>750000</td>\n",
              "    </tr>\n",
              "    <tr>\n",
              "      <th>1</th>\n",
              "      <td>Penangkar Bibit Ragunan</td>\n",
              "      <td>Nangka Mini</td>\n",
              "      <td>8</td>\n",
              "      <td>Pohon</td>\n",
              "      <td>1200000</td>\n",
              "    </tr>\n",
              "    <tr>\n",
              "      <th>2</th>\n",
              "      <td>Penangkar Bibit Ragunan</td>\n",
              "      <td>Menteng</td>\n",
              "      <td>3</td>\n",
              "      <td>Pohon</td>\n",
              "      <td>450000</td>\n",
              "    </tr>\n",
              "    <tr>\n",
              "      <th>3</th>\n",
              "      <td>Penangkar Bibit Ragunan</td>\n",
              "      <td>Cermai</td>\n",
              "      <td>5</td>\n",
              "      <td>Pohon</td>\n",
              "      <td>375000</td>\n",
              "    </tr>\n",
              "    <tr>\n",
              "      <th>4</th>\n",
              "      <td>Penangkar Bibit Ragunan</td>\n",
              "      <td>Durian Montong</td>\n",
              "      <td>35</td>\n",
              "      <td>Pohon</td>\n",
              "      <td>8750000</td>\n",
              "    </tr>\n",
              "    <tr>\n",
              "      <th>5</th>\n",
              "      <td>Penangkar Bibit Ragunan</td>\n",
              "      <td>Durian Sitokong</td>\n",
              "      <td>42</td>\n",
              "      <td>Pohon</td>\n",
              "      <td>14700000</td>\n",
              "    </tr>\n",
              "    <tr>\n",
              "      <th>6</th>\n",
              "      <td>Penangkar Bibit Ragunan</td>\n",
              "      <td>Jeruk Kip</td>\n",
              "      <td>18</td>\n",
              "      <td>Pohon</td>\n",
              "      <td>4500000</td>\n",
              "    </tr>\n",
              "    <tr>\n",
              "      <th>7</th>\n",
              "      <td>Penangkar Bibit Ragunan</td>\n",
              "      <td>Jeruk Nipis</td>\n",
              "      <td>14</td>\n",
              "      <td>Pohon</td>\n",
              "      <td>3500000</td>\n",
              "    </tr>\n",
              "    <tr>\n",
              "      <th>8</th>\n",
              "      <td>Penangkar Bibit Ragunan</td>\n",
              "      <td>Jeruk purut</td>\n",
              "      <td>23</td>\n",
              "      <td>Pohon</td>\n",
              "      <td>3450000</td>\n",
              "    </tr>\n",
              "    <tr>\n",
              "      <th>9</th>\n",
              "      <td>Penangkar Bibit Ragunan</td>\n",
              "      <td>Jeruk limo</td>\n",
              "      <td>13</td>\n",
              "      <td>Pohon</td>\n",
              "      <td>1950000</td>\n",
              "    </tr>\n",
              "    <tr>\n",
              "      <th>10</th>\n",
              "      <td>Penangkar Bibit Ragunan</td>\n",
              "      <td>Jeruk limonti</td>\n",
              "      <td>16</td>\n",
              "      <td>Pohon</td>\n",
              "      <td>2400000</td>\n",
              "    </tr>\n",
              "    <tr>\n",
              "      <th>11</th>\n",
              "      <td>Penangkar Bibit Ragunan</td>\n",
              "      <td>Jeruk Bali</td>\n",
              "      <td>18</td>\n",
              "      <td>Pohon</td>\n",
              "      <td>3600000</td>\n",
              "    </tr>\n",
              "    <tr>\n",
              "      <th>12</th>\n",
              "      <td>Penangkar Bibit Ragunan</td>\n",
              "      <td>Jeruk Nagami</td>\n",
              "      <td>44</td>\n",
              "      <td>Pohon</td>\n",
              "      <td>11000000</td>\n",
              "    </tr>\n",
              "    <tr>\n",
              "      <th>13</th>\n",
              "      <td>Penangkar Bibit Ragunan</td>\n",
              "      <td>Mangga Manalagi</td>\n",
              "      <td>22</td>\n",
              "      <td>Pohon</td>\n",
              "      <td>5500000</td>\n",
              "    </tr>\n",
              "    <tr>\n",
              "      <th>14</th>\n",
              "      <td>Penangkar Bibit Ragunan</td>\n",
              "      <td>Mangga harum</td>\n",
              "      <td>44</td>\n",
              "      <td>Pohon</td>\n",
              "      <td>11000000</td>\n",
              "    </tr>\n",
              "    <tr>\n",
              "      <th>15</th>\n",
              "      <td>Penangkar Bibit Ragunan</td>\n",
              "      <td>Mangga ciojao</td>\n",
              "      <td>7</td>\n",
              "      <td>Pohon</td>\n",
              "      <td>5250000</td>\n",
              "    </tr>\n",
              "    <tr>\n",
              "      <th>16</th>\n",
              "      <td>Penangkar Bibit Ragunan</td>\n",
              "      <td>Belimbing Dewi</td>\n",
              "      <td>5</td>\n",
              "      <td>Pohon</td>\n",
              "      <td>750000</td>\n",
              "    </tr>\n",
              "    <tr>\n",
              "      <th>17</th>\n",
              "      <td>Penangkar Bibit Ragunan</td>\n",
              "      <td>belimbing diamond</td>\n",
              "      <td>8</td>\n",
              "      <td>Pohon</td>\n",
              "      <td>2000000</td>\n",
              "    </tr>\n",
              "    <tr>\n",
              "      <th>18</th>\n",
              "      <td>Penangkar Bibit Ragunan</td>\n",
              "      <td>Rambutan ropiah</td>\n",
              "      <td>11</td>\n",
              "      <td>Pohon</td>\n",
              "      <td>3850000</td>\n",
              "    </tr>\n",
              "    <tr>\n",
              "      <th>19</th>\n",
              "      <td>Penangkar Bibit Ragunan</td>\n",
              "      <td>rambutan Binjai</td>\n",
              "      <td>6</td>\n",
              "      <td>Pohon</td>\n",
              "      <td>2100000</td>\n",
              "    </tr>\n",
              "    <tr>\n",
              "      <th>20</th>\n",
              "      <td>Penangkar Bibit Ragunan</td>\n",
              "      <td>jambu biji</td>\n",
              "      <td>52</td>\n",
              "      <td>Pohon</td>\n",
              "      <td>13000000</td>\n",
              "    </tr>\n",
              "    <tr>\n",
              "      <th>21</th>\n",
              "      <td>Penangkar Bibit Ragunan</td>\n",
              "      <td>jambu airlilin</td>\n",
              "      <td>27</td>\n",
              "      <td>Pohon</td>\n",
              "      <td>9450000</td>\n",
              "    </tr>\n",
              "    <tr>\n",
              "      <th>22</th>\n",
              "      <td>Penangkar Bibit Ragunan</td>\n",
              "      <td>jambu citra</td>\n",
              "      <td>26</td>\n",
              "      <td>Pohon</td>\n",
              "      <td>6500000</td>\n",
              "    </tr>\n",
              "    <tr>\n",
              "      <th>23</th>\n",
              "      <td>Penangkar Bibit Ragunan</td>\n",
              "      <td>jambu air apel</td>\n",
              "      <td>11</td>\n",
              "      <td>Pohon</td>\n",
              "      <td>1650000</td>\n",
              "    </tr>\n",
              "    <tr>\n",
              "      <th>24</th>\n",
              "      <td>Penangkar Bibit Ragunan</td>\n",
              "      <td>sawo betawi</td>\n",
              "      <td>5</td>\n",
              "      <td>Pohon</td>\n",
              "      <td>750000</td>\n",
              "    </tr>\n",
              "  </tbody>\n",
              "</table>\n",
              "</div>\n",
              "      <button class=\"colab-df-convert\" onclick=\"convertToInteractive('df-878a281c-a6d3-4e50-8118-b3a1eb707b4d')\"\n",
              "              title=\"Convert this dataframe to an interactive table.\"\n",
              "              style=\"display:none;\">\n",
              "        \n",
              "  <svg xmlns=\"http://www.w3.org/2000/svg\" height=\"24px\"viewBox=\"0 0 24 24\"\n",
              "       width=\"24px\">\n",
              "    <path d=\"M0 0h24v24H0V0z\" fill=\"none\"/>\n",
              "    <path d=\"M18.56 5.44l.94 2.06.94-2.06 2.06-.94-2.06-.94-.94-2.06-.94 2.06-2.06.94zm-11 1L8.5 8.5l.94-2.06 2.06-.94-2.06-.94L8.5 2.5l-.94 2.06-2.06.94zm10 10l.94 2.06.94-2.06 2.06-.94-2.06-.94-.94-2.06-.94 2.06-2.06.94z\"/><path d=\"M17.41 7.96l-1.37-1.37c-.4-.4-.92-.59-1.43-.59-.52 0-1.04.2-1.43.59L10.3 9.45l-7.72 7.72c-.78.78-.78 2.05 0 2.83L4 21.41c.39.39.9.59 1.41.59.51 0 1.02-.2 1.41-.59l7.78-7.78 2.81-2.81c.8-.78.8-2.07 0-2.86zM5.41 20L4 18.59l7.72-7.72 1.47 1.35L5.41 20z\"/>\n",
              "  </svg>\n",
              "      </button>\n",
              "      \n",
              "  <style>\n",
              "    .colab-df-container {\n",
              "      display:flex;\n",
              "      flex-wrap:wrap;\n",
              "      gap: 12px;\n",
              "    }\n",
              "\n",
              "    .colab-df-convert {\n",
              "      background-color: #E8F0FE;\n",
              "      border: none;\n",
              "      border-radius: 50%;\n",
              "      cursor: pointer;\n",
              "      display: none;\n",
              "      fill: #1967D2;\n",
              "      height: 32px;\n",
              "      padding: 0 0 0 0;\n",
              "      width: 32px;\n",
              "    }\n",
              "\n",
              "    .colab-df-convert:hover {\n",
              "      background-color: #E2EBFA;\n",
              "      box-shadow: 0px 1px 2px rgba(60, 64, 67, 0.3), 0px 1px 3px 1px rgba(60, 64, 67, 0.15);\n",
              "      fill: #174EA6;\n",
              "    }\n",
              "\n",
              "    [theme=dark] .colab-df-convert {\n",
              "      background-color: #3B4455;\n",
              "      fill: #D2E3FC;\n",
              "    }\n",
              "\n",
              "    [theme=dark] .colab-df-convert:hover {\n",
              "      background-color: #434B5C;\n",
              "      box-shadow: 0px 1px 3px 1px rgba(0, 0, 0, 0.15);\n",
              "      filter: drop-shadow(0px 1px 2px rgba(0, 0, 0, 0.3));\n",
              "      fill: #FFFFFF;\n",
              "    }\n",
              "  </style>\n",
              "\n",
              "      <script>\n",
              "        const buttonEl =\n",
              "          document.querySelector('#df-878a281c-a6d3-4e50-8118-b3a1eb707b4d button.colab-df-convert');\n",
              "        buttonEl.style.display =\n",
              "          google.colab.kernel.accessAllowed ? 'block' : 'none';\n",
              "\n",
              "        async function convertToInteractive(key) {\n",
              "          const element = document.querySelector('#df-878a281c-a6d3-4e50-8118-b3a1eb707b4d');\n",
              "          const dataTable =\n",
              "            await google.colab.kernel.invokeFunction('convertToInteractive',\n",
              "                                                     [key], {});\n",
              "          if (!dataTable) return;\n",
              "\n",
              "          const docLinkHtml = 'Like what you see? Visit the ' +\n",
              "            '<a target=\"_blank\" href=https://colab.research.google.com/notebooks/data_table.ipynb>data table notebook</a>'\n",
              "            + ' to learn more about interactive tables.';\n",
              "          element.innerHTML = '';\n",
              "          dataTable['output_type'] = 'display_data';\n",
              "          await google.colab.output.renderOutput(dataTable, element);\n",
              "          const docLink = document.createElement('div');\n",
              "          docLink.innerHTML = docLinkHtml;\n",
              "          element.appendChild(docLink);\n",
              "        }\n",
              "      </script>\n",
              "    </div>\n",
              "  </div>\n",
              "  "
            ]
          },
          "metadata": {},
          "execution_count": 5
        }
      ]
    },
    {
      "cell_type": "code",
      "source": [
        "import matplotlib.pyplot as plt #VISUALISASI DATA\n",
        "\n",
        "df.plot(kind='scatter', x='volume', y='omzet')#untuk nama variable\n",
        "\n",
        "plt.title('indeks kesejahteraan warga')\n",
        "plt.xlabel('omzet')\n",
        "plt.ylabel('Indeks')\n",
        "plt.xlim(0, 52)\n",
        "plt.ylim(0, 14700000)\n",
        "plt.grid(True)\n",
        "plt.show()"
      ],
      "metadata": {
        "colab": {
          "base_uri": "https://localhost:8080/",
          "height": 295
        },
        "id": "yHP3-4qMAOT7",
        "outputId": "6c89497d-fc18-4aec-9800-c0f7a6c08ae3"
      },
      "execution_count": 8,
      "outputs": [
        {
          "output_type": "display_data",
          "data": {
            "text/plain": [
              "<Figure size 432x288 with 1 Axes>"
            ],
            "image/png": "[encoded data removed]"
          },
          "metadata": {
            "needs_background": "light"
          }
        }
      ]
    },
    {
      "cell_type": "code",
      "source": [
        "import numpy as np\n",
        "X = np.array(df['volume']) #Feature\n",
        "Y = np.array(df['omzet'])#target\n",
        "\n",
        "print(f'x : {X}') #DATA X ITU ADALAH VARIABLE INDEPENDENT ATAU BEBAS\n",
        "print(f'y : {Y}') #VAR Y ITU ADALAH VARIABLE TERIKAT/DEPENDENT"
      ],
      "metadata": {
        "colab": {
          "base_uri": "https://localhost:8080/"
        },
        "id": "-Leh62u3Njaz",
        "outputId": "c590063a-648e-4577-e4b2-d67e99d472ff"
      },
      "execution_count": 9,
      "outputs": [
        {
          "output_type": "stream",
          "name": "stdout",
          "text": [
            "x : [ 3  8  3  5 35 42 18 14 23 13 16 18 44 22 44  7  5  8 11  6 52 27 26 11\n",
            "  5]\n",
            "y : [  750000  1200000   450000   375000  8750000 14700000  4500000  3500000\n",
            "  3450000  1950000  2400000  3600000 11000000  5500000 11000000  5250000\n",
            "   750000  2000000  3850000  2100000 13000000  9450000  6500000  1650000\n",
            "   750000]\n"
          ]
        }
      ]
    },
    {
      "cell_type": "code",
      "source": [
        "X = X.reshape(-1, 1) #Reshaping atau slice data\n",
        "X.shape"
      ],
      "metadata": {
        "colab": {
          "base_uri": "https://localhost:8080/"
        },
        "id": "IsC-y4GRN9-3",
        "outputId": "24dc35a0-5820-4985-f3f4-6c881edf3dec"
      },
      "execution_count": 10,
      "outputs": [
        {
          "output_type": "execute_result",
          "data": {
            "text/plain": [
              "(25, 1)"
            ]
          },
          "metadata": {},
          "execution_count": 10
        }
      ]
    },
    {
      "cell_type": "code",
      "source": [
        "X"
      ],
      "metadata": {
        "colab": {
          "base_uri": "https://localhost:8080/"
        },
        "id": "nvcalUWoOc1r",
        "outputId": "dcac12ad-eac5-49df-fbb6-ceb611886b00"
      },
      "execution_count": 11,
      "outputs": [
        {
          "output_type": "execute_result",
          "data": {
            "text/plain": [
              "array([[ 3],\n",
              "       [ 8],\n",
              "       [ 3],\n",
              "       [ 5],\n",
              "       [35],\n",
              "       [42],\n",
              "       [18],\n",
              "       [14],\n",
              "       [23],\n",
              "       [13],\n",
              "       [16],\n",
              "       [18],\n",
              "       [44],\n",
              "       [22],\n",
              "       [44],\n",
              "       [ 7],\n",
              "       [ 5],\n",
              "       [ 8],\n",
              "       [11],\n",
              "       [ 6],\n",
              "       [52],\n",
              "       [27],\n",
              "       [26],\n",
              "       [11],\n",
              "       [ 5]])"
            ]
          },
          "metadata": {},
          "execution_count": 11
        }
      ]
    },
    {
      "cell_type": "code",
      "source": [
        "#training model\n",
        "from sklearn.linear_model import LinearRegression #MEMANGGIL MODEL REGRESI LINEAR\n",
        "\n",
        "model = LinearRegression() #VARIABLE MODEL BISA DIGANTI\n",
        "model.fit(X, Y) #X feature , y target\n",
        "#(PROSES NILAI X) --> = Y (TARGET)\n",
        "\n",
        "#menjadi training model"
      ],
      "metadata": {
        "colab": {
          "base_uri": "https://localhost:8080/"
        },
        "id": "sqaAC37JOlVq",
        "outputId": "42abc9cc-78bf-4ee1-b97e-6193c7389a62"
      },
      "execution_count": 12,
      "outputs": [
        {
          "output_type": "execute_result",
          "data": {
            "text/plain": [
              "LinearRegression()"
            ]
          },
          "metadata": {},
          "execution_count": 12
        }
      ]
    },
    {
      "cell_type": "code",
      "source": [
        "X_vis = np.array([0, 15000000]).reshape(-1, 1) #pembuat garis merah dari X\n",
        "Y_vis = model.predict(X_vis) #MODEL MACHINE LEARNING"
      ],
      "metadata": {
        "id": "CBjYW_2wOoqa"
      },
      "execution_count": 13,
      "outputs": []
    },
    {
      "cell_type": "code",
      "source": [
        "plt.scatter(X, Y)\n",
        "plt.plot(X_vis, Y_vis, '-r')\n",
        "plt.title('indeks kesejahteraan warga')\n",
        "plt.xlabel('omzet')\n",
        "plt.ylabel('volume')\n",
        "plt.xlim(0, 52)\n",
        "plt.ylim(0, 14700000)\n",
        "plt.grid(True)\n",
        "plt.show()"
      ],
      "metadata": {
        "colab": {
          "base_uri": "https://localhost:8080/",
          "height": 295
        },
        "id": "dZDf-nLHOssT",
        "outputId": "f6f8e9ff-44c6-440f-9a5d-53d89fb949ff"
      },
      "execution_count": 14,
      "outputs": [
        {
          "output_type": "display_data",
          "data": {
            "text/plain": [
              "<Figure size 432x288 with 1 Axes>"
            ],
            "image/png": "[encoded data removed]"
          },
          "metadata": {
            "needs_background": "light"
          }
        }
      ]
    },
    {
      "cell_type": "code",
      "source": [
        "print(f'intercept : {model.intercept_}')\n",
        "print(f'slope : {model.coef_}')\n",
        "# alpha = Intercept merupakan tiitk dari sumbu Y garis linier nilai X ketika 0\n",
        "# beta = nilai slope berpengaruh terhadap kemiringan garis linier yang terbentuk"
      ],
      "metadata": {
        "colab": {
          "base_uri": "https://localhost:8080/"
        },
        "id": "vC1qIYaTvpXj",
        "outputId": "55a4e8b0-c1d2-4ab4-821d-0dd0e0fe71c1"
      },
      "execution_count": 15,
      "outputs": [
        {
          "output_type": "stream",
          "name": "stdout",
          "text": [
            "intercept : -335778.37051406037\n",
            "slope : [272144.76236663]\n"
          ]
        }
      ]
    },
    {
      "cell_type": "code",
      "source": [
        "#Prediksi Sample Data\n",
        "jml_penduduk = np.array([700, 950, 1100]).reshape(-1, 1)\n",
        "jml_penduduk"
      ],
      "metadata": {
        "colab": {
          "base_uri": "https://localhost:8080/"
        },
        "id": "sA0HGY5Gv0Xc",
        "outputId": "5973e01b-8637-4711-afc1-422fa71a05db"
      },
      "execution_count": 16,
      "outputs": [
        {
          "output_type": "execute_result",
          "data": {
            "text/plain": [
              "array([[ 700],\n",
              "       [ 950],\n",
              "       [1100]])"
            ]
          },
          "metadata": {},
          "execution_count": 16
        }
      ]
    },
    {
      "cell_type": "code",
      "source": [
        "prediksi_indeks = model.predict(jml_penduduk)\n",
        "prediksi_indeks"
      ],
      "metadata": {
        "colab": {
          "base_uri": "https://localhost:8080/"
        },
        "id": "kBTocCdGv6b9",
        "outputId": "017f3a76-01c7-4dd8-c5b5-35c47a2585b2"
      },
      "execution_count": 17,
      "outputs": [
        {
          "output_type": "execute_result",
          "data": {
            "text/plain": [
              "array([1.90165555e+08, 2.58201746e+08, 2.99023460e+08])"
            ]
          },
          "metadata": {},
          "execution_count": 17
        }
      ]
    },
    {
      "cell_type": "code",
      "source": [
        "for penduduk, index in zip(jml_penduduk, prediksi_indeks):\n",
        "  print(f'omzet : {penduduk} prediksi indeks : {index}z')\n",
        "  "
      ],
      "metadata": {
        "colab": {
          "base_uri": "https://localhost:8080/"
        },
        "id": "abkzPZJ1v_tu",
        "outputId": "7af89c8e-c8b4-4601-e851-89c2cf45eae5"
      },
      "execution_count": 18,
      "outputs": [
        {
          "output_type": "stream",
          "name": "stdout",
          "text": [
            "omzet : [700] prediksi indeks : 190165555.28612983z\n",
            "omzet : [950] prediksi indeks : 258201745.8777884z\n",
            "omzet : [1100] prediksi indeks : 299023460.23278356z\n"
          ]
        }
      ]
    }
  ]
}